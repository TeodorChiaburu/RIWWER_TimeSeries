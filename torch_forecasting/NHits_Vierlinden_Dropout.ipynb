{
 "cells": [
  {
   "cell_type": "markdown",
   "metadata": {
    "collapsed": true,
    "pycharm": {
     "name": "#%% md\n"
    }
   },
   "source": [
    "Time Series Forecast with NHiTS on the Vierlinden dataset (all sensors, 2021)"
   ]
  },
  {
   "cell_type": "code",
   "execution_count": 1,
   "outputs": [
    {
     "name": "stderr",
     "output_type": "stream",
     "text": [
      "Global seed set to 42\n"
     ]
    },
    {
     "data": {
      "text/plain": "42"
     },
     "execution_count": 1,
     "metadata": {},
     "output_type": "execute_result"
    }
   ],
   "source": [
    "import sys\n",
    "sys.path.append('./pytorch-forecasting/')\n",
    "import pandas as pd\n",
    "import torch\n",
    "import lightning.pytorch as pl\n",
    "from pytorch_forecasting import NHiTS, TimeSeriesDataSet\n",
    "from pytorch_forecasting.data import NaNLabelEncoder\n",
    "pl.seed_everything(42)"
   ],
   "metadata": {
    "collapsed": false,
    "pycharm": {
     "name": "#%%\n"
    }
   }
  },
  {
   "cell_type": "markdown",
   "source": [
    "### Load dataset"
   ],
   "metadata": {
    "collapsed": false
   }
  },
  {
   "cell_type": "code",
   "execution_count": 2,
   "outputs": [],
   "source": [
    "# Read the dataset into a DataFrame\n",
    "data = pd.read_csv('./RIWWER/Vierlinden/Vierlinden_2021_All.csv')\n",
    "\n",
    "# Drop columns that have lots of missing values\n",
    "data.drop([\"FLP_Hohenstand_Pumpensumpf_pval\",\"FLP_Strom_P3_pval\",\"FLP_Strom_P4_pval\",\"FLP_Strom_P5_pval\",\"Durchfluss SWP1 und SWP2_pval\",\"FLP_Hohenstand_Becken1_pval\",\"FLP_Hohenstand_Becken3_pval\",\"FLP_Hohenstand_Beckne2_pval\"], axis=1, inplace=True)\n",
    "\n",
    "# NaNs are not allowed by the model\n",
    "data.fillna(method=\"bfill\", inplace=True)\n",
    "data.fillna(method=\"ffill\", inplace=True)\n",
    "\n",
    "# Set Datetime as index\n",
    "data['Datetime'] = pd.to_datetime(data['Datetime'])\n",
    "\n",
    "# One time series for the whole year?\n",
    "data['series'] = 0\n",
    "\n",
    "# As many timesteps per timeseries as hours in every month?\n",
    "time_idx = []\n",
    "for i in range(1):\n",
    "    timesteps = len( data[ data['series'] == i ] )\n",
    "    time_idx += list(range(timesteps))\n",
    "data['time_idx'] = time_idx"
   ],
   "metadata": {
    "collapsed": false,
    "pycharm": {
     "name": "#%%\n"
    }
   }
  },
  {
   "cell_type": "code",
   "execution_count": 3,
   "outputs": [
    {
     "data": {
      "text/plain": "             Datetime  Schieber Position_pval  Oberwasser_pval  \\\n0 2021-01-01 00:00:00                   100.0         8.140845   \n1 2021-01-01 01:00:00                   100.0         8.000000   \n2 2021-01-01 02:00:00                   100.0         7.967742   \n3 2021-01-01 03:00:00                   100.0         7.076923   \n4 2021-01-01 04:00:00                   100.0         8.464789   \n\n   Unterwasser_pval  Durchflumenge_pval  Berechnete Durchflussmenge_pval  \\\n0          5.753623            7.689189                         7.732558   \n1          5.173913            6.808219                         8.271739   \n2          5.000000            5.813333                         7.197674   \n3          4.843750            4.216216                         4.743243   \n4          5.466667            8.384615                         8.325000   \n\n   Fllstand SWS_pval  Fllstand RWS_pval  Strom P1_pval  Strom P2_pval  ...  \\\n0          75.717949               36.0       1.076923            0.0  ...   \n1          75.717949               36.0       1.076923            0.0  ...   \n2          75.717949               36.0       1.076923            0.0  ...   \n3          75.717949               36.0       1.076923            0.0  ...   \n4          75.717949               36.0       1.076923            0.0  ...   \n\n   Strom Pumpe 2_pval1  Strom Pumpe 3_pval  Niederschlag  Füllstand_RRB  \\\n0                  0.0                 1.0      0.000000           1.47   \n1                  0.0                 1.0      1.182353           1.47   \n2                  0.0                 1.0      1.182353           1.47   \n3                  0.0                 1.0      1.182353           1.47   \n4                  0.0                 1.0      1.182353           1.47   \n\n   Entleerung_RüB  Füllstand_RüB_1  Füllstand_RüB_2  Füllstand_RüB_3  series  \\\n0           0.098             3.16             3.08             2.72       0   \n1           0.099             3.16             3.08             2.72       0   \n2           0.096             3.16             3.08             2.72       0   \n3           0.098             3.16             3.08             2.72       0   \n4           0.098             3.16             3.08             2.72       0   \n\n   time_idx  \n0         0  \n1         1  \n2         2  \n3         3  \n4         4  \n\n[5 rows x 29 columns]",
      "text/html": "<div>\n<style scoped>\n    .dataframe tbody tr th:only-of-type {\n        vertical-align: middle;\n    }\n\n    .dataframe tbody tr th {\n        vertical-align: top;\n    }\n\n    .dataframe thead th {\n        text-align: right;\n    }\n</style>\n<table border=\"1\" class=\"dataframe\">\n  <thead>\n    <tr style=\"text-align: right;\">\n      <th></th>\n      <th>Datetime</th>\n      <th>Schieber Position_pval</th>\n      <th>Oberwasser_pval</th>\n      <th>Unterwasser_pval</th>\n      <th>Durchflumenge_pval</th>\n      <th>Berechnete Durchflussmenge_pval</th>\n      <th>Fllstand SWS_pval</th>\n      <th>Fllstand RWS_pval</th>\n      <th>Strom P1_pval</th>\n      <th>Strom P2_pval</th>\n      <th>...</th>\n      <th>Strom Pumpe 2_pval1</th>\n      <th>Strom Pumpe 3_pval</th>\n      <th>Niederschlag</th>\n      <th>Füllstand_RRB</th>\n      <th>Entleerung_RüB</th>\n      <th>Füllstand_RüB_1</th>\n      <th>Füllstand_RüB_2</th>\n      <th>Füllstand_RüB_3</th>\n      <th>series</th>\n      <th>time_idx</th>\n    </tr>\n  </thead>\n  <tbody>\n    <tr>\n      <th>0</th>\n      <td>2021-01-01 00:00:00</td>\n      <td>100.0</td>\n      <td>8.140845</td>\n      <td>5.753623</td>\n      <td>7.689189</td>\n      <td>7.732558</td>\n      <td>75.717949</td>\n      <td>36.0</td>\n      <td>1.076923</td>\n      <td>0.0</td>\n      <td>...</td>\n      <td>0.0</td>\n      <td>1.0</td>\n      <td>0.000000</td>\n      <td>1.47</td>\n      <td>0.098</td>\n      <td>3.16</td>\n      <td>3.08</td>\n      <td>2.72</td>\n      <td>0</td>\n      <td>0</td>\n    </tr>\n    <tr>\n      <th>1</th>\n      <td>2021-01-01 01:00:00</td>\n      <td>100.0</td>\n      <td>8.000000</td>\n      <td>5.173913</td>\n      <td>6.808219</td>\n      <td>8.271739</td>\n      <td>75.717949</td>\n      <td>36.0</td>\n      <td>1.076923</td>\n      <td>0.0</td>\n      <td>...</td>\n      <td>0.0</td>\n      <td>1.0</td>\n      <td>1.182353</td>\n      <td>1.47</td>\n      <td>0.099</td>\n      <td>3.16</td>\n      <td>3.08</td>\n      <td>2.72</td>\n      <td>0</td>\n      <td>1</td>\n    </tr>\n    <tr>\n      <th>2</th>\n      <td>2021-01-01 02:00:00</td>\n      <td>100.0</td>\n      <td>7.967742</td>\n      <td>5.000000</td>\n      <td>5.813333</td>\n      <td>7.197674</td>\n      <td>75.717949</td>\n      <td>36.0</td>\n      <td>1.076923</td>\n      <td>0.0</td>\n      <td>...</td>\n      <td>0.0</td>\n      <td>1.0</td>\n      <td>1.182353</td>\n      <td>1.47</td>\n      <td>0.096</td>\n      <td>3.16</td>\n      <td>3.08</td>\n      <td>2.72</td>\n      <td>0</td>\n      <td>2</td>\n    </tr>\n    <tr>\n      <th>3</th>\n      <td>2021-01-01 03:00:00</td>\n      <td>100.0</td>\n      <td>7.076923</td>\n      <td>4.843750</td>\n      <td>4.216216</td>\n      <td>4.743243</td>\n      <td>75.717949</td>\n      <td>36.0</td>\n      <td>1.076923</td>\n      <td>0.0</td>\n      <td>...</td>\n      <td>0.0</td>\n      <td>1.0</td>\n      <td>1.182353</td>\n      <td>1.47</td>\n      <td>0.098</td>\n      <td>3.16</td>\n      <td>3.08</td>\n      <td>2.72</td>\n      <td>0</td>\n      <td>3</td>\n    </tr>\n    <tr>\n      <th>4</th>\n      <td>2021-01-01 04:00:00</td>\n      <td>100.0</td>\n      <td>8.464789</td>\n      <td>5.466667</td>\n      <td>8.384615</td>\n      <td>8.325000</td>\n      <td>75.717949</td>\n      <td>36.0</td>\n      <td>1.076923</td>\n      <td>0.0</td>\n      <td>...</td>\n      <td>0.0</td>\n      <td>1.0</td>\n      <td>1.182353</td>\n      <td>1.47</td>\n      <td>0.098</td>\n      <td>3.16</td>\n      <td>3.08</td>\n      <td>2.72</td>\n      <td>0</td>\n      <td>4</td>\n    </tr>\n  </tbody>\n</table>\n<p>5 rows × 29 columns</p>\n</div>"
     },
     "execution_count": 3,
     "metadata": {},
     "output_type": "execute_result"
    }
   ],
   "source": [
    "data.head()"
   ],
   "metadata": {
    "collapsed": false,
    "pycharm": {
     "name": "#%%\n"
    }
   }
  },
  {
   "cell_type": "code",
   "execution_count": 4,
   "outputs": [],
   "source": [
    "# Parameters for dataloaders\n",
    "max_encoder_length = 24*2\n",
    "max_prediction_length = 5*2\n",
    "training_cutoff = data[\"time_idx\"].max() * 4 // 5 # 80% for training\n",
    "context_length = max_encoder_length\n",
    "prediction_length = max_prediction_length\n",
    "batch_size = 32"
   ],
   "metadata": {
    "collapsed": false,
    "pycharm": {
     "name": "#%%\n"
    }
   }
  },
  {
   "cell_type": "code",
   "execution_count": 5,
   "outputs": [
    {
     "name": "stderr",
     "output_type": "stream",
     "text": [
      "/home/tchiaburu/anaconda3/envs/torch_gpu_riwwer_new/lib/python3.11/site-packages/lightning/pytorch/utilities/parsing.py:196: UserWarning: Attribute 'loss' is an instance of `nn.Module` and is already saved during checkpointing. It is recommended to ignore them using `self.save_hyperparameters(ignore=['loss'])`.\n",
      "  rank_zero_warn(\n",
      "/home/tchiaburu/anaconda3/envs/torch_gpu_riwwer_new/lib/python3.11/site-packages/lightning/pytorch/utilities/parsing.py:196: UserWarning: Attribute 'logging_metrics' is an instance of `nn.Module` and is already saved during checkpointing. It is recommended to ignore them using `self.save_hyperparameters(ignore=['logging_metrics'])`.\n",
      "  rank_zero_warn(\n"
     ]
    }
   ],
   "source": [
    "# Load best model (from NHits_Vierlinden_Train.ipynb)\n",
    "best_model_path = './RIWWER/torch_forecasting/model_checkpoints/NHits_Vierlinden_saved_datasets/lightning_logs/version_2/checkpoints/epoch=14-step=2250.ckpt'\n",
    "best_model = NHiTS.load_from_checkpoint(best_model_path)"
   ],
   "metadata": {
    "collapsed": false,
    "pycharm": {
     "name": "#%%\n"
    }
   }
  },
  {
   "cell_type": "markdown",
   "source": [
    "### Corrupt sensor clusters"
   ],
   "metadata": {
    "collapsed": false
   }
  },
  {
   "cell_type": "code",
   "execution_count": 6,
   "outputs": [],
   "source": [
    "# Sensor clusters\n",
    "# Weather and rain tanks: ['Niederschlag', 'Füllstand_RRB', 'Füllstand_RüB_1', 'Füllstand_RüB_2', 'Füllstand_RüB_3']\n",
    "sensors = {\n",
    "    \"Herzogstr\":     ['Schieber Position_pval', 'Oberwasser_pval', 'Unterwasser_pval', 'Durchflumenge_pval', 'Berechnete Durchflussmenge_pval'],\n",
    "    \"Kaiserstr\":     ['Fllstand SWS_pval', 'Fllstand RWS_pval', 'Strom P1_pval', 'Strom P2_pval', 'Strom P3_pval', 'Strom P4_pval', 'Strom P5_pval', 'Strom P6_pval'],\n",
    "    \"Kreuzweg\":      ['Fllstand Pumpensumpf_pval', 'Strom Pumpe 1_pval', 'Strom Pumpe 2_pval'],\n",
    "    \"Vierlindenhof\": ['Fllstand Pumpensumpf_pval1', 'Strom Pumpe 1_pval1', 'Strom Pumpe 2_pval1', 'Strom Pumpe 3_pval']\n",
    "}"
   ],
   "metadata": {
    "collapsed": false,
    "pycharm": {
     "name": "#%%\n"
    }
   }
  },
  {
   "cell_type": "code",
   "execution_count": 7,
   "outputs": [
    {
     "name": "stdout",
     "output_type": "stream",
     "text": [
      "\n",
      "\n",
      "++++++++++ Turning off Herzogstr ++++++++++\n",
      "\n"
     ]
    },
    {
     "name": "stderr",
     "output_type": "stream",
     "text": [
      "/home/tchiaburu/anaconda3/envs/torch_gpu_riwwer_new/lib/python3.11/site-packages/sklearn/base.py:464: UserWarning: X does not have valid feature names, but StandardScaler was fitted with feature names\n",
      "  warnings.warn(\n",
      "/home/tchiaburu/anaconda3/envs/torch_gpu_riwwer_new/lib/python3.11/site-packages/sklearn/base.py:464: UserWarning: X does not have valid feature names, but StandardScaler was fitted with feature names\n",
      "  warnings.warn(\n",
      "/home/tchiaburu/anaconda3/envs/torch_gpu_riwwer_new/lib/python3.11/site-packages/sklearn/base.py:464: UserWarning: X does not have valid feature names, but StandardScaler was fitted with feature names\n",
      "  warnings.warn(\n",
      "/home/tchiaburu/anaconda3/envs/torch_gpu_riwwer_new/lib/python3.11/site-packages/sklearn/base.py:464: UserWarning: X does not have valid feature names, but StandardScaler was fitted with feature names\n",
      "  warnings.warn(\n",
      "/home/tchiaburu/anaconda3/envs/torch_gpu_riwwer_new/lib/python3.11/site-packages/sklearn/base.py:464: UserWarning: X does not have valid feature names, but StandardScaler was fitted with feature names\n",
      "  warnings.warn(\n"
     ]
    }
   ],
   "source": [
    "# Turn off sensors iteratively according to the cluster location\n",
    "for cluster in sensors:\n",
    "    print(\"\\n\\n++++++++++ Turning off \" + cluster + \" ++++++++++\\n\")\n",
    "\n",
    "    ### Create Dataloader for corrupted dataset ###\n",
    "    validation = TimeSeriesDataSet(\n",
    "        data[lambda x: x.time_idx > training_cutoff],\n",
    "        target_normalizer=\"auto\",\n",
    "        time_idx=\"time_idx\",\n",
    "        target=\"Entleerung_RüB\",\n",
    "        categorical_encoders={\"series\": NaNLabelEncoder().fit(data.series)},\n",
    "        group_ids=[\"series\"],\n",
    "        time_varying_unknown_reals=list(set(data.columns) - {'Datetime', 'series', 'time_idx'}),\n",
    "        max_encoder_length=context_length,\n",
    "        min_encoder_length=max_encoder_length,\n",
    "        max_prediction_length=prediction_length,\n",
    "        min_prediction_length=max_prediction_length,\n",
    "        allow_missing_timesteps=True\n",
    "    )\n",
    "    loaded_validation = validation.load('./RIWWER/Vierlinden/val_set')\n",
    "\n",
    "    # Note: After replacing the feature with zeros, the TimeSeriesDataset applies 'transform_values'\n",
    "    #       which leads to all the values in that column being replaced not by 0, but by another rescaled value\n",
    "    #       You may want to comment that line out in timeseries.py\n",
    "    for column in sensors[cluster]:\n",
    "        loaded_validation.set_overwrite_values(0.0, column, 'all')\n",
    "    # TODO: only one single value can be overwritten now.\n",
    "\n",
    "    val_dataloader = loaded_validation.to_dataloader(train=False, batch_size=batch_size, num_workers=18)\n",
    "    break\n",
    "    ### Make prediction and evaluate ###\n",
    "    actuals = torch.cat([y[0] for x, y in iter(val_dataloader)]).to(torch.device('cuda:0'))\n",
    "    predictions = best_model.predict(val_dataloader,\n",
    "                                     trainer_kwargs=dict(default_root_dir=\"./RIWWER/torch_forecasting/model_checkpoints/NHits_Vierlinden_saved_datasets\"))\n",
    "    err = actuals - predictions\n",
    "    mae = err.abs().mean()\n",
    "    print('MAE = ' + str(mae))\n",
    "    rmse = torch.sqrt( torch.square(err).mean() )\n",
    "    print('RMSE = ' + str(rmse))"
   ],
   "metadata": {
    "collapsed": false,
    "pycharm": {
     "name": "#%%\n"
    }
   }
  },
  {
   "cell_type": "code",
   "execution_count": 8,
   "outputs": [
    {
     "name": "stdout",
     "output_type": "stream",
     "text": [
      "tensor([ 0.0927, -1.2365, -0.1461, -0.2922, -0.0663,  0.1037, -0.4271, -0.0533,\n",
      "        -0.5470, -0.6442, -0.2640, -0.2755, -0.3890, -0.1162, -0.0157, -0.3383,\n",
      "        -0.1735, -0.0268, -0.0575,  0.0293, -0.4598, -0.3833, -0.5429, -0.3601,\n",
      "        -0.0550, -1.0269])\n",
      "tensor([-0.2787,  0.0594, -0.1461, -0.2922, -0.0663,  0.1037, -0.4086, -0.0533,\n",
      "         0.0884, -0.6442, -0.2561, -0.1342, -0.3890, -0.1162, -0.1533, -0.0316,\n",
      "        -0.1735, -0.0268, -0.0575,  0.0293, -0.0612, -0.3833, -0.5429, -0.3601,\n",
      "        -0.0550, -0.0829])\n",
      "tensor([-0.5579, -0.1614, -0.1461, -0.2922, -0.0663, -0.0877, -0.4448, -0.0533,\n",
      "         0.4572, -0.6442, -0.2561,  0.0747, -0.3792, -0.1162, -0.4164, -0.0828,\n",
      "        -0.1735, -0.0268, -0.0575,  0.0293,  0.1880, -0.3833, -0.5429, -0.3601,\n",
      "        -0.0550, -0.6139])\n",
      "tensor([-0.6836, -0.2654, -0.1461, -0.2922, -0.0663, -0.0877, -0.3593, -0.0533,\n",
      "         0.1006, -0.6442, -0.2561, -0.0879, -0.3695, -0.1076, -0.1362, -0.3383,\n",
      "        -0.1735, -0.0268, -0.0575,  0.0293, -0.0304, -0.3763, -0.5429, -0.3601,\n",
      "        -0.0550, -0.9974])\n",
      "tensor([-0.7465,  0.8234, -0.1461, -0.2922, -0.0663, -0.0877, -0.4430, -0.0533,\n",
      "         0.2858, -0.6442, -0.3753,  0.0316, -0.7889, -0.4964,  0.6797, -0.3383,\n",
      "        -0.1735, -0.0268, -0.0575,  0.0293,  0.0298, -0.4816,  0.1993, -0.3601,\n",
      "        -0.0550, -0.0632])\n",
      "tensor([ 0.1051,  0.0000, -0.1461, -0.2922, -0.0663, -0.0877, -0.4879, -0.0533,\n",
      "        -0.0196, -0.6442, -0.6932, -0.2053, -1.1107, -1.1790, -0.1744, -0.3383,\n",
      "        -0.1735, -0.0268, -0.0575,  0.0293,  0.2227, -1.1485,  1.1913, -0.3601,\n",
      "        -0.0550, -0.2304])\n",
      "tensor([-0.4043,  0.0000, -0.1461, -0.2922, -0.0663, -0.2790, -0.4254, -0.0533,\n",
      "        -0.1335, -0.6442, -0.6932, -0.1227, -1.1107, -1.1790,  1.1009, -0.3383,\n",
      "        -0.1735, -0.0268, -0.0575,  0.0293,  0.0172, -1.1485,  1.1000, -0.3601,\n",
      "        -0.0550, -0.8794])\n",
      "tensor([ 0.3049,  0.0000, -0.1461, -0.2922, -0.0663, -0.2790, -0.4360, -0.0533,\n",
      "        -0.0550, -0.6442, -0.6932, -0.2503, -1.1107, -1.1790, -0.0593, -0.3383,\n",
      "        -0.1735, -0.0268, -0.0575,  0.0293,  0.3055, -1.1485, -0.5429,  0.1884,\n",
      "        -0.0550, -0.4664])\n",
      "tensor([ 0.4104,  0.0000, -0.1461,  0.6117, -0.0663, -0.2790, -0.4582, -0.0533,\n",
      "        -0.0681, -0.6442, -0.6932, -0.2634, -1.1107, -1.1790, -0.6512, -0.3383,\n",
      "        -0.1735, -0.0268, -0.0575,  0.0293, -0.0360, -1.1485, -0.5429, -0.3601,\n",
      "        -0.0550, -0.7111])\n",
      "tensor([-0.5309,  0.0000, -0.1461, -0.2922, -0.0663, -0.2790, -0.4280, -0.0533,\n",
      "         0.1098, -0.6442, -0.6932, -0.0450, -1.1107, -1.1790,  0.3673,  0.1089,\n",
      "        -0.1735, -0.0268, -0.0575,  0.0293,  0.4924, -1.1485, -0.5429, -0.3601,\n",
      "        -0.0550, -0.8106])\n",
      "tensor([-0.1419,  0.0000,  0.4224, -0.2922, -0.0663, -0.2790,  2.7209, -0.0533,\n",
      "        -0.1087, -0.6442, -0.6932, -0.2550, -1.1107, -1.1790, -0.4317,  0.7924,\n",
      "         1.1106, -0.0268, -0.0575,  0.0293, -0.1697, -1.1485, -0.5429, -0.3601,\n",
      "        -0.0550, -1.2334])\n",
      "tensor([ 0.3356, -0.3868,  0.4034, -0.2922, -0.0663, -0.2790,  2.6832, -0.0533,\n",
      "        -0.0343, -0.6442, -0.6932, -0.1801, -1.1107, -1.1790, -0.8482, -0.3383,\n",
      "         0.4798, -0.0268, -0.0575,  0.0293, -0.0886, -1.1485, -0.5429, -0.3601,\n",
      "        -0.0550, -1.2334])\n",
      "tensor([-5.2919e-04, -6.4710e-01, -1.4608e-01, -2.9221e-01, -6.6311e-02,\n",
      "        -2.7904e-01, -4.4251e-01, -5.3260e-02, -4.3978e-01, -6.4416e-01,\n",
      "        -1.9248e-01, -2.0643e-01, -5.5479e-01, -2.0263e-01,  6.2046e-01,\n",
      "        -3.3832e-01, -1.7347e-01, -2.6812e-02, -5.7474e-02,  2.9339e-02,\n",
      "        -4.1843e-01, -3.9737e-01,  1.1000e+00, -3.6010e-01, -5.4952e-02,\n",
      "        -3.3339e-01])\n",
      "tensor([-0.2926, -0.5533, -0.1461, -0.2922, -0.0663, -0.2790, -0.4568, -0.0533,\n",
      "         0.1547, -0.6442, -0.2640, -0.1435, -0.5548, -0.1249, -0.3315, -0.3383,\n",
      "        -0.1735, -0.0268, -0.0575,  0.0293,  0.0138, -0.3833, -0.5429, -0.3601,\n",
      "        -0.0550, -0.0334])\n",
      "tensor([-0.0807,  0.4667, -0.1461,  0.6117, -0.0663, -0.2790, -0.4360, -0.0533,\n",
      "         0.0635, -0.6442, -0.2640, -0.1912, -0.5548, -0.1249,  0.1059, -0.3383,\n",
      "        -0.1735, -0.0268, -0.0575,  0.0293, -0.0761, -0.3833, -0.5429, -0.3601,\n",
      "        -0.0550, -0.2894])\n",
      "tensor([ 0.4993,  0.8134, -0.1461,  0.0091, -0.0663, -0.2790, -0.3857, -0.0533,\n",
      "        -0.4088, -0.6442, -0.2640, -0.1874, -0.5548, -0.1249,  1.0599, -0.3383,\n",
      "        -0.1735, -0.0268, -0.0575,  0.0293, -0.3546, -0.3833, -0.5429, -0.3601,\n",
      "        -0.0550, -0.5844])\n",
      "tensor([ 0.1268, -0.9693, -0.1461, -0.2922, -0.0663, -0.2790, -0.4219, -0.0533,\n",
      "        -0.0082, -0.6442, -0.2561, -0.1896, -0.5255, -0.1162, -0.7479, -0.3383,\n",
      "        -0.1735, -0.0268, -0.0575,  0.0293, -0.0919, -0.3833,  1.1913, -0.3601,\n",
      "        -0.0550,  0.2925])\n",
      "tensor([-0.1823,  1.6385, -0.1461, -0.2922, -0.0663, -0.2790, -0.4034, -0.0533,\n",
      "        -0.1115, -0.6442, -0.2561, -0.0735, -0.5255, -0.1162,  0.0577, -0.3383,\n",
      "        -0.1735, -0.0268, -0.0575,  0.0293, -0.1540, -0.3833,  1.1913, -0.3601,\n",
      "        -0.0550, -0.2894])\n",
      "tensor([ 0.4274, -1.3625, -0.1461, -0.2922, -0.0663, -0.2790, -0.4064, -0.0533,\n",
      "        -0.4708, -0.6442, -0.2561, -0.2248, -0.5255, -0.1162, -1.1125, -0.3383,\n",
      "        -0.1735, -0.0268, -0.0575,  0.0293, -0.4144, -0.3833,  0.5703,  0.2517,\n",
      "        -0.0550, -0.8337])\n",
      "tensor([ 0.2624, -2.5770, -0.1461, -0.2922, -0.0663, -0.2790, -0.4166, -0.0533,\n",
      "        -0.0600, -0.6442, -0.2561, -0.1023, -0.5255, -0.1162, -0.2234, -0.3383,\n",
      "        -0.1735, -0.0268, -0.0575,  0.0293, -0.1010, -0.3833,  1.0342, -0.3601,\n",
      "        -0.0550, -0.3484])\n",
      "tensor([ 0.2617,  1.0320, -0.1461,  0.4611, -0.0663, -0.2790, -0.4305, -0.0533,\n",
      "         0.0314, -0.6442, -0.2561, -0.0363, -0.5158, -0.1162, -0.1252, -0.3383,\n",
      "        -0.1735, -0.0268, -0.0575,  0.0293, -0.1208, -0.3763, -0.5429, -0.3601,\n",
      "        -0.0550, -0.1271])\n",
      "tensor([-0.2298, -0.1884, -0.1461, -0.2922, -0.0663, -0.2790, -0.4227, -0.0533,\n",
      "        -0.3883, -0.6442, -0.2561, -0.2088, -0.5158, -0.1162, -1.3667, -0.3383,\n",
      "        -0.1735, -0.0268, -0.0575,  0.0293, -0.4475, -0.3763, -0.5429, -0.3601,\n",
      "        -0.0550, -0.8794])\n",
      "tensor([-0.0958, -0.9398, -0.1461, -0.2922, -0.0663, -0.2790, -0.3637, -0.0533,\n",
      "        -0.1610, -0.6442, -0.2561, -0.1356, -0.5158, -0.1162, -0.5606,  0.0024,\n",
      "        -0.1735, -0.0268, -0.0575,  0.0293, -0.2198, -0.3763, -0.5429, -0.1371,\n",
      "        -0.0550, -0.4074])\n",
      "tensor([-0.2775,  1.2671, -0.1461, -0.2922, -0.0663, -0.2790, -0.4183, -0.0533,\n",
      "         0.0762, -0.6442, -0.2481, -0.0505, -0.5158, -0.1162, -0.5571, -0.3383,\n",
      "        -0.1735, -0.0268, -0.0575,  0.0293, -0.1134, -0.3763,  1.1913, -0.3601,\n",
      "        -0.0550, -0.6434])\n",
      "tensor([-0.4040, -1.8546, -0.1461, -0.2922, -0.0663, -0.2790, -0.3989, -0.0533,\n",
      "        -0.2782, -0.6442, -0.2481, -0.1585, -0.5158, -0.1162,  0.1486, -0.3383,\n",
      "        -0.1735, -0.0268, -0.0575,  0.0293, -0.4193, -0.3763, -0.5429, -0.3601,\n",
      "        -0.0550, -0.8204])\n",
      "tensor([-0.0581,  1.1497, -0.1461, -0.2922, -0.0663, -0.2790, -0.4007, -0.0533,\n",
      "        -0.0603, -0.6442, -0.2481, -0.1156, -0.5060, -0.1162,  0.6240, -0.3383,\n",
      "        -0.1735, -0.0268, -0.0575,  0.0293, -0.1673, -0.3763, -0.5429,  0.1884,\n",
      "        -0.0550, -0.6336])\n",
      "tensor([-0.4505,  2.9356, -0.1461, -0.2922, -0.0663, -0.2790,  2.7378, -0.0533,\n",
      "         0.5796, -0.6442, -0.2481,  0.2061, -0.5060, -0.1076, -0.7819,  2.0981,\n",
      "         0.4739, -0.0268, -0.0575,  0.0293,  0.2329, -0.3763, -0.5429, -0.3601,\n",
      "        -0.0550, -1.2334])\n",
      "tensor([ 0.4941, -1.6699, -0.1461, -0.2922, -0.0663, -0.2790, -0.3963, -0.0533,\n",
      "        -0.4224, -0.6442, -0.2481, -0.1923, -0.4963, -0.1076,  0.3379, -0.3383,\n",
      "        -0.1735, -0.0268, -0.0575,  0.0293, -0.4651, -0.3763, -0.5429, -0.3601,\n",
      "        -0.0550, -0.2599])\n",
      "tensor([ 0.0087, -0.5021, -0.1461, -0.2922, -0.0663, -0.2790, -0.4183, -0.0533,\n",
      "         0.1004, -0.6442, -0.2481, -0.0776, -0.4865, -0.1076,  0.5700, -0.3383,\n",
      "        -0.1735, -0.0268, -0.0575,  0.0293, -0.2043, -0.3763,  1.1913,  0.3089,\n",
      "        -0.0550, -0.1124])\n",
      "tensor([-0.3959,  1.2277, -0.1461,  0.6117, -0.0663, -0.2790, -0.4456, -0.0533,\n",
      "         0.5124, -0.6442, -0.2481,  0.1673, -0.4865, -0.1076, -0.5121, -0.3383,\n",
      "        -0.1735, -0.0268, -0.0575,  0.0293,  0.0479, -0.3763, -0.5429, -0.3601,\n",
      "        -0.0550, -0.2304])\n",
      "tensor([-0.0909, -1.2198, -0.1461, -0.2922, -0.0663, -0.2790,  1.9022, -0.0533,\n",
      "         1.2807, -0.6442, -0.2402,  0.8601, -0.4768, -0.0989,  0.1301, -0.3383,\n",
      "        -0.1735, -0.0268, -0.0575,  0.0293,  0.9038, -0.3693, -0.5429,  0.2697,\n",
      "        -0.0550,  2.3594])\n",
      "tensor([-0.7659, -0.5028, -0.1461, -0.2922, -0.0663, -0.2790, -0.4597, -0.0533,\n",
      "         0.1257, -0.6442, -0.2402,  0.1109, -0.4670, -0.0989,  0.0525, -0.3383,\n",
      "        -0.1735, -0.0268, -0.0575,  0.0293, -0.0372, -0.3693,  0.1065, -0.3601,\n",
      "        -0.0550, -0.5451])\n",
      "tensor([-0.1656, -0.4809, -0.1461, -0.2922, -0.0663, -0.2790, -0.4148, -0.0533,\n",
      "        -0.0836, -0.6442, -0.2402, -0.0493, -0.4768, -0.0989, -0.5022, -0.3383,\n",
      "        -0.1735, -0.0268, -0.0575,  0.0293, -0.1588, -0.3693, -0.5429, -0.3601,\n",
      "        -0.0550, -0.5844])\n",
      "tensor([-0.5134, -0.4779, -0.1461,  9.0485, -0.0663,  0.0431, -0.2483, -0.0533,\n",
      "         1.0935, -0.6442,  3.8851,  0.6687,  1.2886,  3.7376,  5.7966,  0.0341,\n",
      "        -0.1735, -0.0268, -0.0575,  0.0293,  0.7311,  2.7545, -0.3573,  5.3082,\n",
      "        -0.0550,  1.0087])\n",
      "tensor([-0.2132, -0.3724, -0.1461, -0.2922, -0.0663, -0.0877, -0.4562, -0.0533,\n",
      "        -0.0548, -0.6442,  2.7326, -0.1895,  1.2594,  0.0739,  0.1089, -0.3383,\n",
      "        -0.1735, -0.0268, -0.0575,  0.0293, -0.1275, -0.1376,  1.1913,  0.2799,\n",
      "        -0.0550,  0.1236])\n",
      "tensor([ 1.5852e-03,  2.7024e+00, -1.4608e-01, -2.9221e-01, -6.6311e-02,\n",
      "        -2.7904e-01, -4.0424e-01, -5.3260e-02, -1.6100e-01, -6.4416e-01,\n",
      "         2.4469e-01, -2.0379e-01,  1.1716e+00,  4.7999e-01,  5.2421e-01,\n",
      "         2.9697e-02, -1.7347e-01, -2.6812e-02, -5.7474e-02,  2.9339e-02,\n",
      "        -1.8444e-01,  2.4844e-01, -5.4287e-01, -3.6010e-01, -5.4952e-02,\n",
      "        -2.3038e-01])\n",
      "tensor([-0.0901,  1.3936, -0.1461, -0.2922, -0.0663, -0.0877, -0.3611, -0.0533,\n",
      "        -0.3926, -0.6442, -0.1209, -0.2536, -0.1256, -0.0212,  0.9997, -0.3383,\n",
      "        -0.1735, -0.0268, -0.0575,  0.0293, -0.3745, -0.4184, -0.5429, -0.3601,\n",
      "        -0.0550,  0.1236])\n",
      "tensor([-0.1474, -0.7571, -0.1461, -0.2922, -0.0663, -0.2790, -0.3928, -0.0533,\n",
      "        -0.1568, -0.6442, -0.1845, -0.2058, -0.1256, -0.0471, -0.2588,  0.0674,\n",
      "        -0.1735, -0.0268, -0.0575,  0.0293, -0.1581, -0.3272, -0.5429,  0.3417,\n",
      "        -0.0550,  0.1826])\n",
      "tensor([-0.3973, -1.2501, -0.1461, -0.2922, -0.0663, -0.2790, -0.4624, -0.0533,\n",
      "        -0.0638, -0.6442, -0.1766, -0.0818, -0.1256, -0.0385, -0.4701,  0.1005,\n",
      "        -0.1735, -0.0268, -0.0575,  0.0293, -0.1727, -0.3202, -0.5429, -0.3601,\n",
      "        -0.0550, -0.4664])\n",
      "tensor([-0.2560,  0.2712, -0.1461, -0.2922, -0.0663, -0.2790, -0.3314, -0.0533,\n",
      "        -0.4619, -0.6442, -0.1766, -0.2840, -0.1256, -0.0385,  0.5948, -0.3383,\n",
      "        -0.1735, -0.0268, -0.0575,  0.0293, -0.3397, -0.3202, -0.5429, -0.3601,\n",
      "        -0.0550, -0.7195])\n",
      "tensor([ 0.0572, -0.6949, -0.1461, -0.2922, -0.0663, -0.2790, -0.3910, -0.0533,\n",
      "        -0.3141, -0.6442, -0.1766, -0.1873, -0.1256, -0.0385, -0.0101, -0.3383,\n",
      "        -0.1735, -0.0268, -0.0575,  0.0293,  0.1052, -0.3202, -0.5429, -0.3601,\n",
      "        -0.0550, -0.2304])\n",
      "tensor([-0.2388, -1.1700, -0.1461, -0.2922, -0.0663, -0.2790, -0.3773, -0.0533,\n",
      "        -0.0445, -0.6442, -0.1766, -0.1299, -0.1256, -0.0385,  0.4829, -0.3383,\n",
      "        -0.1735, -0.0268, -0.0575,  0.0293, -0.0348, -0.3202,  1.1913,  0.2982,\n",
      "        -0.0550, -0.5620])\n",
      "tensor([ 0.4619,  0.0325, -0.1461, -0.2922, -0.0663, -0.2790, -0.4784, -0.0533,\n",
      "        -0.5051, -0.6442, -0.1686, -0.2750, -0.1159, -0.0385,  0.7573, -0.3383,\n",
      "        -0.1735, -0.0268, -0.0575,  0.0293, -0.4025, -0.3202, -0.5429,  0.4079,\n",
      "        -0.0550, -0.7534])\n",
      "tensor([-0.4409, -1.7919, -0.1461, -0.2922, -0.0663, -0.2790, -0.3932, -0.0533,\n",
      "         0.3269, -0.6442, -0.1686,  0.1020, -0.1159, -0.0298, -0.6779, -0.3383,\n",
      "        -0.1735, -0.0268, -0.0575,  0.0293,  0.2255, -0.3131, -0.5429, -0.3601,\n",
      "        -0.0550, -0.4534])\n",
      "tensor([-0.1743,  0.8378, -0.1461,  0.6117, -0.0663, -0.2790, -0.4122, -0.0533,\n",
      "        -0.1958, -0.6442, -0.1686, -0.1757, -0.1159, -0.0298, -0.0123, -0.3383,\n",
      "        -0.1735, -0.0268, -0.0575,  0.0293, -0.1907, -0.3131,  1.1000, -0.3601,\n",
      "        -0.0550, -0.6729])\n",
      "tensor([ 0.0572,  1.3099, -0.1461, -0.2922, -0.0663, -0.2790, -0.3320, -0.0533,\n",
      "        -0.5064, -0.6442, -0.1686, -0.2669, -0.1159, -0.0298, -0.2555, -0.3383,\n",
      "        -0.1735, -0.0268, -0.0575,  0.0293, -0.3635, -0.3131, -0.5429, -0.3601,\n",
      "        -0.0550, -0.8204])\n",
      "tensor([ 0.4198, -0.4362, -0.1461, -0.2922, -0.0663, -0.2790, -0.4642, -0.0533,\n",
      "        -0.3911, -0.6442, -0.1686, -0.2255, -0.1159, -0.0298, -0.4539, -0.0828,\n",
      "        -0.1735, -0.0268, -0.0575,  0.0293, -0.3042, -0.3131, -0.5429,  0.5541,\n",
      "        -0.0550, -0.5451])\n",
      "tensor([ 0.3684,  1.6495, -0.1461,  0.1672, -0.0663, -0.2790, -0.3852, -0.0533,\n",
      "        -0.0519, -0.6442, -0.1686,  0.0088, -0.1159, -0.0298,  0.4832, -0.0884,\n",
      "        -0.1735, -0.0268, -0.0575,  0.0293, -0.0992, -0.3131, -0.0790, -0.3601,\n",
      "        -0.0550, -0.5334])\n",
      "tensor([ 0.5337, -0.1379, -0.1461, -0.2922, -0.0663, -0.2790, -0.4424, -0.0533,\n",
      "        -0.5813, -0.6442, -0.1686, -0.1093, -0.1159, -0.0298, -0.9484, -0.3383,\n",
      "        -0.1735, -0.0268, -0.0575, -0.8036, -0.5226, -0.3131, -0.5429, -0.3601,\n",
      "        -0.0550, -0.7883])\n",
      "tensor([-0.5802, -0.8462, -0.1461, -0.2922, -0.0663, -0.2790, -0.3905, -0.0533,\n",
      "         0.2698, -0.6442, -0.1686,  0.0737, -0.1159, -0.0298,  0.2454, -0.3383,\n",
      "        -0.1735, -0.0268, -0.0575, -0.8036,  0.0569, -0.3131, -0.5429, -0.3601,\n",
      "        -0.0550, -0.4260])\n",
      "tensor([-0.1810, -0.7350, -0.1461,  0.4611, -0.0663, -0.2790, -0.4456, -0.0533,\n",
      "        -0.0371, -0.6442, -0.1686, -0.0014, -0.1159, -0.0298, -0.0070, -0.0828,\n",
      "        -0.1735, -0.0268, -0.0575, -0.8036, -0.0514, -0.3131, -0.5429, -0.3601,\n",
      "        -0.0550, -0.6041])\n",
      "tensor([-0.7311,  2.8355,  0.4034, -0.2922, -0.0663, -0.2790,  2.7854, -0.0533,\n",
      "         0.2162, -0.6442, -0.1607,  0.0221, -0.1061, -0.0298, -0.6284, -0.3383,\n",
      "        -0.1735, -0.0268, -0.0575, -0.8036,  0.1022, -0.3061, -0.0790,  0.1884,\n",
      "        -0.0550, -1.2334])\n",
      "tensor([-0.0137, -1.5036,  0.4085, -0.2922, -0.0663, -0.2790,  2.6929, -0.0533,\n",
      "        -0.5691, -0.6442, -0.1607, -0.2063, -0.1061, -0.0298, -1.2829, -0.3383,\n",
      "         0.4917, -0.0268, -0.0575, -0.8036, -0.4178, -0.3131, -0.5429, -0.3601,\n",
      "        -0.0550, -1.2334])\n",
      "tensor([-0.2787,  0.5718, -0.1461, -0.2922, -0.0663, -0.2790,  2.7026, -0.0533,\n",
      "         0.0514, -0.6442, -0.1607,  0.0117, -0.1061, -0.0298, -0.7946, -0.0112,\n",
      "         1.0322, -0.0268, -0.0575, -0.8036,  0.0359, -0.3131, -0.5429,  0.4627,\n",
      "        -0.0550, -1.2334])\n",
      "tensor([-0.7100, -0.2819, -0.1461,  0.6117, -0.0663, -0.2790, -0.4448, -0.0533,\n",
      "         0.5178, -0.6442, -0.1527,  0.2115, -0.0964, -0.0212, -0.3282, -0.0462,\n",
      "        -0.1735, -0.0268, -0.0575, -0.8036,  0.3652, -0.3061, -0.0790, -0.3601,\n",
      "        -0.0550,  0.0646])\n"
     ]
    }
   ],
   "source": [
    "for x, y in iter(val_dataloader):\n",
    "    print(x['encoder_cont'][0][0])"
   ],
   "metadata": {
    "collapsed": false,
    "pycharm": {
     "name": "#%%\n"
    }
   }
  },
  {
   "cell_type": "code",
   "execution_count": 9,
   "outputs": [
    {
     "data": {
      "text/plain": "{'values': tensor(-0.6442, dtype=torch.float64),\n 'variable': 'Berechnete Durchflussmenge_pval',\n 'target': 'all'}"
     },
     "execution_count": 9,
     "metadata": {},
     "output_type": "execute_result"
    }
   ],
   "source": [
    "loaded_validation._overwrite_values"
   ],
   "metadata": {
    "collapsed": false,
    "pycharm": {
     "name": "#%%\n"
    }
   }
  }
 ],
 "metadata": {
  "kernelspec": {
   "name": "riwwer_new",
   "language": "python",
   "display_name": "riwwer_new"
  },
  "language_info": {
   "codemirror_mode": {
    "name": "ipython",
    "version": 2
   },
   "file_extension": ".py",
   "mimetype": "text/x-python",
   "name": "python",
   "nbconvert_exporter": "python",
   "pygments_lexer": "ipython2",
   "version": "2.7.6"
  }
 },
 "nbformat": 4,
 "nbformat_minor": 0
}