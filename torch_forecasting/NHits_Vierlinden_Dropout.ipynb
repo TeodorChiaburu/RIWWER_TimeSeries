{
 "cells": [
  {
   "cell_type": "markdown",
   "metadata": {
    "collapsed": true,
    "pycharm": {
     "name": "#%% md\n"
    }
   },
   "source": [
    "Time Series Forecast with NHiTS on the Vierlinden dataset (all sensors, 2021)"
   ]
  },
  {
   "cell_type": "code",
   "execution_count": 1,
   "outputs": [
    {
     "name": "stderr",
     "output_type": "stream",
     "text": [
      "Global seed set to 42\n"
     ]
    },
    {
     "data": {
      "text/plain": "42"
     },
     "execution_count": 1,
     "metadata": {},
     "output_type": "execute_result"
    }
   ],
   "source": [
    "import sys\n",
    "sys.path.append('./pytorch-forecasting/')\n",
    "import pandas as pd\n",
    "import numpy as np\n",
    "import torch\n",
    "import lightning.pytorch as pl\n",
    "from pytorch_forecasting import NHiTS, TimeSeriesDataSet\n",
    "from pytorch_forecasting.data import NaNLabelEncoder\n",
    "pl.seed_everything(42)"
   ],
   "metadata": {
    "collapsed": false,
    "pycharm": {
     "name": "#%%\n"
    }
   }
  },
  {
   "cell_type": "markdown",
   "source": [
    "### Load dataset"
   ],
   "metadata": {
    "collapsed": false
   }
  },
  {
   "cell_type": "code",
   "execution_count": 2,
   "outputs": [],
   "source": [
    "# Read the dataset into a DataFrame\n",
    "data = pd.read_csv('./RIWWER/Vierlinden/Vierlinden_2021_All.csv')\n",
    "\n",
    "# Drop columns that have lots of missing values\n",
    "data.drop([\"FLP_Hohenstand_Pumpensumpf_pval\",\"FLP_Strom_P3_pval\",\"FLP_Strom_P4_pval\",\"FLP_Strom_P5_pval\",\"Durchfluss SWP1 und SWP2_pval\",\"FLP_Hohenstand_Becken1_pval\",\"FLP_Hohenstand_Becken3_pval\",\"FLP_Hohenstand_Beckne2_pval\"], axis=1, inplace=True)\n",
    "\n",
    "# NaNs are not allowed by the model\n",
    "data.fillna(method=\"bfill\", inplace=True)\n",
    "data.fillna(method=\"ffill\", inplace=True)\n",
    "\n",
    "# Set Datetime as index\n",
    "data['Datetime'] = pd.to_datetime(data['Datetime'])\n",
    "\n",
    "# One time series for the whole year?\n",
    "data['series'] = 0\n",
    "\n",
    "# As many timesteps per timeseries as hours in every month?\n",
    "time_idx = []\n",
    "for i in range(1):\n",
    "    timesteps = len( data[ data['series'] == i ] )\n",
    "    time_idx += list(range(timesteps))\n",
    "data['time_idx'] = time_idx"
   ],
   "metadata": {
    "collapsed": false,
    "pycharm": {
     "name": "#%%\n"
    }
   }
  },
  {
   "cell_type": "code",
   "execution_count": 3,
   "outputs": [
    {
     "data": {
      "text/plain": "             Datetime  Schieber Position_pval  Oberwasser_pval  \\\n0 2021-01-01 00:00:00                   100.0         8.140845   \n1 2021-01-01 01:00:00                   100.0         8.000000   \n2 2021-01-01 02:00:00                   100.0         7.967742   \n3 2021-01-01 03:00:00                   100.0         7.076923   \n4 2021-01-01 04:00:00                   100.0         8.464789   \n\n   Unterwasser_pval  Durchflumenge_pval  Berechnete Durchflussmenge_pval  \\\n0          5.753623            7.689189                         7.732558   \n1          5.173913            6.808219                         8.271739   \n2          5.000000            5.813333                         7.197674   \n3          4.843750            4.216216                         4.743243   \n4          5.466667            8.384615                         8.325000   \n\n   Fllstand SWS_pval  Fllstand RWS_pval  Strom P1_pval  Strom P2_pval  ...  \\\n0          75.717949               36.0       1.076923            0.0  ...   \n1          75.717949               36.0       1.076923            0.0  ...   \n2          75.717949               36.0       1.076923            0.0  ...   \n3          75.717949               36.0       1.076923            0.0  ...   \n4          75.717949               36.0       1.076923            0.0  ...   \n\n   Strom Pumpe 2_pval1  Strom Pumpe 3_pval  Niederschlag  Füllstand_RRB  \\\n0                  0.0                 1.0      0.000000           1.47   \n1                  0.0                 1.0      1.182353           1.47   \n2                  0.0                 1.0      1.182353           1.47   \n3                  0.0                 1.0      1.182353           1.47   \n4                  0.0                 1.0      1.182353           1.47   \n\n   Entleerung_RüB  Füllstand_RüB_1  Füllstand_RüB_2  Füllstand_RüB_3  series  \\\n0           0.098             3.16             3.08             2.72       0   \n1           0.099             3.16             3.08             2.72       0   \n2           0.096             3.16             3.08             2.72       0   \n3           0.098             3.16             3.08             2.72       0   \n4           0.098             3.16             3.08             2.72       0   \n\n   time_idx  \n0         0  \n1         1  \n2         2  \n3         3  \n4         4  \n\n[5 rows x 29 columns]",
      "text/html": "<div>\n<style scoped>\n    .dataframe tbody tr th:only-of-type {\n        vertical-align: middle;\n    }\n\n    .dataframe tbody tr th {\n        vertical-align: top;\n    }\n\n    .dataframe thead th {\n        text-align: right;\n    }\n</style>\n<table border=\"1\" class=\"dataframe\">\n  <thead>\n    <tr style=\"text-align: right;\">\n      <th></th>\n      <th>Datetime</th>\n      <th>Schieber Position_pval</th>\n      <th>Oberwasser_pval</th>\n      <th>Unterwasser_pval</th>\n      <th>Durchflumenge_pval</th>\n      <th>Berechnete Durchflussmenge_pval</th>\n      <th>Fllstand SWS_pval</th>\n      <th>Fllstand RWS_pval</th>\n      <th>Strom P1_pval</th>\n      <th>Strom P2_pval</th>\n      <th>...</th>\n      <th>Strom Pumpe 2_pval1</th>\n      <th>Strom Pumpe 3_pval</th>\n      <th>Niederschlag</th>\n      <th>Füllstand_RRB</th>\n      <th>Entleerung_RüB</th>\n      <th>Füllstand_RüB_1</th>\n      <th>Füllstand_RüB_2</th>\n      <th>Füllstand_RüB_3</th>\n      <th>series</th>\n      <th>time_idx</th>\n    </tr>\n  </thead>\n  <tbody>\n    <tr>\n      <th>0</th>\n      <td>2021-01-01 00:00:00</td>\n      <td>100.0</td>\n      <td>8.140845</td>\n      <td>5.753623</td>\n      <td>7.689189</td>\n      <td>7.732558</td>\n      <td>75.717949</td>\n      <td>36.0</td>\n      <td>1.076923</td>\n      <td>0.0</td>\n      <td>...</td>\n      <td>0.0</td>\n      <td>1.0</td>\n      <td>0.000000</td>\n      <td>1.47</td>\n      <td>0.098</td>\n      <td>3.16</td>\n      <td>3.08</td>\n      <td>2.72</td>\n      <td>0</td>\n      <td>0</td>\n    </tr>\n    <tr>\n      <th>1</th>\n      <td>2021-01-01 01:00:00</td>\n      <td>100.0</td>\n      <td>8.000000</td>\n      <td>5.173913</td>\n      <td>6.808219</td>\n      <td>8.271739</td>\n      <td>75.717949</td>\n      <td>36.0</td>\n      <td>1.076923</td>\n      <td>0.0</td>\n      <td>...</td>\n      <td>0.0</td>\n      <td>1.0</td>\n      <td>1.182353</td>\n      <td>1.47</td>\n      <td>0.099</td>\n      <td>3.16</td>\n      <td>3.08</td>\n      <td>2.72</td>\n      <td>0</td>\n      <td>1</td>\n    </tr>\n    <tr>\n      <th>2</th>\n      <td>2021-01-01 02:00:00</td>\n      <td>100.0</td>\n      <td>7.967742</td>\n      <td>5.000000</td>\n      <td>5.813333</td>\n      <td>7.197674</td>\n      <td>75.717949</td>\n      <td>36.0</td>\n      <td>1.076923</td>\n      <td>0.0</td>\n      <td>...</td>\n      <td>0.0</td>\n      <td>1.0</td>\n      <td>1.182353</td>\n      <td>1.47</td>\n      <td>0.096</td>\n      <td>3.16</td>\n      <td>3.08</td>\n      <td>2.72</td>\n      <td>0</td>\n      <td>2</td>\n    </tr>\n    <tr>\n      <th>3</th>\n      <td>2021-01-01 03:00:00</td>\n      <td>100.0</td>\n      <td>7.076923</td>\n      <td>4.843750</td>\n      <td>4.216216</td>\n      <td>4.743243</td>\n      <td>75.717949</td>\n      <td>36.0</td>\n      <td>1.076923</td>\n      <td>0.0</td>\n      <td>...</td>\n      <td>0.0</td>\n      <td>1.0</td>\n      <td>1.182353</td>\n      <td>1.47</td>\n      <td>0.098</td>\n      <td>3.16</td>\n      <td>3.08</td>\n      <td>2.72</td>\n      <td>0</td>\n      <td>3</td>\n    </tr>\n    <tr>\n      <th>4</th>\n      <td>2021-01-01 04:00:00</td>\n      <td>100.0</td>\n      <td>8.464789</td>\n      <td>5.466667</td>\n      <td>8.384615</td>\n      <td>8.325000</td>\n      <td>75.717949</td>\n      <td>36.0</td>\n      <td>1.076923</td>\n      <td>0.0</td>\n      <td>...</td>\n      <td>0.0</td>\n      <td>1.0</td>\n      <td>1.182353</td>\n      <td>1.47</td>\n      <td>0.098</td>\n      <td>3.16</td>\n      <td>3.08</td>\n      <td>2.72</td>\n      <td>0</td>\n      <td>4</td>\n    </tr>\n  </tbody>\n</table>\n<p>5 rows × 29 columns</p>\n</div>"
     },
     "execution_count": 3,
     "metadata": {},
     "output_type": "execute_result"
    }
   ],
   "source": [
    "data.head()"
   ],
   "metadata": {
    "collapsed": false,
    "pycharm": {
     "name": "#%%\n"
    }
   }
  },
  {
   "cell_type": "code",
   "execution_count": 4,
   "outputs": [],
   "source": [
    "# Parameters for dataloaders\n",
    "max_encoder_length = 24*2\n",
    "max_prediction_length = 5*2\n",
    "training_cutoff = data[\"time_idx\"].max() * 4 // 5 # 80% for training\n",
    "context_length = max_encoder_length\n",
    "prediction_length = max_prediction_length\n",
    "batch_size = 32"
   ],
   "metadata": {
    "collapsed": false,
    "pycharm": {
     "name": "#%%\n"
    }
   }
  },
  {
   "cell_type": "code",
   "execution_count": 5,
   "outputs": [
    {
     "name": "stderr",
     "output_type": "stream",
     "text": [
      "/home/tchiaburu/anaconda3/envs/torch_gpu_riwwer_new/lib/python3.11/site-packages/lightning/pytorch/utilities/parsing.py:196: UserWarning: Attribute 'loss' is an instance of `nn.Module` and is already saved during checkpointing. It is recommended to ignore them using `self.save_hyperparameters(ignore=['loss'])`.\n",
      "  rank_zero_warn(\n",
      "/home/tchiaburu/anaconda3/envs/torch_gpu_riwwer_new/lib/python3.11/site-packages/lightning/pytorch/utilities/parsing.py:196: UserWarning: Attribute 'logging_metrics' is an instance of `nn.Module` and is already saved during checkpointing. It is recommended to ignore them using `self.save_hyperparameters(ignore=['logging_metrics'])`.\n",
      "  rank_zero_warn(\n"
     ]
    }
   ],
   "source": [
    "# Load best model (from NHits_Vierlinden_Train.ipynb)\n",
    "best_model_path = './RIWWER/torch_forecasting/model_checkpoints/NHits_Vierlinden/lightning_logs/version_0/checkpoints/epoch=14-step=2250.ckpt'\n",
    "best_model = NHiTS.load_from_checkpoint(best_model_path)"
   ],
   "metadata": {
    "collapsed": false,
    "pycharm": {
     "name": "#%%\n"
    }
   }
  },
  {
   "cell_type": "markdown",
   "source": [
    "### Corrupt sensor clusters"
   ],
   "metadata": {
    "collapsed": false
   }
  },
  {
   "cell_type": "code",
   "execution_count": 6,
   "outputs": [],
   "source": [
    "fraction = 1.0   # fraction of rows to corrupt\n",
    "sampling = 'NAR' # sampling mechanism for corruptions, options are completely at random ('CAR'),\n",
    "                 # at random ('AR'), not at random ('NAR')\n",
    "\n",
    "# Sensor clusters\n",
    "# Weather and rain tanks: ['Niederschlag', 'Füllstand_RRB', 'Füllstand_RüB_1', 'Füllstand_RüB_2', 'Füllstand_RüB_3']\n",
    "sensors = {\n",
    "    \"Herzogstr\":     ['Schieber Position_pval', 'Oberwasser_pval', 'Unterwasser_pval', 'Durchflumenge_pval', 'Berechnete Durchflussmenge_pval'],\n",
    "    #\"Kaiserstr\":     ['Fllstand SWS_pval', 'Fllstand RWS_pval', 'Strom P1_pval', 'Strom P2_pval', 'Strom P3_pval', 'Strom P4_pval', 'Strom P5_pval', 'Strom P6_pval'],\n",
    "    #\"Kreuzweg\":      ['Fllstand Pumpensumpf_pval', 'Strom Pumpe 1_pval', 'Strom Pumpe 2_pval'],\n",
    "    #\"Vierlindenhof\": ['Fllstand Pumpensumpf_pval1', 'Strom Pumpe 1_pval1', 'Strom Pumpe 2_pval1', 'Strom Pumpe 3_pval']\n",
    "}"
   ],
   "metadata": {
    "collapsed": false,
    "pycharm": {
     "name": "#%%\n"
    }
   }
  },
  {
   "cell_type": "code",
   "execution_count": 7,
   "outputs": [
    {
     "name": "stdout",
     "output_type": "stream",
     "text": [
      "\n",
      "\n",
      "++++++++++ Turning off Herzogstr ++++++++++\n",
      "\n"
     ]
    },
    {
     "name": "stderr",
     "output_type": "stream",
     "text": [
      "GPU available: True (cuda), used: True\n",
      "TPU available: False, using: 0 TPU cores\n",
      "IPU available: False, using: 0 IPUs\n",
      "HPU available: False, using: 0 HPUs\n",
      "LOCAL_RANK: 0 - CUDA_VISIBLE_DEVICES: [0]\n"
     ]
    },
    {
     "name": "stdout",
     "output_type": "stream",
     "text": [
      "MAE = tensor(2.5372, device='cuda:0')\n",
      "RMSE = tensor(10.4089, device='cuda:0')\n"
     ]
    }
   ],
   "source": [
    "# Turn off sensors iteratively according to the cluster location\n",
    "for cluster in sensors:\n",
    "    print(\"\\n\\n++++++++++ Turning off \" + cluster + \" ++++++++++\\n\")\n",
    "\n",
    "    # Copy dataset (we want to investigate what impact the turning off of individual clusters has)\n",
    "    data_copy = data.copy(deep=True)\n",
    "\n",
    "    ### Sample rows and corrupt them ###\n",
    "    for column in sensors[cluster]:\n",
    "        if fraction == 1.0:\n",
    "            rows = data_copy.index\n",
    "        # Completely At Random\n",
    "        # elif sampling == 'CAR':\n",
    "        #     rows = np.random.permutation(data_copy.index)[:int(len(data_copy)*fraction)]\n",
    "        # elif sampling == 'NAR' or sampling == 'AR':\n",
    "        #     n_values_to_discard = int(len(data_copy) * min(fraction, 1.0))\n",
    "        #     perc_lower_start = np.random.randint(0, len(data_copy) - n_values_to_discard)\n",
    "        #     perc_idx = range(perc_lower_start, perc_lower_start + n_values_to_discard)\n",
    "        #     # Not At Random\n",
    "        #     if sampling == 'NAR':\n",
    "        #         # pick a random percentile of values in this column\n",
    "        #         rows = data_copy[column].sort_values().iloc[perc_idx].index\n",
    "        #     # At Random\n",
    "        #     elif sampling == 'AR':\n",
    "        #         depends_on_col = np.random.choice(list(set(data_copy.columns) - {column}))\n",
    "        #         # pick a random percentile of values in other column\n",
    "        #         rows = data_copy[depends_on_col].sort_values().iloc[perc_idx].index\n",
    "        # Overwrite values with 0 (random value better?)\n",
    "        #data_copy.loc[rows, column] = 0.0\n",
    "\n",
    "    ### Create Dataloader for corrupted dataset ###\n",
    "    validation = TimeSeriesDataSet(\n",
    "        data_copy[lambda x: x.time_idx > training_cutoff],\n",
    "        target_normalizer=\"auto\",\n",
    "        time_idx=\"time_idx\",\n",
    "        target=\"Entleerung_RüB\",\n",
    "        categorical_encoders={\"series\": NaNLabelEncoder().fit(data_copy.series)},\n",
    "        group_ids=[\"series\"],\n",
    "        time_varying_unknown_reals=list(set(data_copy.columns) - {'Datetime', 'series', 'time_idx'}),\n",
    "        max_encoder_length=context_length,\n",
    "        min_encoder_length=max_encoder_length,\n",
    "        max_prediction_length=prediction_length,\n",
    "        min_prediction_length=max_prediction_length,\n",
    "        allow_missing_timesteps=True\n",
    "    )\n",
    "    val_dataloader = validation.to_dataloader(train=False, batch_size=batch_size, num_workers=18)\n",
    "\n",
    "    ### Make prediction and evaluate ###\n",
    "    actuals = torch.cat([y[0] for x, y in iter(val_dataloader)]).to(torch.device('cuda:0'))\n",
    "    predictions = best_model.predict(val_dataloader,\n",
    "                                     trainer_kwargs=dict(default_root_dir=\"./RIWWER/torch_forecasting/model_checkpoints/NHits_Vierlinden\"))\n",
    "    err = actuals - predictions\n",
    "    mae = err.abs().mean()\n",
    "    print('MAE = ' + str(mae))\n",
    "    rmse = torch.sqrt( torch.square(err).mean() )\n",
    "    print('RMSE = ' + str(rmse))"
   ],
   "metadata": {
    "collapsed": false,
    "pycharm": {
     "name": "#%%\n"
    }
   }
  },
  {
   "cell_type": "code",
   "execution_count": 8,
   "outputs": [
    {
     "name": "stdout",
     "output_type": "stream",
     "text": [
      "tensor([-0.5253, -0.8876, -0.2080,  0.3277, -0.3542,  0.0000, -0.3168, -0.0343,\n",
      "        -0.3695,  0.0000, -0.5737,  0.0000, -0.1662, -0.5797, -0.4267,  0.2865,\n",
      "         0.0484,  0.0000,  0.1159, -1.0347, -0.6172,  2.5225, -0.5339, -0.1855,\n",
      "         0.0000, -0.4248])\n",
      "tensor([ 0.4267, -0.7687, -0.2080,  0.3277, -0.3542,  0.0000, -0.3168, -0.0134,\n",
      "         0.4557,  0.0000, -0.5737,  0.0000, -0.1542,  0.7125, -0.4908, -0.2818,\n",
      "         0.0484,  0.0000,  0.1318,  0.1016, -0.0537,  2.5225,  0.3815, -0.1855,\n",
      "         0.0000,  0.0588])\n",
      "tensor([ 0.6659, -1.2627, -0.2080,  0.3277, -0.3542,  0.0000, -0.3168, -1.6022,\n",
      "         0.7742,  0.0000, -0.5737,  0.0000, -0.3221,  7.6081, -0.4006, -0.2232,\n",
      "        -1.6573,  0.0000, -1.5710, -0.2915,  0.2703,  2.5225,  0.2223, -0.1855,\n",
      "         0.0000, -0.2989])\n",
      "tensor([-0.6438,  0.3677, -0.2080,  0.3277, -0.3542,  0.0000, -0.3168, -0.6824,\n",
      "        -1.4598,  0.0000, -0.5737,  0.0000, -0.4060, -0.5797, -0.4231,  2.4826,\n",
      "        -0.2440,  0.0000, -0.4252, -0.1241, -0.7025,  2.5225, -0.9702, -0.1855,\n",
      "         0.0000, -0.9470])\n",
      "tensor([-0.2734,  0.2742, -0.2080,  0.3277, -0.3542,  0.0000, -0.3168, -1.6022,\n",
      "        -0.3211,  0.0000,  1.4546,  0.0000, -0.8257, -0.5797, -0.4250,  0.0000,\n",
      "        -1.7223,  0.0000, -1.8415, -0.2253, -0.5312, -0.3726,  0.3633, -0.1855,\n",
      "         0.0000,  0.4685])\n",
      "tensor([-0.2382,  1.0812, -0.2080,  0.3277, -0.3542,  0.0000, -0.3168, -1.6022,\n",
      "        -0.9035,  0.0000,  0.6198,  0.0000, -0.8257, -0.5797, -0.4702,  0.0000,\n",
      "        -1.7223,  0.0000, -1.8415, -0.4401, -0.5259, -0.3726,  0.2476, -0.1855,\n",
      "         0.0000,  0.3385])\n",
      "tensor([-0.6700,  1.0461, -0.2080,  0.3277, -0.3542,  0.0000, -0.3168, -1.6022,\n",
      "        -0.1721,  0.0000, -0.5737,  0.0000, -0.8257, -0.5797, -0.2831,  0.0000,\n",
      "        -1.7223,  0.0000, -1.8415, -0.7284, -0.6923, -0.3726, -0.3034, -0.1855,\n",
      "         0.0000, -0.1759])\n",
      "tensor([-0.1140,  0.6295, -0.2080,  0.3277, -0.3542,  0.0000,  0.3395, -1.6022,\n",
      "        -0.5399,  0.0000, -0.5737,  0.0000, -0.8257,  0.6562, -0.3983,  0.0000,\n",
      "        -1.7223,  0.0000, -1.8415, -0.3197, -0.5274, -0.3726,  0.3675, -0.1855,\n",
      "         0.0000,  0.4090])\n",
      "tensor([-0.1348, -0.0905,  2.1765,  0.3277,  6.9570,  0.0000, -0.3168, -1.6022,\n",
      "         3.3301,  0.0000, -0.5737,  0.0000, -0.8257,  0.1734,  2.5516,  0.0000,\n",
      "        -1.7223,  0.0000, -1.8415, -1.2527, -0.3967, -0.3726,  0.0154, -0.1855,\n",
      "         0.0000, -0.0691])\n",
      "tensor([-0.1106, -0.9041,  1.0494,  0.3277,  0.9193,  0.0000, -0.3168, -1.6022,\n",
      "        -0.2733,  0.0000, -0.5737,  0.0000, -0.8257, -0.5797,  2.5631, -0.3845,\n",
      "        -1.7223,  0.0000, -1.8415, -1.2527, -0.2515,  2.5225, -0.2535, -0.1855,\n",
      "         0.0000, -0.2481])\n",
      "tensor([ 0.0593,  1.0573,  2.0317,  0.3277, -0.3542,  0.0000, -0.3168, -1.6022,\n",
      "        -0.1875,  0.0000, -0.1397,  0.0000, -0.8257,  1.0939,  2.5979, -0.3891,\n",
      "        -1.7223,  0.0000, -1.8415, -1.2527, -0.0535, -0.3726,  0.0619, -0.1855,\n",
      "         0.0000, -0.1243])\n",
      "tensor([ 1.7707, -0.8243, -0.2080,  0.3277,  0.7071,  0.0000, -0.3168, -0.4106,\n",
      "        -0.0679,  0.0000,  1.0538,  0.0000, -0.1782,  0.5807, -0.3719, -0.0949,\n",
      "         0.0484,  0.0000,  0.1000,  1.3807,  1.2319, -0.3726,  1.6696, -0.1855,\n",
      "         0.0000,  1.2165])\n",
      "tensor([-0.6763, -0.4124, -0.2080,  0.3277, -0.3542,  0.0000, -0.3168, -0.4106,\n",
      "         0.6881,  0.0000, -0.5737,  0.0000, -0.1782, -0.5797, -0.3694, -0.5678,\n",
      "         0.0484,  0.0000,  0.1000, -0.1692, -0.3094, -0.3726, -0.7431, -0.1855,\n",
      "         0.0000, -0.6238])\n",
      "tensor([ 0.5987, -1.2359, -0.2080,  0.3277, -0.3542,  0.0000,  0.4904, -0.4106,\n",
      "        -0.1197,  0.0000, -0.5737,  0.0000, -0.1782, -0.5797, -0.4173, -1.1343,\n",
      "         0.0484,  0.0000,  0.1000,  0.1016,  0.2178, -0.3726,  0.3915, -0.1855,\n",
      "         0.0000,  0.0663])\n",
      "tensor([ 1.0187, -0.4979, -0.2080,  0.3277, -0.3542,  0.0000,  0.6518, -0.3688,\n",
      "        -0.3699,  0.0000,  1.4546,  0.0000, -0.1782,  4.6541, -0.4471,  0.5627,\n",
      "         0.0484,  0.0000,  0.1000,  1.2001,  0.4797, -0.3726,  0.9502, -0.1855,\n",
      "         0.0000,  0.5775])\n",
      "tensor([-0.6978,  0.2351, -0.2080,  0.3277, -0.3542,  0.0000, -0.3168, -0.3479,\n",
      "         0.5619,  0.0000,  1.6325,  0.0000, -0.1662, -0.5797, -0.3727,  0.0138,\n",
      "         0.0484,  0.0000,  0.1159,  0.2822, -0.5696, -0.3726, -0.8179, -0.1855,\n",
      "         0.0000, -0.6906])\n",
      "tensor([-0.1317,  0.3173, -0.2080,  0.3277, -0.3542,  0.0000, -0.3168, -0.3479,\n",
      "        -0.8227,  0.0000,  1.4546,  0.0000, -0.1662, -0.5797, -0.4727, -0.9930,\n",
      "         0.0484,  0.0000,  0.1159,  0.3274, -0.1798, -0.3726, -0.1539, -0.1855,\n",
      "         0.0000, -0.2322])\n",
      "tensor([-0.1981,  0.5145, -0.2080,  0.3277,  0.4848,  0.0000, -0.3168, -0.3479,\n",
      "         0.6335,  0.0000,  1.4546,  0.0000, -0.1662, -0.5797, -0.4607,  0.2230,\n",
      "         0.0484,  0.0000,  0.1159,  0.2521, -0.2467, -0.3726, -0.1978, -0.1855,\n",
      "         0.0000, -0.2361])\n",
      "tensor([ 0.2431, -1.3490, -0.2080,  0.3277, -0.3542,  0.0000, -0.3168, -0.3479,\n",
      "        -0.5224,  0.0000, -0.5737,  0.0000, -0.1662, -0.5797, -0.3364, -0.0808,\n",
      "         0.0484,  0.0000,  0.1159, -0.5304,  0.2524, -0.3726,  0.0954, -0.1855,\n",
      "         0.0000, -0.0679])\n",
      "tensor([-0.5452, -0.5548, -0.2080,  0.3277, -0.3542,  0.0000, -0.3168, -0.3270,\n",
      "        -0.9040,  0.0000, -0.5737,  0.0000, -0.1662, -0.5797, -0.4132,  1.0406,\n",
      "         0.0647,  0.0000,  0.1159,  0.5531, -0.3263, -0.3726, -0.6844, -0.1855,\n",
      "         0.0000, -0.7201])\n",
      "tensor([-0.1306,  0.2585, -0.2080,  0.3277,  0.3533,  0.0000, -0.3168, -0.3270,\n",
      "        -1.0760,  0.0000, -0.5737,  0.0000, -0.1662, -0.5797, -0.3207, -1.6404,\n",
      "         0.0647,  0.0000,  0.1159, -0.3498, -0.1339, -0.3726, -0.3712, -0.1855,\n",
      "         0.0000, -0.4843])\n",
      "tensor([-0.6978,  0.4942, -0.2080,  0.3277, -0.3542,  0.0000,  0.4776, -0.3270,\n",
      "         0.1506,  0.0000, -0.5737,  0.0000, -0.1662, -0.5797, -0.2768, -1.1370,\n",
      "         0.0647,  0.0000,  0.1159, -0.8086, -0.3605, -0.3726, -0.7846, -0.1855,\n",
      "         0.0000, -0.6316])\n",
      "tensor([ 0.6455, -1.2397, -0.2080,  0.3277, -0.3542,  0.0000, -0.3168, -0.3270,\n",
      "        -0.5077,  0.0000,  0.3870,  0.0000, -0.1662, -0.5797, -0.4272,  0.9475,\n",
      "         0.0647,  0.0000,  0.1159,  0.1016,  0.3183, -0.3726,  0.3916, -0.1855,\n",
      "         0.0000, -0.0068])\n",
      "tensor([ 0.0636,  0.8973, -0.2080,  0.3277,  0.3533,  0.0000, -0.3168, -0.3061,\n",
      "         0.4415,  0.0000, -0.5737,  0.0000, -0.1542, -0.5797, -0.4411, -0.2425,\n",
      "         0.0647,  0.0000,  0.1159, -0.3820, -0.0117, -0.3726, -0.2213, -0.1855,\n",
      "         0.0000, -0.4100])\n",
      "tensor([ 0.4288, -1.2826, -0.2080,  0.3277, -0.3542,  0.0000, -0.3168, -0.3061,\n",
      "         0.9664,  0.0000, -0.5737,  0.0000, -0.1542, -0.5797, -0.3760,  1.6198,\n",
      "         0.0647,  0.0000,  0.1159, -0.6056,  0.4018, -0.3726,  0.1280, -0.1855,\n",
      "         0.0000, -0.1639])\n",
      "tensor([ 0.1657,  0.3112,  1.0494,  0.3277, -0.3542,  0.0000, -0.3168, -0.2852,\n",
      "        -0.7032,  0.0000, -0.5737,  0.0000, -0.1542, -0.5797,  2.5259, -0.9675,\n",
      "         0.0647,  0.0000,  0.1318, -1.2527, -0.2173, -0.3726, -0.2272,  0.9590,\n",
      "         0.0000, -0.4267])\n",
      "tensor([-0.0351,  1.1514, -0.2080,  0.3277, -0.3542,  0.0000,  0.6518, -0.2643,\n",
      "        -0.4885,  0.0000,  0.2943,  0.0000, -0.1542, -0.5797, -0.4338,  0.1046,\n",
      "         0.0647,  0.0000,  0.1318,  0.4628, -0.0510, -0.3726, -0.2961, -0.1855,\n",
      "         0.0000, -0.3888])\n",
      "tensor([ 0.3380, -1.1436, -0.2080,  0.3277, -0.3542,  0.0000, -0.3168, -0.2643,\n",
      "        -0.4316,  0.0000, -0.5737,  0.0000, -0.1542, -0.5797, -0.4289,  2.4224,\n",
      "         0.0647,  0.0000,  0.1318, -0.1391,  0.1324, -0.3726, -0.2256, -0.1855,\n",
      "         0.0000, -0.6209])\n",
      "tensor([ 0.8787,  0.5340, -0.2080,  0.3277, -0.3542,  0.0000,  0.6518, -0.2643,\n",
      "        -0.3194,  0.0000, -0.5737,  0.0000, -0.1542,  0.5766, -0.4082, -0.5683,\n",
      "         0.0647,  0.0000,  0.1318,  1.1098,  0.8312, -0.3726,  0.7213, -0.1855,\n",
      "         0.0000,  0.2613])\n",
      "tensor([ 0.0959, -0.1270, -0.2080,  0.3277,  0.5742,  0.0000, -0.3168, -0.2225,\n",
      "         0.7358,  0.0000, -0.5737,  0.0000, -0.1423, -0.5797, -0.4322,  1.0268,\n",
      "         0.0809,  0.0000,  0.1477,  0.1919,  0.1967, -0.3726, -0.1426, -0.1855,\n",
      "         0.0000, -0.2770])\n",
      "tensor([ 0.1603, -1.3817, -0.2080,  0.3277, -0.3542,  0.0000, -0.3168, -0.2225,\n",
      "         0.1810,  0.0000, -0.5737,  0.0000, -0.1423, -0.5797, -0.4199, -1.1326,\n",
      "         0.0809,  0.0000,  0.1477, -0.0112,  0.3154, -0.3726,  0.0456, -0.1855,\n",
      "         0.0000, -0.0880])\n",
      "tensor([ 1.5440,  0.2449, -0.2080,  0.3277,  0.4948,  0.0000,  0.0113, -0.2225,\n",
      "         0.2681,  0.0000, -0.5737,  0.0000, -0.1423,  0.6375, -0.4272, -0.4793,\n",
      "         0.0809,  0.0000,  0.1477,  2.5695,  1.3469, -0.3726,  1.3753, -0.1855,\n",
      "         0.0000,  0.9281])\n",
      "tensor([ 1.0473, -0.8127, -0.2080,  0.3277, -0.3542,  0.0000, -0.3168,  3.5195,\n",
      "        -0.7482,  0.0000, -0.5737,  0.0000,  4.8334,  0.2236, -0.3711, -0.2044,\n",
      "         0.2271,  0.0000, -0.0273,  1.2754,  0.1632,  2.5225,  0.8553, -0.1855,\n",
      "         0.0000,  0.3459])\n",
      "tensor([-0.6282, -0.7566, -0.2080,  0.3277, -0.3542,  0.0000,  0.4904,  3.4358,\n",
      "        -0.5813,  0.0000, -0.5737,  0.0000,  3.9222, -0.5797, -0.4016, -0.4551,\n",
      "         0.9906,  0.0000,  0.8320,  0.1919, -0.5985, -0.3726, -0.6612, -0.1855,\n",
      "         0.0000, -0.4846])\n",
      "tensor([-0.3687, -0.3700, -0.2080,  0.3277, -0.3542,  0.0000,  0.4904,  0.4883,\n",
      "        -0.4008,  0.0000, -0.5737,  0.0000,  0.0496,  2.3212, -0.4388, -0.2266,\n",
      "         0.0322,  0.0000,  0.0204,  0.1016, -0.5025, -0.3726, -0.4269, -0.1855,\n",
      "         0.0000, -0.4267])\n",
      "tensor([ 0.4927, -1.2012, -0.2080,  0.3277, -0.3542,  0.0000, -0.3168,  0.5092,\n",
      "        -0.3109,  0.0000,  0.3230,  0.0000, -0.0583,  0.2571, -0.4446,  2.5927,\n",
      "         0.1784,  0.0000,  0.2432,  0.8239,  0.3867, -0.3726,  0.3835, -0.1855,\n",
      "         0.0000,  0.1053])\n",
      "tensor([ 3.1502, -0.0895, -0.2080,  0.3277,  1.5954,  0.0000,  1.0691,  0.5092,\n",
      "        -0.2668,  0.0000,  0.6005,  0.0000, -0.0583,  0.5360,  2.7019, -1.3250,\n",
      "         0.1946,  0.0000,  0.2591,  4.1646,  3.3342, -0.3726,  3.1001, -0.1855,\n",
      "         0.0000,  2.8977])\n",
      "tensor([ 0.4132, -1.0046, -0.2080,  0.3277, -0.3542,  0.0000, -0.3168,  0.5092,\n",
      "        -0.7122,  0.0000,  1.0538,  0.0000, -0.0463, -0.5797, -0.4320,  0.8236,\n",
      "         0.1946,  0.0000,  0.2591,  0.5056,  0.4949, -0.3726,  0.2984, -0.1855,\n",
      "         0.0000,  0.1307])\n",
      "tensor([ 0.1646, -1.2492, -0.2080,  0.3277, -0.3542,  0.0000,  0.3289,  0.5092,\n",
      "         1.1413,  0.0000, -0.3567,  0.0000, -0.0463,  0.2571, -0.3686,  0.8349,\n",
      "         0.1946,  0.0000,  0.2591,  0.0565,  0.2549, -0.3726,  1.0572, -0.1855,\n",
      "         0.0000,  1.4991])\n",
      "tensor([-0.8528, -0.2708, -0.2080,  0.3277,  0.4948,  0.0000, -0.3168,  0.5092,\n",
      "        -0.4889,  0.0000,  1.2410,  0.0000, -0.0463, -0.5797, -0.3421, -0.8627,\n",
      "         0.1946,  0.0000,  0.2591, -0.6207, -0.6178, -0.3726, -0.5589, -0.1855,\n",
      "         0.0000, -0.3269])\n",
      "tensor([ 1.4316, -0.6293, -0.2080,  0.3277, -0.3542,  0.0000,  0.8133,  0.5301,\n",
      "        -0.0738,  0.0000,  1.5613,  0.0000, -0.0463,  0.9505, -0.4033, -2.5123,\n",
      "         0.1946,  0.0000,  0.2591,  1.3807,  1.3062, -0.3726,  1.4284, -0.1855,\n",
      "         0.0000,  1.1042])\n",
      "tensor([ 0.4929, -1.1086, -0.2080,  0.3277, -0.3542,  0.0000, -0.3168,  0.5301,\n",
      "         0.0916,  0.0000, -0.5737,  0.0000, -0.0344, -0.5797, -0.4041, -0.4599,\n",
      "         0.2109,  0.0000,  0.2591, -0.1692,  0.2495, -0.3726,  0.5002, -0.1855,\n",
      "         0.0000,  0.3637])\n",
      "tensor([-8.1710e-01, -1.0286e-03, -2.0803e-01,  3.2768e-01, -3.5422e-01,\n",
      "         0.0000e+00, -3.1683e-01,  5.3010e-01,  6.8994e-01,  0.0000e+00,\n",
      "        -5.7374e-01,  0.0000e+00, -3.4353e-02, -5.7968e-01, -4.8340e-01,\n",
      "        -1.7794e+00,  2.1088e-01,  0.0000e+00,  2.7504e-01, -9.8181e-01,\n",
      "        -5.8742e-01, -3.7261e-01, -7.4415e-01, -1.8552e-01,  0.0000e+00,\n",
      "        -5.0626e-01])\n",
      "tensor([ 0.5594, -1.2450, -0.2080,  0.3277,  0.4948,  0.0000, -0.3168,  0.5301,\n",
      "        -0.4182,  0.0000, -0.3567,  0.0000, -0.0344, -0.5797, -0.3744,  0.3985,\n",
      "         0.2109,  0.0000,  0.2750, -0.3498,  0.3780, -0.3726,  0.4568, -0.1855,\n",
      "         0.0000,  0.1155])\n",
      "tensor([-0.2521,  0.1775, -0.2080,  0.3277,  1.4306,  0.0000, -0.3168,  0.5301,\n",
      "        -0.4841,  0.0000,  1.3478,  0.0000, -0.0344, -0.5797, -0.3626,  0.1977,\n",
      "         0.2109,  0.0000,  0.2750, -0.0385, -0.2970, -0.3726, -0.3530, -0.1855,\n",
      "         0.0000, -0.3115])\n",
      "tensor([-0.6978,  1.0788, -0.2080,  0.3277, -0.3542,  0.0000, -0.3168,  0.5301,\n",
      "        -1.1116,  0.0000, -0.5737,  0.0000, -0.0344, -0.5797, -0.4173,  1.0168,\n",
      "         0.2109,  0.0000,  0.2750, -0.5153, -0.4667, -0.3726, -0.6527, -0.1855,\n",
      "         0.0000, -0.4574])\n",
      "tensor([-0.3426,  0.0345, -0.2080,  0.3277,  0.8250,  0.0000, -0.3168,  0.5301,\n",
      "        -0.0552,  0.0000, -0.5737,  0.0000, -0.0344, -0.5797, -0.4099,  1.8745,\n",
      "         0.2109,  0.0000,  0.2750,  0.2371, -0.0891, -0.3726, -0.4868, -0.1855,\n",
      "         0.0000, -0.5015])\n",
      "tensor([ 0.4164, -0.8772, -0.2080, -1.6311,  0.4712,  0.0000, -0.3168,  0.5301,\n",
      "        -0.6474,  0.0000, -0.5737,  0.0000, -0.0344, -0.5797, -0.4388, -0.4942,\n",
      "         0.2109,  0.0000,  0.2750, -0.2896,  0.3032, -0.3726,  0.1946, -0.1855,\n",
      "         0.0000, -0.1276])\n",
      "tensor([-0.9772,  1.0730, -0.2080, -1.6311,  0.4948,  0.0000, -0.3168,  0.5301,\n",
      "        -0.5942,  0.0000,  0.8368,  0.0000, -0.0344, -0.5797, -0.4801, -1.1160,\n",
      "         0.2109,  0.0000,  0.2750, -0.5906, -0.2962, -0.3726, -0.6119, -0.1855,\n",
      "         0.0000, -0.3515])\n",
      "tensor([-0.2665, -0.0667,  3.0772, -1.6311, -0.3542,  0.0000, -0.3168,  0.5510,\n",
      "        -0.4117,  0.0000, -0.5737,  0.0000, -0.0344,  0.2571,  2.5077,  1.3217,\n",
      "         0.2109,  0.0000,  0.2750, -1.2527,  0.0869, -0.3726, -0.2267,  0.9590,\n",
      "         0.0000, -0.2269])\n",
      "tensor([-0.2521,  1.1422, -0.2080, -1.6311,  0.3533,  0.0000, -0.3168,  0.5510,\n",
      "        -1.2464,  0.0000, -0.1397,  0.0000, -0.0224, -0.5797,  2.5581, -0.2342,\n",
      "         0.2109,  0.0000,  0.2750, -1.2527, -0.1988, -0.3726, -0.2116,  0.9485,\n",
      "         0.0000, -0.2457])\n",
      "tensor([-0.7253,  0.0893, -0.2080, -1.6311,  0.6206,  0.0000, -0.3168,  0.5510,\n",
      "         0.5243,  0.0000, -0.5737,  0.0000, -0.0224, -0.5797,  2.5331, -2.0056,\n",
      "         0.2109,  0.0000,  0.2750, -1.2527, -0.4964, -0.3726, -0.7730,  1.0192,\n",
      "         0.0000, -0.5594])\n",
      "tensor([-0.3253,  0.5758,  1.0494, -1.6311, -0.3542,  0.0000, -0.3168,  0.5510,\n",
      "        -0.8732,  0.0000, -0.5737,  0.0000, -0.0224,  1.6518,  2.4499, -0.2064,\n",
      "         0.2109,  0.0000,  0.2750, -1.2527, -0.2870, -0.3726, -0.3803,  0.9590,\n",
      "         0.0000, -0.3519])\n"
     ]
    }
   ],
   "source": [
    "# Note: Columns are permuted every time!\n",
    "# Also note that some of the values will already be predominantly 0; not to be confounded with your own corrupted zeros\n",
    "for x, y in iter(val_dataloader):\n",
    "    print(x['encoder_cont'][0][0])"
   ],
   "metadata": {
    "collapsed": false,
    "pycharm": {
     "name": "#%%\n"
    }
   }
  },
  {
   "cell_type": "code",
   "execution_count": 16,
   "outputs": [
    {
     "data": {
      "text/plain": "{'dataset': TimeSeriesDataSet[length=1695](\n \ttime_idx='time_idx',\n \ttarget='Entleerung_RüB',\n \tgroup_ids=['series'],\n \tweight=None,\n \tmax_encoder_length=48,\n \tmin_encoder_length=48,\n \tmin_prediction_idx=7008,\n \tmin_prediction_length=10,\n \tmax_prediction_length=10,\n \tstatic_categoricals=[],\n \tstatic_reals=[],\n \ttime_varying_known_categoricals=[],\n \ttime_varying_known_reals=[],\n \ttime_varying_unknown_categoricals=[],\n \ttime_varying_unknown_reals=['Unterwasser_pval', 'Fllstand Pumpensumpf_pval1', 'Strom P2_pval', 'Schieber Position_pval', 'Strom Pumpe 2_pval', 'Strom P6_pval', 'Strom Pumpe 1_pval', 'Füllstand_RRB', 'Fllstand Pumpensumpf_pval', 'Strom P5_pval', 'Strom Pumpe 1_pval1', 'Strom Pumpe 3_pval', 'Füllstand_RüB_3', 'Niederschlag', 'Fllstand SWS_pval', 'Entleerung_RüB', 'Füllstand_RüB_1', 'Strom Pumpe 2_pval1', 'Füllstand_RüB_2', 'Strom P1_pval', 'Durchflumenge_pval', 'Fllstand RWS_pval', 'Oberwasser_pval', 'Strom P3_pval', 'Strom P4_pval', 'Berechnete Durchflussmenge_pval'],\n \tvariable_groups={},\n \tconstant_fill_strategy={},\n \tallow_missing_timesteps=True,\n \tlags={},\n \tadd_relative_time_idx=False,\n \tadd_target_scales=False,\n \tadd_encoder_length=False,\n \ttarget_normalizer=EncoderNormalizer(\n \tmethod='standard',\n \tcenter=True,\n \tmax_length=None,\n \ttransformation=None,\n \tmethod_kwargs={}\n ),\n \tcategorical_encoders={'series': NaNLabelEncoder(add_nan=False, warn=True), '__group_id__series': NaNLabelEncoder(add_nan=False, warn=True)},\n \tscalers={'Unterwasser_pval': StandardScaler(), 'Fllstand Pumpensumpf_pval1': StandardScaler(), 'Strom P2_pval': StandardScaler(), 'Schieber Position_pval': StandardScaler(), 'Strom Pumpe 2_pval': StandardScaler(), 'Strom P6_pval': StandardScaler(), 'Strom Pumpe 1_pval': StandardScaler(), 'Füllstand_RRB': StandardScaler(), 'Fllstand Pumpensumpf_pval': StandardScaler(), 'Strom P5_pval': StandardScaler(), 'Strom Pumpe 1_pval1': StandardScaler(), 'Strom Pumpe 3_pval': StandardScaler(), 'Füllstand_RüB_3': StandardScaler(), 'Niederschlag': StandardScaler(), 'Fllstand SWS_pval': StandardScaler(), 'Füllstand_RüB_1': StandardScaler(), 'Strom Pumpe 2_pval1': StandardScaler(), 'Füllstand_RüB_2': StandardScaler(), 'Strom P1_pval': StandardScaler(), 'Durchflumenge_pval': StandardScaler(), 'Fllstand RWS_pval': StandardScaler(), 'Oberwasser_pval': StandardScaler(), 'Strom P3_pval': StandardScaler(), 'Strom P4_pval': StandardScaler(), 'Berechnete Durchflussmenge_pval': StandardScaler()},\n \trandomize_length=None,\n \tpredict_mode=False\n ),\n 'num_workers': 18,\n 'prefetch_factor': 2,\n 'pin_memory': False,\n 'pin_memory_device': '',\n 'timeout': 0,\n 'worker_init_fn': None,\n '_DataLoader__multiprocessing_context': None,\n '_dataset_kind': 0,\n 'batch_size': 32,\n 'drop_last': False,\n 'sampler': <torch.utils.data.sampler.SequentialSampler at 0x7f1fbc247a90>,\n 'batch_sampler': <torch.utils.data.sampler.BatchSampler at 0x7f1fba6e4a10>,\n 'generator': None,\n 'collate_fn': <function pytorch_forecasting.data.timeseries.TimeSeriesDataSet._collate_fn(batches: List[Tuple[Dict[str, torch.Tensor], torch.Tensor]]) -> Tuple[Dict[str, torch.Tensor], torch.Tensor]>,\n 'persistent_workers': False,\n '_DataLoader__initialized': True,\n '_IterableDataset_len_called': None,\n '_iterator': None}"
     },
     "execution_count": 16,
     "metadata": {},
     "output_type": "execute_result"
    }
   ],
   "source": [
    "val_dataloader.__dict__"
   ],
   "metadata": {
    "collapsed": false,
    "pycharm": {
     "name": "#%%\n"
    }
   }
  },
  {
   "cell_type": "code",
   "execution_count": 10,
   "outputs": [],
   "source": [
    "validation.save('./RIWWER/Vierlinden/val_dataset')"
   ],
   "metadata": {
    "collapsed": false,
    "pycharm": {
     "name": "#%%\n"
    }
   }
  },
  {
   "cell_type": "code",
   "execution_count": 11,
   "outputs": [],
   "source": [
    "loaded_validation = validation.load('./RIWWER/Vierlinden/val_dataset')"
   ],
   "metadata": {
    "collapsed": false,
    "pycharm": {
     "name": "#%%\n"
    }
   }
  },
  {
   "cell_type": "code",
   "execution_count": 12,
   "outputs": [],
   "source": [
    "loaded_val_dataloader = loaded_validation.to_dataloader(train=False, batch_size=batch_size, num_workers=18)"
   ],
   "metadata": {
    "collapsed": false,
    "pycharm": {
     "name": "#%%\n"
    }
   }
  },
  {
   "cell_type": "code",
   "execution_count": 13,
   "outputs": [
    {
     "name": "stdout",
     "output_type": "stream",
     "text": [
      "tensor([-0.5253, -0.8876, -0.2080,  0.3277, -0.3542,  0.0000, -0.3168, -0.0343,\n",
      "        -0.3695,  0.0000, -0.5737,  0.0000, -0.1662, -0.5797, -0.4267,  0.2865,\n",
      "         0.0484,  0.0000,  0.1159, -1.0347, -0.6172,  2.5225, -0.5339, -0.1855,\n",
      "         0.0000, -0.4248])\n",
      "tensor([ 0.4267, -0.7687, -0.2080,  0.3277, -0.3542,  0.0000, -0.3168, -0.0134,\n",
      "         0.4557,  0.0000, -0.5737,  0.0000, -0.1542,  0.7125, -0.4908, -0.2818,\n",
      "         0.0484,  0.0000,  0.1318,  0.1016, -0.0537,  2.5225,  0.3815, -0.1855,\n",
      "         0.0000,  0.0588])\n",
      "tensor([ 0.6659, -1.2627, -0.2080,  0.3277, -0.3542,  0.0000, -0.3168, -1.6022,\n",
      "         0.7742,  0.0000, -0.5737,  0.0000, -0.3221,  7.6081, -0.4006, -0.2232,\n",
      "        -1.6573,  0.0000, -1.5710, -0.2915,  0.2703,  2.5225,  0.2223, -0.1855,\n",
      "         0.0000, -0.2989])\n",
      "tensor([-0.6438,  0.3677, -0.2080,  0.3277, -0.3542,  0.0000, -0.3168, -0.6824,\n",
      "        -1.4598,  0.0000, -0.5737,  0.0000, -0.4060, -0.5797, -0.4231,  2.4826,\n",
      "        -0.2440,  0.0000, -0.4252, -0.1241, -0.7025,  2.5225, -0.9702, -0.1855,\n",
      "         0.0000, -0.9470])\n",
      "tensor([-0.2734,  0.2742, -0.2080,  0.3277, -0.3542,  0.0000, -0.3168, -1.6022,\n",
      "        -0.3211,  0.0000,  1.4546,  0.0000, -0.8257, -0.5797, -0.4250,  0.0000,\n",
      "        -1.7223,  0.0000, -1.8415, -0.2253, -0.5312, -0.3726,  0.3633, -0.1855,\n",
      "         0.0000,  0.4685])\n",
      "tensor([-0.2382,  1.0812, -0.2080,  0.3277, -0.3542,  0.0000, -0.3168, -1.6022,\n",
      "        -0.9035,  0.0000,  0.6198,  0.0000, -0.8257, -0.5797, -0.4702,  0.0000,\n",
      "        -1.7223,  0.0000, -1.8415, -0.4401, -0.5259, -0.3726,  0.2476, -0.1855,\n",
      "         0.0000,  0.3385])\n",
      "tensor([-0.6700,  1.0461, -0.2080,  0.3277, -0.3542,  0.0000, -0.3168, -1.6022,\n",
      "        -0.1721,  0.0000, -0.5737,  0.0000, -0.8257, -0.5797, -0.2831,  0.0000,\n",
      "        -1.7223,  0.0000, -1.8415, -0.7284, -0.6923, -0.3726, -0.3034, -0.1855,\n",
      "         0.0000, -0.1759])\n",
      "tensor([-0.1140,  0.6295, -0.2080,  0.3277, -0.3542,  0.0000,  0.3395, -1.6022,\n",
      "        -0.5399,  0.0000, -0.5737,  0.0000, -0.8257,  0.6562, -0.3983,  0.0000,\n",
      "        -1.7223,  0.0000, -1.8415, -0.3197, -0.5274, -0.3726,  0.3675, -0.1855,\n",
      "         0.0000,  0.4090])\n",
      "tensor([-0.1348, -0.0905,  2.1765,  0.3277,  6.9570,  0.0000, -0.3168, -1.6022,\n",
      "         3.3301,  0.0000, -0.5737,  0.0000, -0.8257,  0.1734,  2.5516,  0.0000,\n",
      "        -1.7223,  0.0000, -1.8415, -1.2527, -0.3967, -0.3726,  0.0154, -0.1855,\n",
      "         0.0000, -0.0691])\n",
      "tensor([-0.1106, -0.9041,  1.0494,  0.3277,  0.9193,  0.0000, -0.3168, -1.6022,\n",
      "        -0.2733,  0.0000, -0.5737,  0.0000, -0.8257, -0.5797,  2.5631, -0.3845,\n",
      "        -1.7223,  0.0000, -1.8415, -1.2527, -0.2515,  2.5225, -0.2535, -0.1855,\n",
      "         0.0000, -0.2481])\n",
      "tensor([ 0.0593,  1.0573,  2.0317,  0.3277, -0.3542,  0.0000, -0.3168, -1.6022,\n",
      "        -0.1875,  0.0000, -0.1397,  0.0000, -0.8257,  1.0939,  2.5979, -0.3891,\n",
      "        -1.7223,  0.0000, -1.8415, -1.2527, -0.0535, -0.3726,  0.0619, -0.1855,\n",
      "         0.0000, -0.1243])\n",
      "tensor([ 1.7707, -0.8243, -0.2080,  0.3277,  0.7071,  0.0000, -0.3168, -0.4106,\n",
      "        -0.0679,  0.0000,  1.0538,  0.0000, -0.1782,  0.5807, -0.3719, -0.0949,\n",
      "         0.0484,  0.0000,  0.1000,  1.3807,  1.2319, -0.3726,  1.6696, -0.1855,\n",
      "         0.0000,  1.2165])\n",
      "tensor([-0.6763, -0.4124, -0.2080,  0.3277, -0.3542,  0.0000, -0.3168, -0.4106,\n",
      "         0.6881,  0.0000, -0.5737,  0.0000, -0.1782, -0.5797, -0.3694, -0.5678,\n",
      "         0.0484,  0.0000,  0.1000, -0.1692, -0.3094, -0.3726, -0.7431, -0.1855,\n",
      "         0.0000, -0.6238])\n",
      "tensor([ 0.5987, -1.2359, -0.2080,  0.3277, -0.3542,  0.0000,  0.4904, -0.4106,\n",
      "        -0.1197,  0.0000, -0.5737,  0.0000, -0.1782, -0.5797, -0.4173, -1.1343,\n",
      "         0.0484,  0.0000,  0.1000,  0.1016,  0.2178, -0.3726,  0.3915, -0.1855,\n",
      "         0.0000,  0.0663])\n",
      "tensor([ 1.0187, -0.4979, -0.2080,  0.3277, -0.3542,  0.0000,  0.6518, -0.3688,\n",
      "        -0.3699,  0.0000,  1.4546,  0.0000, -0.1782,  4.6541, -0.4471,  0.5627,\n",
      "         0.0484,  0.0000,  0.1000,  1.2001,  0.4797, -0.3726,  0.9502, -0.1855,\n",
      "         0.0000,  0.5775])\n",
      "tensor([-0.6978,  0.2351, -0.2080,  0.3277, -0.3542,  0.0000, -0.3168, -0.3479,\n",
      "         0.5619,  0.0000,  1.6325,  0.0000, -0.1662, -0.5797, -0.3727,  0.0138,\n",
      "         0.0484,  0.0000,  0.1159,  0.2822, -0.5696, -0.3726, -0.8179, -0.1855,\n",
      "         0.0000, -0.6906])\n",
      "tensor([-0.1317,  0.3173, -0.2080,  0.3277, -0.3542,  0.0000, -0.3168, -0.3479,\n",
      "        -0.8227,  0.0000,  1.4546,  0.0000, -0.1662, -0.5797, -0.4727, -0.9930,\n",
      "         0.0484,  0.0000,  0.1159,  0.3274, -0.1798, -0.3726, -0.1539, -0.1855,\n",
      "         0.0000, -0.2322])\n",
      "tensor([-0.1981,  0.5145, -0.2080,  0.3277,  0.4848,  0.0000, -0.3168, -0.3479,\n",
      "         0.6335,  0.0000,  1.4546,  0.0000, -0.1662, -0.5797, -0.4607,  0.2230,\n",
      "         0.0484,  0.0000,  0.1159,  0.2521, -0.2467, -0.3726, -0.1978, -0.1855,\n",
      "         0.0000, -0.2361])\n",
      "tensor([ 0.2431, -1.3490, -0.2080,  0.3277, -0.3542,  0.0000, -0.3168, -0.3479,\n",
      "        -0.5224,  0.0000, -0.5737,  0.0000, -0.1662, -0.5797, -0.3364, -0.0808,\n",
      "         0.0484,  0.0000,  0.1159, -0.5304,  0.2524, -0.3726,  0.0954, -0.1855,\n",
      "         0.0000, -0.0679])\n",
      "tensor([-0.5452, -0.5548, -0.2080,  0.3277, -0.3542,  0.0000, -0.3168, -0.3270,\n",
      "        -0.9040,  0.0000, -0.5737,  0.0000, -0.1662, -0.5797, -0.4132,  1.0406,\n",
      "         0.0647,  0.0000,  0.1159,  0.5531, -0.3263, -0.3726, -0.6844, -0.1855,\n",
      "         0.0000, -0.7201])\n",
      "tensor([-0.1306,  0.2585, -0.2080,  0.3277,  0.3533,  0.0000, -0.3168, -0.3270,\n",
      "        -1.0760,  0.0000, -0.5737,  0.0000, -0.1662, -0.5797, -0.3207, -1.6404,\n",
      "         0.0647,  0.0000,  0.1159, -0.3498, -0.1339, -0.3726, -0.3712, -0.1855,\n",
      "         0.0000, -0.4843])\n",
      "tensor([-0.6978,  0.4942, -0.2080,  0.3277, -0.3542,  0.0000,  0.4776, -0.3270,\n",
      "         0.1506,  0.0000, -0.5737,  0.0000, -0.1662, -0.5797, -0.2768, -1.1370,\n",
      "         0.0647,  0.0000,  0.1159, -0.8086, -0.3605, -0.3726, -0.7846, -0.1855,\n",
      "         0.0000, -0.6316])\n",
      "tensor([ 0.6455, -1.2397, -0.2080,  0.3277, -0.3542,  0.0000, -0.3168, -0.3270,\n",
      "        -0.5077,  0.0000,  0.3870,  0.0000, -0.1662, -0.5797, -0.4272,  0.9475,\n",
      "         0.0647,  0.0000,  0.1159,  0.1016,  0.3183, -0.3726,  0.3916, -0.1855,\n",
      "         0.0000, -0.0068])\n",
      "tensor([ 0.0636,  0.8973, -0.2080,  0.3277,  0.3533,  0.0000, -0.3168, -0.3061,\n",
      "         0.4415,  0.0000, -0.5737,  0.0000, -0.1542, -0.5797, -0.4411, -0.2425,\n",
      "         0.0647,  0.0000,  0.1159, -0.3820, -0.0117, -0.3726, -0.2213, -0.1855,\n",
      "         0.0000, -0.4100])\n",
      "tensor([ 0.4288, -1.2826, -0.2080,  0.3277, -0.3542,  0.0000, -0.3168, -0.3061,\n",
      "         0.9664,  0.0000, -0.5737,  0.0000, -0.1542, -0.5797, -0.3760,  1.6198,\n",
      "         0.0647,  0.0000,  0.1159, -0.6056,  0.4018, -0.3726,  0.1280, -0.1855,\n",
      "         0.0000, -0.1639])\n",
      "tensor([ 0.1657,  0.3112,  1.0494,  0.3277, -0.3542,  0.0000, -0.3168, -0.2852,\n",
      "        -0.7032,  0.0000, -0.5737,  0.0000, -0.1542, -0.5797,  2.5259, -0.9675,\n",
      "         0.0647,  0.0000,  0.1318, -1.2527, -0.2173, -0.3726, -0.2272,  0.9590,\n",
      "         0.0000, -0.4267])\n",
      "tensor([-0.0351,  1.1514, -0.2080,  0.3277, -0.3542,  0.0000,  0.6518, -0.2643,\n",
      "        -0.4885,  0.0000,  0.2943,  0.0000, -0.1542, -0.5797, -0.4338,  0.1046,\n",
      "         0.0647,  0.0000,  0.1318,  0.4628, -0.0510, -0.3726, -0.2961, -0.1855,\n",
      "         0.0000, -0.3888])\n",
      "tensor([ 0.3380, -1.1436, -0.2080,  0.3277, -0.3542,  0.0000, -0.3168, -0.2643,\n",
      "        -0.4316,  0.0000, -0.5737,  0.0000, -0.1542, -0.5797, -0.4289,  2.4224,\n",
      "         0.0647,  0.0000,  0.1318, -0.1391,  0.1324, -0.3726, -0.2256, -0.1855,\n",
      "         0.0000, -0.6209])\n",
      "tensor([ 0.8787,  0.5340, -0.2080,  0.3277, -0.3542,  0.0000,  0.6518, -0.2643,\n",
      "        -0.3194,  0.0000, -0.5737,  0.0000, -0.1542,  0.5766, -0.4082, -0.5683,\n",
      "         0.0647,  0.0000,  0.1318,  1.1098,  0.8312, -0.3726,  0.7213, -0.1855,\n",
      "         0.0000,  0.2613])\n",
      "tensor([ 0.0959, -0.1270, -0.2080,  0.3277,  0.5742,  0.0000, -0.3168, -0.2225,\n",
      "         0.7358,  0.0000, -0.5737,  0.0000, -0.1423, -0.5797, -0.4322,  1.0268,\n",
      "         0.0809,  0.0000,  0.1477,  0.1919,  0.1967, -0.3726, -0.1426, -0.1855,\n",
      "         0.0000, -0.2770])\n",
      "tensor([ 0.1603, -1.3817, -0.2080,  0.3277, -0.3542,  0.0000, -0.3168, -0.2225,\n",
      "         0.1810,  0.0000, -0.5737,  0.0000, -0.1423, -0.5797, -0.4199, -1.1326,\n",
      "         0.0809,  0.0000,  0.1477, -0.0112,  0.3154, -0.3726,  0.0456, -0.1855,\n",
      "         0.0000, -0.0880])\n",
      "tensor([ 1.5440,  0.2449, -0.2080,  0.3277,  0.4948,  0.0000,  0.0113, -0.2225,\n",
      "         0.2681,  0.0000, -0.5737,  0.0000, -0.1423,  0.6375, -0.4272, -0.4793,\n",
      "         0.0809,  0.0000,  0.1477,  2.5695,  1.3469, -0.3726,  1.3753, -0.1855,\n",
      "         0.0000,  0.9281])\n",
      "tensor([ 1.0473, -0.8127, -0.2080,  0.3277, -0.3542,  0.0000, -0.3168,  3.5195,\n",
      "        -0.7482,  0.0000, -0.5737,  0.0000,  4.8334,  0.2236, -0.3711, -0.2044,\n",
      "         0.2271,  0.0000, -0.0273,  1.2754,  0.1632,  2.5225,  0.8553, -0.1855,\n",
      "         0.0000,  0.3459])\n",
      "tensor([-0.6282, -0.7566, -0.2080,  0.3277, -0.3542,  0.0000,  0.4904,  3.4358,\n",
      "        -0.5813,  0.0000, -0.5737,  0.0000,  3.9222, -0.5797, -0.4016, -0.4551,\n",
      "         0.9906,  0.0000,  0.8320,  0.1919, -0.5985, -0.3726, -0.6612, -0.1855,\n",
      "         0.0000, -0.4846])\n",
      "tensor([-0.3687, -0.3700, -0.2080,  0.3277, -0.3542,  0.0000,  0.4904,  0.4883,\n",
      "        -0.4008,  0.0000, -0.5737,  0.0000,  0.0496,  2.3212, -0.4388, -0.2266,\n",
      "         0.0322,  0.0000,  0.0204,  0.1016, -0.5025, -0.3726, -0.4269, -0.1855,\n",
      "         0.0000, -0.4267])\n",
      "tensor([ 0.4927, -1.2012, -0.2080,  0.3277, -0.3542,  0.0000, -0.3168,  0.5092,\n",
      "        -0.3109,  0.0000,  0.3230,  0.0000, -0.0583,  0.2571, -0.4446,  2.5927,\n",
      "         0.1784,  0.0000,  0.2432,  0.8239,  0.3867, -0.3726,  0.3835, -0.1855,\n",
      "         0.0000,  0.1053])\n",
      "tensor([ 3.1502, -0.0895, -0.2080,  0.3277,  1.5954,  0.0000,  1.0691,  0.5092,\n",
      "        -0.2668,  0.0000,  0.6005,  0.0000, -0.0583,  0.5360,  2.7019, -1.3250,\n",
      "         0.1946,  0.0000,  0.2591,  4.1646,  3.3342, -0.3726,  3.1001, -0.1855,\n",
      "         0.0000,  2.8977])\n",
      "tensor([ 0.4132, -1.0046, -0.2080,  0.3277, -0.3542,  0.0000, -0.3168,  0.5092,\n",
      "        -0.7122,  0.0000,  1.0538,  0.0000, -0.0463, -0.5797, -0.4320,  0.8236,\n",
      "         0.1946,  0.0000,  0.2591,  0.5056,  0.4949, -0.3726,  0.2984, -0.1855,\n",
      "         0.0000,  0.1307])\n",
      "tensor([ 0.1646, -1.2492, -0.2080,  0.3277, -0.3542,  0.0000,  0.3289,  0.5092,\n",
      "         1.1413,  0.0000, -0.3567,  0.0000, -0.0463,  0.2571, -0.3686,  0.8349,\n",
      "         0.1946,  0.0000,  0.2591,  0.0565,  0.2549, -0.3726,  1.0572, -0.1855,\n",
      "         0.0000,  1.4991])\n",
      "tensor([-0.8528, -0.2708, -0.2080,  0.3277,  0.4948,  0.0000, -0.3168,  0.5092,\n",
      "        -0.4889,  0.0000,  1.2410,  0.0000, -0.0463, -0.5797, -0.3421, -0.8627,\n",
      "         0.1946,  0.0000,  0.2591, -0.6207, -0.6178, -0.3726, -0.5589, -0.1855,\n",
      "         0.0000, -0.3269])\n",
      "tensor([ 1.4316, -0.6293, -0.2080,  0.3277, -0.3542,  0.0000,  0.8133,  0.5301,\n",
      "        -0.0738,  0.0000,  1.5613,  0.0000, -0.0463,  0.9505, -0.4033, -2.5123,\n",
      "         0.1946,  0.0000,  0.2591,  1.3807,  1.3062, -0.3726,  1.4284, -0.1855,\n",
      "         0.0000,  1.1042])\n",
      "tensor([ 0.4929, -1.1086, -0.2080,  0.3277, -0.3542,  0.0000, -0.3168,  0.5301,\n",
      "         0.0916,  0.0000, -0.5737,  0.0000, -0.0344, -0.5797, -0.4041, -0.4599,\n",
      "         0.2109,  0.0000,  0.2591, -0.1692,  0.2495, -0.3726,  0.5002, -0.1855,\n",
      "         0.0000,  0.3637])\n",
      "tensor([-8.1710e-01, -1.0286e-03, -2.0803e-01,  3.2768e-01, -3.5422e-01,\n",
      "         0.0000e+00, -3.1683e-01,  5.3010e-01,  6.8994e-01,  0.0000e+00,\n",
      "        -5.7374e-01,  0.0000e+00, -3.4353e-02, -5.7968e-01, -4.8340e-01,\n",
      "        -1.7794e+00,  2.1088e-01,  0.0000e+00,  2.7504e-01, -9.8181e-01,\n",
      "        -5.8742e-01, -3.7261e-01, -7.4415e-01, -1.8552e-01,  0.0000e+00,\n",
      "        -5.0626e-01])\n",
      "tensor([ 0.5594, -1.2450, -0.2080,  0.3277,  0.4948,  0.0000, -0.3168,  0.5301,\n",
      "        -0.4182,  0.0000, -0.3567,  0.0000, -0.0344, -0.5797, -0.3744,  0.3985,\n",
      "         0.2109,  0.0000,  0.2750, -0.3498,  0.3780, -0.3726,  0.4568, -0.1855,\n",
      "         0.0000,  0.1155])\n",
      "tensor([-0.2521,  0.1775, -0.2080,  0.3277,  1.4306,  0.0000, -0.3168,  0.5301,\n",
      "        -0.4841,  0.0000,  1.3478,  0.0000, -0.0344, -0.5797, -0.3626,  0.1977,\n",
      "         0.2109,  0.0000,  0.2750, -0.0385, -0.2970, -0.3726, -0.3530, -0.1855,\n",
      "         0.0000, -0.3115])\n",
      "tensor([-0.6978,  1.0788, -0.2080,  0.3277, -0.3542,  0.0000, -0.3168,  0.5301,\n",
      "        -1.1116,  0.0000, -0.5737,  0.0000, -0.0344, -0.5797, -0.4173,  1.0168,\n",
      "         0.2109,  0.0000,  0.2750, -0.5153, -0.4667, -0.3726, -0.6527, -0.1855,\n",
      "         0.0000, -0.4574])\n",
      "tensor([-0.3426,  0.0345, -0.2080,  0.3277,  0.8250,  0.0000, -0.3168,  0.5301,\n",
      "        -0.0552,  0.0000, -0.5737,  0.0000, -0.0344, -0.5797, -0.4099,  1.8745,\n",
      "         0.2109,  0.0000,  0.2750,  0.2371, -0.0891, -0.3726, -0.4868, -0.1855,\n",
      "         0.0000, -0.5015])\n",
      "tensor([ 0.4164, -0.8772, -0.2080, -1.6311,  0.4712,  0.0000, -0.3168,  0.5301,\n",
      "        -0.6474,  0.0000, -0.5737,  0.0000, -0.0344, -0.5797, -0.4388, -0.4942,\n",
      "         0.2109,  0.0000,  0.2750, -0.2896,  0.3032, -0.3726,  0.1946, -0.1855,\n",
      "         0.0000, -0.1276])\n",
      "tensor([-0.9772,  1.0730, -0.2080, -1.6311,  0.4948,  0.0000, -0.3168,  0.5301,\n",
      "        -0.5942,  0.0000,  0.8368,  0.0000, -0.0344, -0.5797, -0.4801, -1.1160,\n",
      "         0.2109,  0.0000,  0.2750, -0.5906, -0.2962, -0.3726, -0.6119, -0.1855,\n",
      "         0.0000, -0.3515])\n",
      "tensor([-0.2665, -0.0667,  3.0772, -1.6311, -0.3542,  0.0000, -0.3168,  0.5510,\n",
      "        -0.4117,  0.0000, -0.5737,  0.0000, -0.0344,  0.2571,  2.5077,  1.3217,\n",
      "         0.2109,  0.0000,  0.2750, -1.2527,  0.0869, -0.3726, -0.2267,  0.9590,\n",
      "         0.0000, -0.2269])\n",
      "tensor([-0.2521,  1.1422, -0.2080, -1.6311,  0.3533,  0.0000, -0.3168,  0.5510,\n",
      "        -1.2464,  0.0000, -0.1397,  0.0000, -0.0224, -0.5797,  2.5581, -0.2342,\n",
      "         0.2109,  0.0000,  0.2750, -1.2527, -0.1988, -0.3726, -0.2116,  0.9485,\n",
      "         0.0000, -0.2457])\n",
      "tensor([-0.7253,  0.0893, -0.2080, -1.6311,  0.6206,  0.0000, -0.3168,  0.5510,\n",
      "         0.5243,  0.0000, -0.5737,  0.0000, -0.0224, -0.5797,  2.5331, -2.0056,\n",
      "         0.2109,  0.0000,  0.2750, -1.2527, -0.4964, -0.3726, -0.7730,  1.0192,\n",
      "         0.0000, -0.5594])\n",
      "tensor([-0.3253,  0.5758,  1.0494, -1.6311, -0.3542,  0.0000, -0.3168,  0.5510,\n",
      "        -0.8732,  0.0000, -0.5737,  0.0000, -0.0224,  1.6518,  2.4499, -0.2064,\n",
      "         0.2109,  0.0000,  0.2750, -1.2527, -0.2870, -0.3726, -0.3803,  0.9590,\n",
      "         0.0000, -0.3519])\n"
     ]
    }
   ],
   "source": [
    "for x, y in iter(loaded_val_dataloader):\n",
    "    print(x['encoder_cont'][0][0])"
   ],
   "metadata": {
    "collapsed": false,
    "pycharm": {
     "name": "#%%\n"
    }
   }
  },
  {
   "cell_type": "code",
   "execution_count": 17,
   "outputs": [
    {
     "data": {
      "text/plain": "{'dataset': TimeSeriesDataSet[length=1695](\n \ttime_idx='time_idx',\n \ttarget='Entleerung_RüB',\n \tgroup_ids=['series'],\n \tweight=None,\n \tmax_encoder_length=48,\n \tmin_encoder_length=48,\n \tmin_prediction_idx=7008,\n \tmin_prediction_length=10,\n \tmax_prediction_length=10,\n \tstatic_categoricals=[],\n \tstatic_reals=[],\n \ttime_varying_known_categoricals=[],\n \ttime_varying_known_reals=[],\n \ttime_varying_unknown_categoricals=[],\n \ttime_varying_unknown_reals=['Unterwasser_pval', 'Fllstand Pumpensumpf_pval1', 'Strom P2_pval', 'Schieber Position_pval', 'Strom Pumpe 2_pval', 'Strom P6_pval', 'Strom Pumpe 1_pval', 'Füllstand_RRB', 'Fllstand Pumpensumpf_pval', 'Strom P5_pval', 'Strom Pumpe 1_pval1', 'Strom Pumpe 3_pval', 'Füllstand_RüB_3', 'Niederschlag', 'Fllstand SWS_pval', 'Entleerung_RüB', 'Füllstand_RüB_1', 'Strom Pumpe 2_pval1', 'Füllstand_RüB_2', 'Strom P1_pval', 'Durchflumenge_pval', 'Fllstand RWS_pval', 'Oberwasser_pval', 'Strom P3_pval', 'Strom P4_pval', 'Berechnete Durchflussmenge_pval'],\n \tvariable_groups={},\n \tconstant_fill_strategy={},\n \tallow_missing_timesteps=True,\n \tlags={},\n \tadd_relative_time_idx=False,\n \tadd_target_scales=False,\n \tadd_encoder_length=False,\n \ttarget_normalizer=EncoderNormalizer(\n \tmethod='standard',\n \tcenter=True,\n \tmax_length=None,\n \ttransformation=None,\n \tmethod_kwargs={}\n ),\n \tcategorical_encoders={'series': NaNLabelEncoder(add_nan=False, warn=True), '__group_id__series': NaNLabelEncoder(add_nan=False, warn=True)},\n \tscalers={'Unterwasser_pval': StandardScaler(), 'Fllstand Pumpensumpf_pval1': StandardScaler(), 'Strom P2_pval': StandardScaler(), 'Schieber Position_pval': StandardScaler(), 'Strom Pumpe 2_pval': StandardScaler(), 'Strom P6_pval': StandardScaler(), 'Strom Pumpe 1_pval': StandardScaler(), 'Füllstand_RRB': StandardScaler(), 'Fllstand Pumpensumpf_pval': StandardScaler(), 'Strom P5_pval': StandardScaler(), 'Strom Pumpe 1_pval1': StandardScaler(), 'Strom Pumpe 3_pval': StandardScaler(), 'Füllstand_RüB_3': StandardScaler(), 'Niederschlag': StandardScaler(), 'Fllstand SWS_pval': StandardScaler(), 'Füllstand_RüB_1': StandardScaler(), 'Strom Pumpe 2_pval1': StandardScaler(), 'Füllstand_RüB_2': StandardScaler(), 'Strom P1_pval': StandardScaler(), 'Durchflumenge_pval': StandardScaler(), 'Fllstand RWS_pval': StandardScaler(), 'Oberwasser_pval': StandardScaler(), 'Strom P3_pval': StandardScaler(), 'Strom P4_pval': StandardScaler(), 'Berechnete Durchflussmenge_pval': StandardScaler()},\n \trandomize_length=None,\n \tpredict_mode=False\n ),\n 'num_workers': 18,\n 'prefetch_factor': 2,\n 'pin_memory': False,\n 'pin_memory_device': '',\n 'timeout': 0,\n 'worker_init_fn': None,\n '_DataLoader__multiprocessing_context': None,\n '_dataset_kind': 0,\n 'batch_size': 32,\n 'drop_last': False,\n 'sampler': <torch.utils.data.sampler.SequentialSampler at 0x7f2014e92ed0>,\n 'batch_sampler': <torch.utils.data.sampler.BatchSampler at 0x7f2014bca810>,\n 'generator': None,\n 'collate_fn': <function pytorch_forecasting.data.timeseries.TimeSeriesDataSet._collate_fn(batches: List[Tuple[Dict[str, torch.Tensor], torch.Tensor]]) -> Tuple[Dict[str, torch.Tensor], torch.Tensor]>,\n 'persistent_workers': False,\n '_DataLoader__initialized': True,\n '_IterableDataset_len_called': None,\n '_iterator': None}"
     },
     "execution_count": 17,
     "metadata": {},
     "output_type": "execute_result"
    }
   ],
   "source": [
    "loaded_val_dataloader.__dict__"
   ],
   "metadata": {
    "collapsed": false,
    "pycharm": {
     "name": "#%%\n"
    }
   }
  },
  {
   "cell_type": "code",
   "execution_count": 22,
   "outputs": [
    {
     "name": "stderr",
     "output_type": "stream",
     "text": [
      "/home/tchiaburu/anaconda3/envs/torch_gpu_riwwer_new/lib/python3.11/site-packages/sklearn/base.py:464: UserWarning: X does not have valid feature names, but StandardScaler was fitted with feature names\n",
      "  warnings.warn(\n"
     ]
    },
    {
     "name": "stdout",
     "output_type": "stream",
     "text": [
      "tensor([-2.9263, -0.8876, -0.2080,  0.3277, -0.3542,  0.0000, -0.3168, -0.0343,\n",
      "        -0.3695,  0.0000, -0.5737,  0.0000, -0.1662, -0.5797, -0.4267,  0.2865,\n",
      "         0.0484,  0.0000,  0.1159, -1.0347, -0.6172,  2.5225, -0.5339, -0.1855,\n",
      "         0.0000, -0.4248])\n",
      "tensor([-2.9263, -0.7687, -0.2080,  0.3277, -0.3542,  0.0000, -0.3168, -0.0134,\n",
      "         0.4557,  0.0000, -0.5737,  0.0000, -0.1542,  0.7125, -0.4908, -0.2818,\n",
      "         0.0484,  0.0000,  0.1318,  0.1016, -0.0537,  2.5225,  0.3815, -0.1855,\n",
      "         0.0000,  0.0588])\n",
      "tensor([-2.9263, -1.2627, -0.2080,  0.3277, -0.3542,  0.0000, -0.3168, -1.6022,\n",
      "         0.7742,  0.0000, -0.5737,  0.0000, -0.3221,  7.6081, -0.4006, -0.2232,\n",
      "        -1.6573,  0.0000, -1.5710, -0.2915,  0.2703,  2.5225,  0.2223, -0.1855,\n",
      "         0.0000, -0.2989])\n",
      "tensor([-2.9263,  0.3677, -0.2080,  0.3277, -0.3542,  0.0000, -0.3168, -0.6824,\n",
      "        -1.4598,  0.0000, -0.5737,  0.0000, -0.4060, -0.5797, -0.4231,  2.4826,\n",
      "        -0.2440,  0.0000, -0.4252, -0.1241, -0.7025,  2.5225, -0.9702, -0.1855,\n",
      "         0.0000, -0.9470])\n",
      "tensor([-2.9263,  0.2742, -0.2080,  0.3277, -0.3542,  0.0000, -0.3168, -1.6022,\n",
      "        -0.3211,  0.0000,  1.4546,  0.0000, -0.8257, -0.5797, -0.4250,  0.0000,\n",
      "        -1.7223,  0.0000, -1.8415, -0.2253, -0.5312, -0.3726,  0.3633, -0.1855,\n",
      "         0.0000,  0.4685])\n",
      "tensor([-2.9263,  1.0812, -0.2080,  0.3277, -0.3542,  0.0000, -0.3168, -1.6022,\n",
      "        -0.9035,  0.0000,  0.6198,  0.0000, -0.8257, -0.5797, -0.4702,  0.0000,\n",
      "        -1.7223,  0.0000, -1.8415, -0.4401, -0.5259, -0.3726,  0.2476, -0.1855,\n",
      "         0.0000,  0.3385])\n",
      "tensor([-2.9263,  1.0461, -0.2080,  0.3277, -0.3542,  0.0000, -0.3168, -1.6022,\n",
      "        -0.1721,  0.0000, -0.5737,  0.0000, -0.8257, -0.5797, -0.2831,  0.0000,\n",
      "        -1.7223,  0.0000, -1.8415, -0.7284, -0.6923, -0.3726, -0.3034, -0.1855,\n",
      "         0.0000, -0.1759])\n",
      "tensor([-2.9263,  0.6295, -0.2080,  0.3277, -0.3542,  0.0000,  0.3395, -1.6022,\n",
      "        -0.5399,  0.0000, -0.5737,  0.0000, -0.8257,  0.6562, -0.3983,  0.0000,\n",
      "        -1.7223,  0.0000, -1.8415, -0.3197, -0.5274, -0.3726,  0.3675, -0.1855,\n",
      "         0.0000,  0.4090])\n",
      "tensor([-2.9263, -0.0905,  2.1765,  0.3277,  6.9570,  0.0000, -0.3168, -1.6022,\n",
      "         3.3301,  0.0000, -0.5737,  0.0000, -0.8257,  0.1734,  2.5516,  0.0000,\n",
      "        -1.7223,  0.0000, -1.8415, -1.2527, -0.3967, -0.3726,  0.0154, -0.1855,\n",
      "         0.0000, -0.0691])\n",
      "tensor([-2.9263, -0.9041,  1.0494,  0.3277,  0.9193,  0.0000, -0.3168, -1.6022,\n",
      "        -0.2733,  0.0000, -0.5737,  0.0000, -0.8257, -0.5797,  2.5631, -0.3845,\n",
      "        -1.7223,  0.0000, -1.8415, -1.2527, -0.2515,  2.5225, -0.2535, -0.1855,\n",
      "         0.0000, -0.2481])\n",
      "tensor([-2.9263,  1.0573,  2.0317,  0.3277, -0.3542,  0.0000, -0.3168, -1.6022,\n",
      "        -0.1875,  0.0000, -0.1397,  0.0000, -0.8257,  1.0939,  2.5979, -0.3891,\n",
      "        -1.7223,  0.0000, -1.8415, -1.2527, -0.0535, -0.3726,  0.0619, -0.1855,\n",
      "         0.0000, -0.1243])\n",
      "tensor([-2.9263, -0.8243, -0.2080,  0.3277,  0.7071,  0.0000, -0.3168, -0.4106,\n",
      "        -0.0679,  0.0000,  1.0538,  0.0000, -0.1782,  0.5807, -0.3719, -0.0949,\n",
      "         0.0484,  0.0000,  0.1000,  1.3807,  1.2319, -0.3726,  1.6696, -0.1855,\n",
      "         0.0000,  1.2165])\n",
      "tensor([-2.9263, -0.4124, -0.2080,  0.3277, -0.3542,  0.0000, -0.3168, -0.4106,\n",
      "         0.6881,  0.0000, -0.5737,  0.0000, -0.1782, -0.5797, -0.3694, -0.5678,\n",
      "         0.0484,  0.0000,  0.1000, -0.1692, -0.3094, -0.3726, -0.7431, -0.1855,\n",
      "         0.0000, -0.6238])\n",
      "tensor([-2.9263, -1.2359, -0.2080,  0.3277, -0.3542,  0.0000,  0.4904, -0.4106,\n",
      "        -0.1197,  0.0000, -0.5737,  0.0000, -0.1782, -0.5797, -0.4173, -1.1343,\n",
      "         0.0484,  0.0000,  0.1000,  0.1016,  0.2178, -0.3726,  0.3915, -0.1855,\n",
      "         0.0000,  0.0663])\n",
      "tensor([-2.9263, -0.4979, -0.2080,  0.3277, -0.3542,  0.0000,  0.6518, -0.3688,\n",
      "        -0.3699,  0.0000,  1.4546,  0.0000, -0.1782,  4.6541, -0.4471,  0.5627,\n",
      "         0.0484,  0.0000,  0.1000,  1.2001,  0.4797, -0.3726,  0.9502, -0.1855,\n",
      "         0.0000,  0.5775])\n",
      "tensor([-2.9263,  0.2351, -0.2080,  0.3277, -0.3542,  0.0000, -0.3168, -0.3479,\n",
      "         0.5619,  0.0000,  1.6325,  0.0000, -0.1662, -0.5797, -0.3727,  0.0138,\n",
      "         0.0484,  0.0000,  0.1159,  0.2822, -0.5696, -0.3726, -0.8179, -0.1855,\n",
      "         0.0000, -0.6906])\n",
      "tensor([-2.9263,  0.3173, -0.2080,  0.3277, -0.3542,  0.0000, -0.3168, -0.3479,\n",
      "        -0.8227,  0.0000,  1.4546,  0.0000, -0.1662, -0.5797, -0.4727, -0.9930,\n",
      "         0.0484,  0.0000,  0.1159,  0.3274, -0.1798, -0.3726, -0.1539, -0.1855,\n",
      "         0.0000, -0.2322])\n",
      "tensor([-2.9263,  0.5145, -0.2080,  0.3277,  0.4848,  0.0000, -0.3168, -0.3479,\n",
      "         0.6335,  0.0000,  1.4546,  0.0000, -0.1662, -0.5797, -0.4607,  0.2230,\n",
      "         0.0484,  0.0000,  0.1159,  0.2521, -0.2467, -0.3726, -0.1978, -0.1855,\n",
      "         0.0000, -0.2361])\n",
      "tensor([-2.9263, -1.3490, -0.2080,  0.3277, -0.3542,  0.0000, -0.3168, -0.3479,\n",
      "        -0.5224,  0.0000, -0.5737,  0.0000, -0.1662, -0.5797, -0.3364, -0.0808,\n",
      "         0.0484,  0.0000,  0.1159, -0.5304,  0.2524, -0.3726,  0.0954, -0.1855,\n",
      "         0.0000, -0.0679])\n",
      "tensor([-2.9263, -0.5548, -0.2080,  0.3277, -0.3542,  0.0000, -0.3168, -0.3270,\n",
      "        -0.9040,  0.0000, -0.5737,  0.0000, -0.1662, -0.5797, -0.4132,  1.0406,\n",
      "         0.0647,  0.0000,  0.1159,  0.5531, -0.3263, -0.3726, -0.6844, -0.1855,\n",
      "         0.0000, -0.7201])\n",
      "tensor([-2.9263,  0.2585, -0.2080,  0.3277,  0.3533,  0.0000, -0.3168, -0.3270,\n",
      "        -1.0760,  0.0000, -0.5737,  0.0000, -0.1662, -0.5797, -0.3207, -1.6404,\n",
      "         0.0647,  0.0000,  0.1159, -0.3498, -0.1339, -0.3726, -0.3712, -0.1855,\n",
      "         0.0000, -0.4843])\n",
      "tensor([-2.9263,  0.4942, -0.2080,  0.3277, -0.3542,  0.0000,  0.4776, -0.3270,\n",
      "         0.1506,  0.0000, -0.5737,  0.0000, -0.1662, -0.5797, -0.2768, -1.1370,\n",
      "         0.0647,  0.0000,  0.1159, -0.8086, -0.3605, -0.3726, -0.7846, -0.1855,\n",
      "         0.0000, -0.6316])\n",
      "tensor([-2.9263, -1.2397, -0.2080,  0.3277, -0.3542,  0.0000, -0.3168, -0.3270,\n",
      "        -0.5077,  0.0000,  0.3870,  0.0000, -0.1662, -0.5797, -0.4272,  0.9475,\n",
      "         0.0647,  0.0000,  0.1159,  0.1016,  0.3183, -0.3726,  0.3916, -0.1855,\n",
      "         0.0000, -0.0068])\n",
      "tensor([-2.9263,  0.8973, -0.2080,  0.3277,  0.3533,  0.0000, -0.3168, -0.3061,\n",
      "         0.4415,  0.0000, -0.5737,  0.0000, -0.1542, -0.5797, -0.4411, -0.2425,\n",
      "         0.0647,  0.0000,  0.1159, -0.3820, -0.0117, -0.3726, -0.2213, -0.1855,\n",
      "         0.0000, -0.4100])\n",
      "tensor([-2.9263, -1.2826, -0.2080,  0.3277, -0.3542,  0.0000, -0.3168, -0.3061,\n",
      "         0.9664,  0.0000, -0.5737,  0.0000, -0.1542, -0.5797, -0.3760,  1.6198,\n",
      "         0.0647,  0.0000,  0.1159, -0.6056,  0.4018, -0.3726,  0.1280, -0.1855,\n",
      "         0.0000, -0.1639])\n",
      "tensor([-2.9263,  0.3112,  1.0494,  0.3277, -0.3542,  0.0000, -0.3168, -0.2852,\n",
      "        -0.7032,  0.0000, -0.5737,  0.0000, -0.1542, -0.5797,  2.5259, -0.9675,\n",
      "         0.0647,  0.0000,  0.1318, -1.2527, -0.2173, -0.3726, -0.2272,  0.9590,\n",
      "         0.0000, -0.4267])\n",
      "tensor([-2.9263,  1.1514, -0.2080,  0.3277, -0.3542,  0.0000,  0.6518, -0.2643,\n",
      "        -0.4885,  0.0000,  0.2943,  0.0000, -0.1542, -0.5797, -0.4338,  0.1046,\n",
      "         0.0647,  0.0000,  0.1318,  0.4628, -0.0510, -0.3726, -0.2961, -0.1855,\n",
      "         0.0000, -0.3888])\n",
      "tensor([-2.9263, -1.1436, -0.2080,  0.3277, -0.3542,  0.0000, -0.3168, -0.2643,\n",
      "        -0.4316,  0.0000, -0.5737,  0.0000, -0.1542, -0.5797, -0.4289,  2.4224,\n",
      "         0.0647,  0.0000,  0.1318, -0.1391,  0.1324, -0.3726, -0.2256, -0.1855,\n",
      "         0.0000, -0.6209])\n",
      "tensor([-2.9263,  0.5340, -0.2080,  0.3277, -0.3542,  0.0000,  0.6518, -0.2643,\n",
      "        -0.3194,  0.0000, -0.5737,  0.0000, -0.1542,  0.5766, -0.4082, -0.5683,\n",
      "         0.0647,  0.0000,  0.1318,  1.1098,  0.8312, -0.3726,  0.7213, -0.1855,\n",
      "         0.0000,  0.2613])\n",
      "tensor([-2.9263, -0.1270, -0.2080,  0.3277,  0.5742,  0.0000, -0.3168, -0.2225,\n",
      "         0.7358,  0.0000, -0.5737,  0.0000, -0.1423, -0.5797, -0.4322,  1.0268,\n",
      "         0.0809,  0.0000,  0.1477,  0.1919,  0.1967, -0.3726, -0.1426, -0.1855,\n",
      "         0.0000, -0.2770])\n",
      "tensor([-2.9263, -1.3817, -0.2080,  0.3277, -0.3542,  0.0000, -0.3168, -0.2225,\n",
      "         0.1810,  0.0000, -0.5737,  0.0000, -0.1423, -0.5797, -0.4199, -1.1326,\n",
      "         0.0809,  0.0000,  0.1477, -0.0112,  0.3154, -0.3726,  0.0456, -0.1855,\n",
      "         0.0000, -0.0880])\n",
      "tensor([-2.9263,  0.2449, -0.2080,  0.3277,  0.4948,  0.0000,  0.0113, -0.2225,\n",
      "         0.2681,  0.0000, -0.5737,  0.0000, -0.1423,  0.6375, -0.4272, -0.4793,\n",
      "         0.0809,  0.0000,  0.1477,  2.5695,  1.3469, -0.3726,  1.3753, -0.1855,\n",
      "         0.0000,  0.9281])\n",
      "tensor([-2.9263, -0.8127, -0.2080,  0.3277, -0.3542,  0.0000, -0.3168,  3.5195,\n",
      "        -0.7482,  0.0000, -0.5737,  0.0000,  4.8334,  0.2236, -0.3711, -0.2044,\n",
      "         0.2271,  0.0000, -0.0273,  1.2754,  0.1632,  2.5225,  0.8553, -0.1855,\n",
      "         0.0000,  0.3459])\n",
      "tensor([-2.9263, -0.7566, -0.2080,  0.3277, -0.3542,  0.0000,  0.4904,  3.4358,\n",
      "        -0.5813,  0.0000, -0.5737,  0.0000,  3.9222, -0.5797, -0.4016, -0.4551,\n",
      "         0.9906,  0.0000,  0.8320,  0.1919, -0.5985, -0.3726, -0.6612, -0.1855,\n",
      "         0.0000, -0.4846])\n",
      "tensor([-2.9263, -0.3700, -0.2080,  0.3277, -0.3542,  0.0000,  0.4904,  0.4883,\n",
      "        -0.4008,  0.0000, -0.5737,  0.0000,  0.0496,  2.3212, -0.4388, -0.2266,\n",
      "         0.0322,  0.0000,  0.0204,  0.1016, -0.5025, -0.3726, -0.4269, -0.1855,\n",
      "         0.0000, -0.4267])\n",
      "tensor([-2.9263, -1.2012, -0.2080,  0.3277, -0.3542,  0.0000, -0.3168,  0.5092,\n",
      "        -0.3109,  0.0000,  0.3230,  0.0000, -0.0583,  0.2571, -0.4446,  2.5927,\n",
      "         0.1784,  0.0000,  0.2432,  0.8239,  0.3867, -0.3726,  0.3835, -0.1855,\n",
      "         0.0000,  0.1053])\n",
      "tensor([-2.9263, -0.0895, -0.2080,  0.3277,  1.5954,  0.0000,  1.0691,  0.5092,\n",
      "        -0.2668,  0.0000,  0.6005,  0.0000, -0.0583,  0.5360,  2.7019, -1.3250,\n",
      "         0.1946,  0.0000,  0.2591,  4.1646,  3.3342, -0.3726,  3.1001, -0.1855,\n",
      "         0.0000,  2.8977])\n",
      "tensor([-2.9263, -1.0046, -0.2080,  0.3277, -0.3542,  0.0000, -0.3168,  0.5092,\n",
      "        -0.7122,  0.0000,  1.0538,  0.0000, -0.0463, -0.5797, -0.4320,  0.8236,\n",
      "         0.1946,  0.0000,  0.2591,  0.5056,  0.4949, -0.3726,  0.2984, -0.1855,\n",
      "         0.0000,  0.1307])\n",
      "tensor([-2.9263, -1.2492, -0.2080,  0.3277, -0.3542,  0.0000,  0.3289,  0.5092,\n",
      "         1.1413,  0.0000, -0.3567,  0.0000, -0.0463,  0.2571, -0.3686,  0.8349,\n",
      "         0.1946,  0.0000,  0.2591,  0.0565,  0.2549, -0.3726,  1.0572, -0.1855,\n",
      "         0.0000,  1.4991])\n",
      "tensor([-2.9263, -0.2708, -0.2080,  0.3277,  0.4948,  0.0000, -0.3168,  0.5092,\n",
      "        -0.4889,  0.0000,  1.2410,  0.0000, -0.0463, -0.5797, -0.3421, -0.8627,\n",
      "         0.1946,  0.0000,  0.2591, -0.6207, -0.6178, -0.3726, -0.5589, -0.1855,\n",
      "         0.0000, -0.3269])\n",
      "tensor([-2.9263, -0.6293, -0.2080,  0.3277, -0.3542,  0.0000,  0.8133,  0.5301,\n",
      "        -0.0738,  0.0000,  1.5613,  0.0000, -0.0463,  0.9505, -0.4033, -2.5123,\n",
      "         0.1946,  0.0000,  0.2591,  1.3807,  1.3062, -0.3726,  1.4284, -0.1855,\n",
      "         0.0000,  1.1042])\n",
      "tensor([-2.9263, -1.1086, -0.2080,  0.3277, -0.3542,  0.0000, -0.3168,  0.5301,\n",
      "         0.0916,  0.0000, -0.5737,  0.0000, -0.0344, -0.5797, -0.4041, -0.4599,\n",
      "         0.2109,  0.0000,  0.2591, -0.1692,  0.2495, -0.3726,  0.5002, -0.1855,\n",
      "         0.0000,  0.3637])\n",
      "tensor([-2.9263e+00, -1.0286e-03, -2.0803e-01,  3.2768e-01, -3.5422e-01,\n",
      "         0.0000e+00, -3.1683e-01,  5.3010e-01,  6.8994e-01,  0.0000e+00,\n",
      "        -5.7374e-01,  0.0000e+00, -3.4353e-02, -5.7968e-01, -4.8340e-01,\n",
      "        -1.7794e+00,  2.1088e-01,  0.0000e+00,  2.7504e-01, -9.8181e-01,\n",
      "        -5.8742e-01, -3.7261e-01, -7.4415e-01, -1.8552e-01,  0.0000e+00,\n",
      "        -5.0626e-01])\n",
      "tensor([-2.9263, -1.2450, -0.2080,  0.3277,  0.4948,  0.0000, -0.3168,  0.5301,\n",
      "        -0.4182,  0.0000, -0.3567,  0.0000, -0.0344, -0.5797, -0.3744,  0.3985,\n",
      "         0.2109,  0.0000,  0.2750, -0.3498,  0.3780, -0.3726,  0.4568, -0.1855,\n",
      "         0.0000,  0.1155])\n",
      "tensor([-2.9263,  0.1775, -0.2080,  0.3277,  1.4306,  0.0000, -0.3168,  0.5301,\n",
      "        -0.4841,  0.0000,  1.3478,  0.0000, -0.0344, -0.5797, -0.3626,  0.1977,\n",
      "         0.2109,  0.0000,  0.2750, -0.0385, -0.2970, -0.3726, -0.3530, -0.1855,\n",
      "         0.0000, -0.3115])\n",
      "tensor([-2.9263,  1.0788, -0.2080,  0.3277, -0.3542,  0.0000, -0.3168,  0.5301,\n",
      "        -1.1116,  0.0000, -0.5737,  0.0000, -0.0344, -0.5797, -0.4173,  1.0168,\n",
      "         0.2109,  0.0000,  0.2750, -0.5153, -0.4667, -0.3726, -0.6527, -0.1855,\n",
      "         0.0000, -0.4574])\n",
      "tensor([-2.9263,  0.0345, -0.2080,  0.3277,  0.8250,  0.0000, -0.3168,  0.5301,\n",
      "        -0.0552,  0.0000, -0.5737,  0.0000, -0.0344, -0.5797, -0.4099,  1.8745,\n",
      "         0.2109,  0.0000,  0.2750,  0.2371, -0.0891, -0.3726, -0.4868, -0.1855,\n",
      "         0.0000, -0.5015])\n",
      "tensor([-2.9263, -0.8772, -0.2080, -1.6311,  0.4712,  0.0000, -0.3168,  0.5301,\n",
      "        -0.6474,  0.0000, -0.5737,  0.0000, -0.0344, -0.5797, -0.4388, -0.4942,\n",
      "         0.2109,  0.0000,  0.2750, -0.2896,  0.3032, -0.3726,  0.1946, -0.1855,\n",
      "         0.0000, -0.1276])\n",
      "tensor([-2.9263,  1.0730, -0.2080, -1.6311,  0.4948,  0.0000, -0.3168,  0.5301,\n",
      "        -0.5942,  0.0000,  0.8368,  0.0000, -0.0344, -0.5797, -0.4801, -1.1160,\n",
      "         0.2109,  0.0000,  0.2750, -0.5906, -0.2962, -0.3726, -0.6119, -0.1855,\n",
      "         0.0000, -0.3515])\n",
      "tensor([-2.9263, -0.0667,  3.0772, -1.6311, -0.3542,  0.0000, -0.3168,  0.5510,\n",
      "        -0.4117,  0.0000, -0.5737,  0.0000, -0.0344,  0.2571,  2.5077,  1.3217,\n",
      "         0.2109,  0.0000,  0.2750, -1.2527,  0.0869, -0.3726, -0.2267,  0.9590,\n",
      "         0.0000, -0.2269])\n",
      "tensor([-2.9263,  1.1422, -0.2080, -1.6311,  0.3533,  0.0000, -0.3168,  0.5510,\n",
      "        -1.2464,  0.0000, -0.1397,  0.0000, -0.0224, -0.5797,  2.5581, -0.2342,\n",
      "         0.2109,  0.0000,  0.2750, -1.2527, -0.1988, -0.3726, -0.2116,  0.9485,\n",
      "         0.0000, -0.2457])\n",
      "tensor([-2.9263,  0.0893, -0.2080, -1.6311,  0.6206,  0.0000, -0.3168,  0.5510,\n",
      "         0.5243,  0.0000, -0.5737,  0.0000, -0.0224, -0.5797,  2.5331, -2.0056,\n",
      "         0.2109,  0.0000,  0.2750, -1.2527, -0.4964, -0.3726, -0.7730,  1.0192,\n",
      "         0.0000, -0.5594])\n",
      "tensor([-2.9263,  0.5758,  1.0494, -1.6311, -0.3542,  0.0000, -0.3168,  0.5510,\n",
      "        -0.8732,  0.0000, -0.5737,  0.0000, -0.0224,  1.6518,  2.4499, -0.2064,\n",
      "         0.2109,  0.0000,  0.2750, -1.2527, -0.2870, -0.3726, -0.3803,  0.9590,\n",
      "         0.0000, -0.3519])\n"
     ]
    }
   ],
   "source": [
    "# Note: After replacing the feature with zeros, the TimeSeriesDataset applies 'transform_values'\n",
    "#       which leads to all the values in that column being replaced not by 0, but by another rescaled value\n",
    "loaded_validation.set_overwrite_values(0.0, 'Unterwasser_pval', 'all')\n",
    "loaded_val_dataloader_corr = loaded_validation.to_dataloader(train=False, batch_size=batch_size, num_workers=18)\n",
    "for x, y in iter(loaded_val_dataloader_corr):\n",
    "    print(x['encoder_cont'][0][0])"
   ],
   "metadata": {
    "collapsed": false,
    "pycharm": {
     "name": "#%%\n"
    }
   }
  },
  {
   "cell_type": "code",
   "execution_count": 24,
   "outputs": [
    {
     "data": {
      "text/plain": "{'values': tensor(-2.9263, dtype=torch.float64),\n 'variable': 'Unterwasser_pval',\n 'target': 'all'}"
     },
     "execution_count": 24,
     "metadata": {},
     "output_type": "execute_result"
    }
   ],
   "source": [
    "loaded_validation._overwrite_values"
   ],
   "metadata": {
    "collapsed": false,
    "pycharm": {
     "name": "#%%\n"
    }
   }
  }
 ],
 "metadata": {
  "kernelspec": {
   "name": "riwwer_new",
   "language": "python",
   "display_name": "riwwer_new"
  },
  "language_info": {
   "codemirror_mode": {
    "name": "ipython",
    "version": 2
   },
   "file_extension": ".py",
   "mimetype": "text/x-python",
   "name": "python",
   "nbconvert_exporter": "python",
   "pygments_lexer": "ipython2",
   "version": "2.7.6"
  }
 },
 "nbformat": 4,
 "nbformat_minor": 0
}