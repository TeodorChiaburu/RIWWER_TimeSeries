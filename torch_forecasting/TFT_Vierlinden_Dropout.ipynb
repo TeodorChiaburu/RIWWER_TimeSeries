{
 "cells": [
  {
   "cell_type": "markdown",
   "metadata": {
    "collapsed": true,
    "pycharm": {
     "name": "#%% md\n"
    }
   },
   "source": [
    "Time Series Forecast with NHiTS on the Vierlinden dataset (all sensors, 2021)"
   ]
  },
  {
   "cell_type": "code",
   "execution_count": 1,
   "outputs": [
    {
     "name": "stderr",
     "output_type": "stream",
     "text": [
      "Global seed set to 42\n"
     ]
    },
    {
     "data": {
      "text/plain": "42"
     },
     "execution_count": 1,
     "metadata": {},
     "output_type": "execute_result"
    }
   ],
   "source": [
    "import sys\n",
    "sys.path.append('./pytorch-forecasting/')\n",
    "import pandas as pd\n",
    "import numpy as np\n",
    "import torch\n",
    "import lightning.pytorch as pl\n",
    "from pytorch_forecasting import TemporalFusionTransformer, TimeSeriesDataSet\n",
    "from pytorch_forecasting.data import NaNLabelEncoder\n",
    "import matplotlib.pyplot as plt\n",
    "pl.seed_everything(42)"
   ],
   "metadata": {
    "collapsed": false,
    "pycharm": {
     "name": "#%%\n"
    }
   }
  },
  {
   "cell_type": "markdown",
   "source": [
    "### Load dataset"
   ],
   "metadata": {
    "collapsed": false
   }
  },
  {
   "cell_type": "code",
   "execution_count": 2,
   "outputs": [],
   "source": [
    "# Read the dataset into a DataFrame\n",
    "data = pd.read_csv('./RIWWER/Vierlinden/Vierlinden_2021_All.csv')\n",
    "\n",
    "# Drop columns that have lots of missing values\n",
    "data.drop([\"FLP_Hohenstand_Pumpensumpf_pval\",\"FLP_Strom_P3_pval\",\"FLP_Strom_P4_pval\",\"FLP_Strom_P5_pval\",\"Durchfluss SWP1 und SWP2_pval\",\"FLP_Hohenstand_Becken1_pval\",\"FLP_Hohenstand_Becken3_pval\",\"FLP_Hohenstand_Beckne2_pval\"], axis=1, inplace=True)\n",
    "\n",
    "# NaNs are not allowed by the model\n",
    "data.fillna(method=\"bfill\", inplace=True)\n",
    "data.fillna(method=\"ffill\", inplace=True)\n",
    "\n",
    "# Set Datetime as index\n",
    "data['Datetime'] = pd.to_datetime(data['Datetime'])\n",
    "\n",
    "# One time series for the whole year?\n",
    "data['series'] = 0\n",
    "\n",
    "# As many timesteps per timeseries as hours in every month?\n",
    "time_idx = []\n",
    "for i in range(1):\n",
    "    timesteps = len( data[ data['series'] == i ] )\n",
    "    time_idx += list(range(timesteps))\n",
    "data['time_idx'] = time_idx"
   ],
   "metadata": {
    "collapsed": false,
    "pycharm": {
     "name": "#%%\n"
    }
   }
  },
  {
   "cell_type": "code",
   "execution_count": 3,
   "outputs": [
    {
     "data": {
      "text/plain": "             Datetime  Schieber Position_pval  Oberwasser_pval  \\\n0 2021-01-01 00:00:00                   100.0         8.140845   \n1 2021-01-01 01:00:00                   100.0         8.000000   \n2 2021-01-01 02:00:00                   100.0         7.967742   \n3 2021-01-01 03:00:00                   100.0         7.076923   \n4 2021-01-01 04:00:00                   100.0         8.464789   \n\n   Unterwasser_pval  Durchflumenge_pval  Berechnete Durchflussmenge_pval  \\\n0          5.753623            7.689189                         7.732558   \n1          5.173913            6.808219                         8.271739   \n2          5.000000            5.813333                         7.197674   \n3          4.843750            4.216216                         4.743243   \n4          5.466667            8.384615                         8.325000   \n\n   Fllstand SWS_pval  Fllstand RWS_pval  Strom P1_pval  Strom P2_pval  ...  \\\n0          75.717949               36.0       1.076923            0.0  ...   \n1          75.717949               36.0       1.076923            0.0  ...   \n2          75.717949               36.0       1.076923            0.0  ...   \n3          75.717949               36.0       1.076923            0.0  ...   \n4          75.717949               36.0       1.076923            0.0  ...   \n\n   Strom Pumpe 2_pval1  Strom Pumpe 3_pval  Niederschlag  Füllstand_RRB  \\\n0                  0.0                 1.0      0.000000           1.47   \n1                  0.0                 1.0      1.182353           1.47   \n2                  0.0                 1.0      1.182353           1.47   \n3                  0.0                 1.0      1.182353           1.47   \n4                  0.0                 1.0      1.182353           1.47   \n\n   Entleerung_RüB  Füllstand_RüB_1  Füllstand_RüB_2  Füllstand_RüB_3  series  \\\n0           0.098             3.16             3.08             2.72       0   \n1           0.099             3.16             3.08             2.72       0   \n2           0.096             3.16             3.08             2.72       0   \n3           0.098             3.16             3.08             2.72       0   \n4           0.098             3.16             3.08             2.72       0   \n\n   time_idx  \n0         0  \n1         1  \n2         2  \n3         3  \n4         4  \n\n[5 rows x 29 columns]",
      "text/html": "<div>\n<style scoped>\n    .dataframe tbody tr th:only-of-type {\n        vertical-align: middle;\n    }\n\n    .dataframe tbody tr th {\n        vertical-align: top;\n    }\n\n    .dataframe thead th {\n        text-align: right;\n    }\n</style>\n<table border=\"1\" class=\"dataframe\">\n  <thead>\n    <tr style=\"text-align: right;\">\n      <th></th>\n      <th>Datetime</th>\n      <th>Schieber Position_pval</th>\n      <th>Oberwasser_pval</th>\n      <th>Unterwasser_pval</th>\n      <th>Durchflumenge_pval</th>\n      <th>Berechnete Durchflussmenge_pval</th>\n      <th>Fllstand SWS_pval</th>\n      <th>Fllstand RWS_pval</th>\n      <th>Strom P1_pval</th>\n      <th>Strom P2_pval</th>\n      <th>...</th>\n      <th>Strom Pumpe 2_pval1</th>\n      <th>Strom Pumpe 3_pval</th>\n      <th>Niederschlag</th>\n      <th>Füllstand_RRB</th>\n      <th>Entleerung_RüB</th>\n      <th>Füllstand_RüB_1</th>\n      <th>Füllstand_RüB_2</th>\n      <th>Füllstand_RüB_3</th>\n      <th>series</th>\n      <th>time_idx</th>\n    </tr>\n  </thead>\n  <tbody>\n    <tr>\n      <th>0</th>\n      <td>2021-01-01 00:00:00</td>\n      <td>100.0</td>\n      <td>8.140845</td>\n      <td>5.753623</td>\n      <td>7.689189</td>\n      <td>7.732558</td>\n      <td>75.717949</td>\n      <td>36.0</td>\n      <td>1.076923</td>\n      <td>0.0</td>\n      <td>...</td>\n      <td>0.0</td>\n      <td>1.0</td>\n      <td>0.000000</td>\n      <td>1.47</td>\n      <td>0.098</td>\n      <td>3.16</td>\n      <td>3.08</td>\n      <td>2.72</td>\n      <td>0</td>\n      <td>0</td>\n    </tr>\n    <tr>\n      <th>1</th>\n      <td>2021-01-01 01:00:00</td>\n      <td>100.0</td>\n      <td>8.000000</td>\n      <td>5.173913</td>\n      <td>6.808219</td>\n      <td>8.271739</td>\n      <td>75.717949</td>\n      <td>36.0</td>\n      <td>1.076923</td>\n      <td>0.0</td>\n      <td>...</td>\n      <td>0.0</td>\n      <td>1.0</td>\n      <td>1.182353</td>\n      <td>1.47</td>\n      <td>0.099</td>\n      <td>3.16</td>\n      <td>3.08</td>\n      <td>2.72</td>\n      <td>0</td>\n      <td>1</td>\n    </tr>\n    <tr>\n      <th>2</th>\n      <td>2021-01-01 02:00:00</td>\n      <td>100.0</td>\n      <td>7.967742</td>\n      <td>5.000000</td>\n      <td>5.813333</td>\n      <td>7.197674</td>\n      <td>75.717949</td>\n      <td>36.0</td>\n      <td>1.076923</td>\n      <td>0.0</td>\n      <td>...</td>\n      <td>0.0</td>\n      <td>1.0</td>\n      <td>1.182353</td>\n      <td>1.47</td>\n      <td>0.096</td>\n      <td>3.16</td>\n      <td>3.08</td>\n      <td>2.72</td>\n      <td>0</td>\n      <td>2</td>\n    </tr>\n    <tr>\n      <th>3</th>\n      <td>2021-01-01 03:00:00</td>\n      <td>100.0</td>\n      <td>7.076923</td>\n      <td>4.843750</td>\n      <td>4.216216</td>\n      <td>4.743243</td>\n      <td>75.717949</td>\n      <td>36.0</td>\n      <td>1.076923</td>\n      <td>0.0</td>\n      <td>...</td>\n      <td>0.0</td>\n      <td>1.0</td>\n      <td>1.182353</td>\n      <td>1.47</td>\n      <td>0.098</td>\n      <td>3.16</td>\n      <td>3.08</td>\n      <td>2.72</td>\n      <td>0</td>\n      <td>3</td>\n    </tr>\n    <tr>\n      <th>4</th>\n      <td>2021-01-01 04:00:00</td>\n      <td>100.0</td>\n      <td>8.464789</td>\n      <td>5.466667</td>\n      <td>8.384615</td>\n      <td>8.325000</td>\n      <td>75.717949</td>\n      <td>36.0</td>\n      <td>1.076923</td>\n      <td>0.0</td>\n      <td>...</td>\n      <td>0.0</td>\n      <td>1.0</td>\n      <td>1.182353</td>\n      <td>1.47</td>\n      <td>0.098</td>\n      <td>3.16</td>\n      <td>3.08</td>\n      <td>2.72</td>\n      <td>0</td>\n      <td>4</td>\n    </tr>\n  </tbody>\n</table>\n<p>5 rows × 29 columns</p>\n</div>"
     },
     "execution_count": 3,
     "metadata": {},
     "output_type": "execute_result"
    }
   ],
   "source": [
    "data.head()"
   ],
   "metadata": {
    "collapsed": false,
    "pycharm": {
     "name": "#%%\n"
    }
   }
  },
  {
   "cell_type": "code",
   "execution_count": 4,
   "outputs": [],
   "source": [
    "# Parameters for dataloaders\n",
    "max_encoder_length = 24*2\n",
    "max_prediction_length = 5*2\n",
    "training_cutoff = data[\"time_idx\"].max() * 4 // 5 # 80% for training\n",
    "context_length = max_encoder_length\n",
    "prediction_length = max_prediction_length\n",
    "batch_size = 32"
   ],
   "metadata": {
    "collapsed": false,
    "pycharm": {
     "name": "#%%\n"
    }
   }
  },
  {
   "cell_type": "code",
   "execution_count": 5,
   "outputs": [
    {
     "name": "stderr",
     "output_type": "stream",
     "text": [
      "/home/tchiaburu/anaconda3/envs/torch_gpu_riwwer_new/lib/python3.11/site-packages/lightning/pytorch/utilities/parsing.py:196: UserWarning: Attribute 'loss' is an instance of `nn.Module` and is already saved during checkpointing. It is recommended to ignore them using `self.save_hyperparameters(ignore=['loss'])`.\n",
      "  rank_zero_warn(\n",
      "/home/tchiaburu/anaconda3/envs/torch_gpu_riwwer_new/lib/python3.11/site-packages/lightning/pytorch/utilities/parsing.py:196: UserWarning: Attribute 'logging_metrics' is an instance of `nn.Module` and is already saved during checkpointing. It is recommended to ignore them using `self.save_hyperparameters(ignore=['logging_metrics'])`.\n",
      "  rank_zero_warn(\n"
     ]
    }
   ],
   "source": [
    "# Load best model\n",
    "best_model_path = './RIWWER/torch_forecasting/model_checkpoints/TFT_Vierlinden_saved_datasets/lightning_logs/version_6/checkpoints/epoch=40-step=6150.ckpt'\n",
    "best_model = TemporalFusionTransformer.load_from_checkpoint(best_model_path)"
   ],
   "metadata": {
    "collapsed": false,
    "pycharm": {
     "name": "#%%\n"
    }
   }
  },
  {
   "cell_type": "markdown",
   "source": [
    "### Corrupt sensor clusters"
   ],
   "metadata": {
    "collapsed": false
   }
  },
  {
   "cell_type": "code",
   "execution_count": 6,
   "outputs": [],
   "source": [
    "validation = TimeSeriesDataSet(\n",
    "        data[lambda x: x.time_idx > training_cutoff],\n",
    "        target_normalizer=\"auto\",\n",
    "        time_idx=\"time_idx\",\n",
    "        target=\"Entleerung_RüB\",\n",
    "        categorical_encoders={\"series\": NaNLabelEncoder().fit(data.series)},\n",
    "        group_ids=[\"series\"],\n",
    "        time_varying_unknown_reals=list(set(data.columns) - {'Datetime', 'series', 'time_idx'}),\n",
    "        time_varying_known_reals=['time_idx'], # needed for TFT\n",
    "        max_encoder_length=context_length,\n",
    "        min_encoder_length=max_encoder_length,\n",
    "        max_prediction_length=prediction_length,\n",
    "        min_prediction_length=max_prediction_length,\n",
    "        allow_missing_timesteps=True\n",
    "        )\n",
    "validation = validation.load('./RIWWER/Vierlinden/val_set_with_timeidx')"
   ],
   "metadata": {
    "collapsed": false,
    "pycharm": {
     "name": "#%%\n"
    }
   }
  },
  {
   "cell_type": "code",
   "execution_count": 7,
   "outputs": [
    {
     "data": {
      "text/plain": "tensor([[ 1.7086, -0.0663,  0.1037,  ..., -0.3601, -0.2640, -0.4271],\n        [ 1.7091, -0.0663,  0.1037,  ..., -0.3601, -0.2640, -0.4377],\n        [ 1.7096, -0.0663,  0.1037,  ..., -0.3601, -0.2640, -0.3778],\n        ...,\n        [ 2.5968, -0.0663, -0.2790,  ..., -0.3601, -0.2004, -0.4589],\n        [ 2.5973, -0.0663, -0.2790,  ..., -0.3601, -0.2004, -0.3558],\n        [ 2.5978, -0.0663, -0.2790,  ..., -0.3601, -0.2004, -0.4396]])"
     },
     "execution_count": 7,
     "metadata": {},
     "output_type": "execute_result"
    }
   ],
   "source": [
    "validation.data['reals']"
   ],
   "metadata": {
    "collapsed": false,
    "pycharm": {
     "name": "#%%\n"
    }
   }
  },
  {
   "cell_type": "code",
   "execution_count": 9,
   "outputs": [
    {
     "name": "stderr",
     "output_type": "stream",
     "text": [
      "GPU available: True (cuda), used: True\n",
      "TPU available: False, using: 0 TPU cores\n",
      "IPU available: False, using: 0 IPUs\n",
      "HPU available: False, using: 0 HPUs\n",
      "LOCAL_RANK: 0 - CUDA_VISIBLE_DEVICES: [0]\n"
     ]
    },
    {
     "name": "stdout",
     "output_type": "stream",
     "text": [
      "No sensors shut down.\n",
      "MAE = tensor(1.3089, device='cuda:0')\n"
     ]
    }
   ],
   "source": [
    "# Evaluate before corrupting sensors\n",
    "val_dataloader = validation.to_dataloader(train=False, batch_size=batch_size, num_workers=18)\n",
    "actuals = torch.cat([y[0] for x, y in iter(val_dataloader)]).to(torch.device('cuda:0'))\n",
    "predictions = best_model.predict(val_dataloader,\n",
    "                                 trainer_kwargs=dict(default_root_dir=\"./RIWWER/torch_forecasting/model_checkpoints/TFT_Vierlinden_saved_datasets\"))\n",
    "print('No sensors shut down.')\n",
    "err = actuals - predictions\n",
    "mae = err.abs().mean()\n",
    "print('MAE = ' + str(mae))"
   ],
   "metadata": {
    "collapsed": false,
    "pycharm": {
     "name": "#%%\n"
    }
   }
  },
  {
   "cell_type": "code",
   "execution_count": 10,
   "outputs": [
    {
     "name": "stderr",
     "output_type": "stream",
     "text": [
      "GPU available: True (cuda), used: True\n",
      "TPU available: False, using: 0 TPU cores\n",
      "IPU available: False, using: 0 IPUs\n",
      "HPU available: False, using: 0 HPUs\n",
      "LOCAL_RANK: 0 - CUDA_VISIBLE_DEVICES: [0]\n",
      "GPU available: True (cuda), used: True\n",
      "TPU available: False, using: 0 TPU cores\n",
      "IPU available: False, using: 0 IPUs\n",
      "HPU available: False, using: 0 HPUs\n",
      "LOCAL_RANK: 0 - CUDA_VISIBLE_DEVICES: [0]\n"
     ]
    },
    {
     "name": "stdout",
     "output_type": "stream",
     "text": [
      "1 sensors shut down.\n"
     ]
    },
    {
     "name": "stderr",
     "output_type": "stream",
     "text": [
      "GPU available: True (cuda), used: True\n",
      "TPU available: False, using: 0 TPU cores\n",
      "IPU available: False, using: 0 IPUs\n",
      "HPU available: False, using: 0 HPUs\n",
      "LOCAL_RANK: 0 - CUDA_VISIBLE_DEVICES: [0]\n"
     ]
    },
    {
     "name": "stdout",
     "output_type": "stream",
     "text": [
      "2 sensors shut down.\n"
     ]
    },
    {
     "name": "stderr",
     "output_type": "stream",
     "text": [
      "GPU available: True (cuda), used: True\n",
      "TPU available: False, using: 0 TPU cores\n",
      "IPU available: False, using: 0 IPUs\n",
      "HPU available: False, using: 0 HPUs\n",
      "LOCAL_RANK: 0 - CUDA_VISIBLE_DEVICES: [0]\n"
     ]
    },
    {
     "name": "stdout",
     "output_type": "stream",
     "text": [
      "3 sensors shut down.\n"
     ]
    },
    {
     "name": "stderr",
     "output_type": "stream",
     "text": [
      "GPU available: True (cuda), used: True\n",
      "TPU available: False, using: 0 TPU cores\n",
      "IPU available: False, using: 0 IPUs\n",
      "HPU available: False, using: 0 HPUs\n",
      "LOCAL_RANK: 0 - CUDA_VISIBLE_DEVICES: [0]\n"
     ]
    },
    {
     "name": "stdout",
     "output_type": "stream",
     "text": [
      "4 sensors shut down.\n"
     ]
    },
    {
     "name": "stderr",
     "output_type": "stream",
     "text": [
      "GPU available: True (cuda), used: True\n",
      "TPU available: False, using: 0 TPU cores\n",
      "IPU available: False, using: 0 IPUs\n",
      "HPU available: False, using: 0 HPUs\n",
      "LOCAL_RANK: 0 - CUDA_VISIBLE_DEVICES: [0]\n"
     ]
    },
    {
     "name": "stdout",
     "output_type": "stream",
     "text": [
      "5 sensors shut down.\n"
     ]
    },
    {
     "name": "stderr",
     "output_type": "stream",
     "text": [
      "GPU available: True (cuda), used: True\n",
      "TPU available: False, using: 0 TPU cores\n",
      "IPU available: False, using: 0 IPUs\n",
      "HPU available: False, using: 0 HPUs\n",
      "LOCAL_RANK: 0 - CUDA_VISIBLE_DEVICES: [0]\n"
     ]
    },
    {
     "name": "stdout",
     "output_type": "stream",
     "text": [
      "6 sensors shut down.\n"
     ]
    },
    {
     "name": "stderr",
     "output_type": "stream",
     "text": [
      "GPU available: True (cuda), used: True\n",
      "TPU available: False, using: 0 TPU cores\n",
      "IPU available: False, using: 0 IPUs\n",
      "HPU available: False, using: 0 HPUs\n",
      "LOCAL_RANK: 0 - CUDA_VISIBLE_DEVICES: [0]\n"
     ]
    },
    {
     "name": "stdout",
     "output_type": "stream",
     "text": [
      "7 sensors shut down.\n"
     ]
    },
    {
     "name": "stderr",
     "output_type": "stream",
     "text": [
      "GPU available: True (cuda), used: True\n",
      "TPU available: False, using: 0 TPU cores\n",
      "IPU available: False, using: 0 IPUs\n",
      "HPU available: False, using: 0 HPUs\n",
      "LOCAL_RANK: 0 - CUDA_VISIBLE_DEVICES: [0]\n"
     ]
    },
    {
     "name": "stdout",
     "output_type": "stream",
     "text": [
      "8 sensors shut down.\n"
     ]
    },
    {
     "name": "stderr",
     "output_type": "stream",
     "text": [
      "GPU available: True (cuda), used: True\n",
      "TPU available: False, using: 0 TPU cores\n",
      "IPU available: False, using: 0 IPUs\n",
      "HPU available: False, using: 0 HPUs\n",
      "LOCAL_RANK: 0 - CUDA_VISIBLE_DEVICES: [0]\n"
     ]
    },
    {
     "name": "stdout",
     "output_type": "stream",
     "text": [
      "9 sensors shut down.\n"
     ]
    },
    {
     "name": "stderr",
     "output_type": "stream",
     "text": [
      "GPU available: True (cuda), used: True\n",
      "TPU available: False, using: 0 TPU cores\n",
      "IPU available: False, using: 0 IPUs\n",
      "HPU available: False, using: 0 HPUs\n",
      "LOCAL_RANK: 0 - CUDA_VISIBLE_DEVICES: [0]\n"
     ]
    },
    {
     "name": "stdout",
     "output_type": "stream",
     "text": [
      "10 sensors shut down.\n"
     ]
    },
    {
     "name": "stderr",
     "output_type": "stream",
     "text": [
      "GPU available: True (cuda), used: True\n",
      "TPU available: False, using: 0 TPU cores\n",
      "IPU available: False, using: 0 IPUs\n",
      "HPU available: False, using: 0 HPUs\n",
      "LOCAL_RANK: 0 - CUDA_VISIBLE_DEVICES: [0]\n"
     ]
    },
    {
     "name": "stdout",
     "output_type": "stream",
     "text": [
      "11 sensors shut down.\n"
     ]
    },
    {
     "name": "stderr",
     "output_type": "stream",
     "text": [
      "GPU available: True (cuda), used: True\n",
      "TPU available: False, using: 0 TPU cores\n",
      "IPU available: False, using: 0 IPUs\n",
      "HPU available: False, using: 0 HPUs\n",
      "LOCAL_RANK: 0 - CUDA_VISIBLE_DEVICES: [0]\n"
     ]
    },
    {
     "name": "stdout",
     "output_type": "stream",
     "text": [
      "12 sensors shut down.\n"
     ]
    },
    {
     "name": "stderr",
     "output_type": "stream",
     "text": [
      "GPU available: True (cuda), used: True\n",
      "TPU available: False, using: 0 TPU cores\n",
      "IPU available: False, using: 0 IPUs\n",
      "HPU available: False, using: 0 HPUs\n",
      "LOCAL_RANK: 0 - CUDA_VISIBLE_DEVICES: [0]\n"
     ]
    },
    {
     "name": "stdout",
     "output_type": "stream",
     "text": [
      "13 sensors shut down.\n"
     ]
    },
    {
     "name": "stderr",
     "output_type": "stream",
     "text": [
      "GPU available: True (cuda), used: True\n",
      "TPU available: False, using: 0 TPU cores\n",
      "IPU available: False, using: 0 IPUs\n",
      "HPU available: False, using: 0 HPUs\n",
      "LOCAL_RANK: 0 - CUDA_VISIBLE_DEVICES: [0]\n"
     ]
    },
    {
     "name": "stdout",
     "output_type": "stream",
     "text": [
      "14 sensors shut down.\n"
     ]
    },
    {
     "name": "stderr",
     "output_type": "stream",
     "text": [
      "GPU available: True (cuda), used: True\n",
      "TPU available: False, using: 0 TPU cores\n",
      "IPU available: False, using: 0 IPUs\n",
      "HPU available: False, using: 0 HPUs\n",
      "LOCAL_RANK: 0 - CUDA_VISIBLE_DEVICES: [0]\n"
     ]
    },
    {
     "name": "stdout",
     "output_type": "stream",
     "text": [
      "15 sensors shut down.\n"
     ]
    },
    {
     "name": "stderr",
     "output_type": "stream",
     "text": [
      "GPU available: True (cuda), used: True\n",
      "TPU available: False, using: 0 TPU cores\n",
      "IPU available: False, using: 0 IPUs\n",
      "HPU available: False, using: 0 HPUs\n",
      "LOCAL_RANK: 0 - CUDA_VISIBLE_DEVICES: [0]\n"
     ]
    },
    {
     "name": "stdout",
     "output_type": "stream",
     "text": [
      "16 sensors shut down.\n"
     ]
    },
    {
     "name": "stderr",
     "output_type": "stream",
     "text": [
      "GPU available: True (cuda), used: True\n",
      "TPU available: False, using: 0 TPU cores\n",
      "IPU available: False, using: 0 IPUs\n",
      "HPU available: False, using: 0 HPUs\n",
      "LOCAL_RANK: 0 - CUDA_VISIBLE_DEVICES: [0]\n"
     ]
    },
    {
     "name": "stdout",
     "output_type": "stream",
     "text": [
      "17 sensors shut down.\n"
     ]
    },
    {
     "name": "stderr",
     "output_type": "stream",
     "text": [
      "GPU available: True (cuda), used: True\n",
      "TPU available: False, using: 0 TPU cores\n",
      "IPU available: False, using: 0 IPUs\n",
      "HPU available: False, using: 0 HPUs\n",
      "LOCAL_RANK: 0 - CUDA_VISIBLE_DEVICES: [0]\n"
     ]
    },
    {
     "name": "stdout",
     "output_type": "stream",
     "text": [
      "18 sensors shut down.\n"
     ]
    },
    {
     "name": "stderr",
     "output_type": "stream",
     "text": [
      "GPU available: True (cuda), used: True\n",
      "TPU available: False, using: 0 TPU cores\n",
      "IPU available: False, using: 0 IPUs\n",
      "HPU available: False, using: 0 HPUs\n",
      "LOCAL_RANK: 0 - CUDA_VISIBLE_DEVICES: [0]\n"
     ]
    },
    {
     "name": "stdout",
     "output_type": "stream",
     "text": [
      "19 sensors shut down.\n"
     ]
    },
    {
     "name": "stderr",
     "output_type": "stream",
     "text": [
      "GPU available: True (cuda), used: True\n",
      "TPU available: False, using: 0 TPU cores\n",
      "IPU available: False, using: 0 IPUs\n",
      "HPU available: False, using: 0 HPUs\n",
      "LOCAL_RANK: 0 - CUDA_VISIBLE_DEVICES: [0]\n"
     ]
    },
    {
     "name": "stdout",
     "output_type": "stream",
     "text": [
      "20 sensors shut down.\n"
     ]
    },
    {
     "name": "stderr",
     "output_type": "stream",
     "text": [
      "GPU available: True (cuda), used: True\n",
      "TPU available: False, using: 0 TPU cores\n",
      "IPU available: False, using: 0 IPUs\n",
      "HPU available: False, using: 0 HPUs\n",
      "LOCAL_RANK: 0 - CUDA_VISIBLE_DEVICES: [0]\n"
     ]
    },
    {
     "name": "stdout",
     "output_type": "stream",
     "text": [
      "21 sensors shut down.\n"
     ]
    },
    {
     "name": "stderr",
     "output_type": "stream",
     "text": [
      "GPU available: True (cuda), used: True\n",
      "TPU available: False, using: 0 TPU cores\n",
      "IPU available: False, using: 0 IPUs\n",
      "HPU available: False, using: 0 HPUs\n",
      "LOCAL_RANK: 0 - CUDA_VISIBLE_DEVICES: [0]\n"
     ]
    },
    {
     "name": "stdout",
     "output_type": "stream",
     "text": [
      "22 sensors shut down.\n"
     ]
    },
    {
     "name": "stderr",
     "output_type": "stream",
     "text": [
      "GPU available: True (cuda), used: True\n",
      "TPU available: False, using: 0 TPU cores\n",
      "IPU available: False, using: 0 IPUs\n",
      "HPU available: False, using: 0 HPUs\n",
      "LOCAL_RANK: 0 - CUDA_VISIBLE_DEVICES: [0]\n"
     ]
    },
    {
     "name": "stdout",
     "output_type": "stream",
     "text": [
      "23 sensors shut down.\n"
     ]
    },
    {
     "name": "stderr",
     "output_type": "stream",
     "text": [
      "GPU available: True (cuda), used: True\n",
      "TPU available: False, using: 0 TPU cores\n",
      "IPU available: False, using: 0 IPUs\n",
      "HPU available: False, using: 0 HPUs\n",
      "LOCAL_RANK: 0 - CUDA_VISIBLE_DEVICES: [0]\n"
     ]
    },
    {
     "name": "stdout",
     "output_type": "stream",
     "text": [
      "24 sensors shut down.\n"
     ]
    },
    {
     "name": "stderr",
     "output_type": "stream",
     "text": [
      "GPU available: True (cuda), used: True\n",
      "TPU available: False, using: 0 TPU cores\n",
      "IPU available: False, using: 0 IPUs\n",
      "HPU available: False, using: 0 HPUs\n",
      "LOCAL_RANK: 0 - CUDA_VISIBLE_DEVICES: [0]\n"
     ]
    },
    {
     "name": "stdout",
     "output_type": "stream",
     "text": [
      "25 sensors shut down.\n"
     ]
    },
    {
     "name": "stderr",
     "output_type": "stream",
     "text": [
      "GPU available: True (cuda), used: True\n",
      "TPU available: False, using: 0 TPU cores\n",
      "IPU available: False, using: 0 IPUs\n",
      "HPU available: False, using: 0 HPUs\n",
      "LOCAL_RANK: 0 - CUDA_VISIBLE_DEVICES: [0]\n"
     ]
    },
    {
     "name": "stdout",
     "output_type": "stream",
     "text": [
      "26 sensors shut down.\n",
      "27 sensors shut down.\n"
     ]
    }
   ],
   "source": [
    "mae_trace = []\n",
    "for i in range(len(validation.data['reals'][0])):\n",
    "    validation.data['reals'][:, i] = 0.0\n",
    "\n",
    "    val_dataloader = validation.to_dataloader(train=False, batch_size=batch_size, num_workers=18)\n",
    "\n",
    "    ### Make prediction and evaluate ###\n",
    "    predictions = best_model.predict(val_dataloader,\n",
    "                                     trainer_kwargs=dict(default_root_dir=\"./RIWWER/torch_forecasting/model_checkpoints/TFT_Vierlinden_saved_datasets\"))\n",
    "    print(str(i+1) + ' sensors shut down.')\n",
    "    err = actuals - predictions\n",
    "    mae = err.abs().mean()\n",
    "    mae_trace.append(mae)\n",
    "    #print('MAE = ' + str(mae))\n",
    "    #rmse = torch.sqrt( torch.square(err).mean() )\n",
    "    #print('RMSE = ' + str(rmse))\n",
    "    #del val_dataloader"
   ],
   "metadata": {
    "collapsed": false,
    "pycharm": {
     "name": "#%%\n"
    }
   }
  },
  {
   "cell_type": "code",
   "execution_count": 11,
   "outputs": [
    {
     "data": {
      "text/plain": "<Figure size 640x480 with 1 Axes>",
      "image/png": "[encoded data removed]"
     },
     "metadata": {},
     "output_type": "display_data"
    }
   ],
   "source": [
    "plt.plot(np.arange(1, len(mae_trace)+1), [m.cpu() for m in mae_trace])\n",
    "plt.plot(np.arange(1, len(mae_trace)+1), [1.3089]*len(mae_trace))\n",
    "plt.xlabel('Num. sensors shut down')\n",
    "plt.ylabel('MAE')\n",
    "plt.legend(['Corrupted', 'Uncorrupted'])\n",
    "plt.show()"
   ],
   "metadata": {
    "collapsed": false,
    "pycharm": {
     "name": "#%%\n"
    }
   }
  }
 ],
 "metadata": {
  "kernelspec": {
   "name": "riwwer_new",
   "language": "python",
   "display_name": "riwwer_new"
  },
  "language_info": {
   "codemirror_mode": {
    "name": "ipython",
    "version": 2
   },
   "file_extension": ".py",
   "mimetype": "text/x-python",
   "name": "python",
   "nbconvert_exporter": "python",
   "pygments_lexer": "ipython2",
   "version": "2.7.6"
  }
 },
 "nbformat": 4,
 "nbformat_minor": 0
}