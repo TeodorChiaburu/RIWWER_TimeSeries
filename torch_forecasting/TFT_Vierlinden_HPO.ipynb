{
 "cells": [
  {
   "cell_type": "markdown",
   "metadata": {
    "collapsed": true,
    "pycharm": {
     "name": "#%% md\n"
    }
   },
   "source": [
    "Time Series Forecast with TFT on the Vierlinden dataset (all sensors, 2021)"
   ]
  },
  {
   "cell_type": "code",
   "execution_count": 1,
   "outputs": [
    {
     "name": "stderr",
     "output_type": "stream",
     "text": [
      "Global seed set to 42\n"
     ]
    },
    {
     "data": {
      "text/plain": "42"
     },
     "execution_count": 1,
     "metadata": {},
     "output_type": "execute_result"
    }
   ],
   "source": [
    "import sys\n",
    "sys.path.append('./pytorch-forecasting/')\n",
    "import pandas as pd\n",
    "\n",
    "import pickle\n",
    "import lightning.pytorch as pl\n",
    "from pytorch_forecasting import TimeSeriesDataSet\n",
    "from pytorch_forecasting.data import NaNLabelEncoder\n",
    "from pytorch_forecasting.models.temporal_fusion_transformer.tuning import optimize_hyperparameters\n",
    "from pytorch_forecasting.metrics import QuantileLoss, MASE\n",
    "pl.seed_everything(42)"
   ],
   "metadata": {
    "collapsed": false,
    "pycharm": {
     "name": "#%%\n"
    }
   }
  },
  {
   "cell_type": "markdown",
   "source": [
    "### Load data"
   ],
   "metadata": {
    "collapsed": false
   }
  },
  {
   "cell_type": "markdown",
   "source": [
    "Split in train and validation"
   ],
   "metadata": {
    "collapsed": false
   }
  },
  {
   "cell_type": "code",
   "execution_count": 2,
   "outputs": [],
   "source": [
    "# Read the dataset into a DataFrame\n",
    "data = pd.read_csv('./RIWWER/Vierlinden/Vierlinden_2021_All.csv')\n",
    "\n",
    "# Drop columns that have lots of missing values\n",
    "data.drop([\"FLP_Hohenstand_Pumpensumpf_pval\",\"FLP_Strom_P3_pval\",\"FLP_Strom_P4_pval\",\"FLP_Strom_P5_pval\",\"Durchfluss SWP1 und SWP2_pval\",\"FLP_Hohenstand_Becken1_pval\",\"FLP_Hohenstand_Becken3_pval\",\"FLP_Hohenstand_Beckne2_pval\"], axis=1, inplace=True)\n",
    "\n",
    "# NaNs are not allowed by the model\n",
    "data.fillna(method=\"bfill\", inplace=True)\n",
    "data.fillna(method=\"ffill\", inplace=True)\n",
    "\n",
    "# Set Datetime as index\n",
    "data['Datetime'] = pd.to_datetime(data['Datetime'])"
   ],
   "metadata": {
    "collapsed": false,
    "pycharm": {
     "name": "#%%\n"
    }
   }
  },
  {
   "cell_type": "code",
   "execution_count": 3,
   "outputs": [
    {
     "data": {
      "text/plain": "                Datetime  Schieber Position_pval  Oberwasser_pval  \\\n0    2021-01-01 00:00:00                   100.0         8.140845   \n1    2021-01-01 01:00:00                   100.0         8.000000   \n2    2021-01-01 02:00:00                   100.0         7.967742   \n3    2021-01-01 03:00:00                   100.0         7.076923   \n4    2021-01-01 04:00:00                   100.0         8.464789   \n...                  ...                     ...              ...   \n8755 2021-12-31 19:00:00                    99.0         9.859155   \n8756 2021-12-31 20:00:00                    99.0         9.111111   \n8757 2021-12-31 21:00:00                    99.0        11.652778   \n8758 2021-12-31 22:00:00                    99.0         8.338028   \n8759 2021-12-31 23:00:00                    99.0         8.096774   \n\n      Unterwasser_pval  Durchflumenge_pval  Berechnete Durchflussmenge_pval  \\\n0             5.753623            7.689189                         7.732558   \n1             5.173913            6.808219                         8.271739   \n2             5.000000            5.813333                         7.197674   \n3             4.843750            4.216216                         4.743243   \n4             5.466667            8.384615                         8.325000   \n...                ...                 ...                              ...   \n8755          6.147541            9.347222                        12.800000   \n8756          5.823529            7.970588                        11.211268   \n8757          7.544118           16.804878                        17.802326   \n8758          5.287671            7.107692                         9.878788   \n8759          5.048387            6.842857                         9.581081   \n\n      Fllstand SWS_pval  Fllstand RWS_pval  Strom P1_pval  Strom P2_pval  ...  \\\n0             75.717949               36.0       1.076923            0.0  ...   \n1             75.717949               36.0       1.076923            0.0  ...   \n2             75.717949               36.0       1.076923            0.0  ...   \n3             75.717949               36.0       1.076923            0.0  ...   \n4             75.717949               36.0       1.076923            0.0  ...   \n...                 ...                ...            ...            ...  ...   \n8755          75.033333               35.0       1.700000            0.0  ...   \n8756          76.000000               35.0       1.300000            0.0  ...   \n8757          74.250000               35.0       1.600000            0.0  ...   \n8758          76.200000               35.0       1.233333            0.0  ...   \n8759          74.614035               35.0       1.578947            0.0  ...   \n\n      Strom Pumpe 2_pval1  Strom Pumpe 3_pval  Niederschlag  Füllstand_RRB  \\\n0                     0.0                 1.0      0.000000           1.47   \n1                     0.0                 1.0      1.182353           1.47   \n2                     0.0                 1.0      1.182353           1.47   \n3                     0.0                 1.0      1.182353           1.47   \n4                     0.0                 1.0      1.182353           1.47   \n...                   ...                 ...           ...            ...   \n8755                  0.0                 1.0      0.000000           1.06   \n8756                  0.0                 1.0      0.000000           1.06   \n8757                  0.0                 1.0      0.000000           1.06   \n8758                  0.0                 1.0      0.000000           1.06   \n8759                  0.0                 1.0      0.000000           1.06   \n\n      Entleerung_RüB  Füllstand_RüB_1  Füllstand_RüB_2  Füllstand_RüB_3  \\\n0              0.098             3.16             3.08             2.72   \n1              0.099             3.16             3.08             2.72   \n2              0.096             3.16             3.08             2.72   \n3              0.098             3.16             3.08             2.72   \n4              0.098             3.16             3.08             2.72   \n...              ...              ...              ...              ...   \n8755           0.181             1.15             1.29             0.62   \n8756           0.179             1.15             1.29             0.62   \n8757           0.183             1.15             1.29             0.62   \n8758           0.186             1.15             1.29             0.62   \n8759           0.182             1.15             1.29             0.62   \n\n      series  time_idx  \n0          0         0  \n1          0         1  \n2          0         2  \n3          0         3  \n4          0         4  \n...      ...       ...  \n8755       0      8755  \n8756       0      8756  \n8757       0      8757  \n8758       0      8758  \n8759       0      8759  \n\n[8760 rows x 29 columns]",
      "text/html": "<div>\n<style scoped>\n    .dataframe tbody tr th:only-of-type {\n        vertical-align: middle;\n    }\n\n    .dataframe tbody tr th {\n        vertical-align: top;\n    }\n\n    .dataframe thead th {\n        text-align: right;\n    }\n</style>\n<table border=\"1\" class=\"dataframe\">\n  <thead>\n    <tr style=\"text-align: right;\">\n      <th></th>\n      <th>Datetime</th>\n      <th>Schieber Position_pval</th>\n      <th>Oberwasser_pval</th>\n      <th>Unterwasser_pval</th>\n      <th>Durchflumenge_pval</th>\n      <th>Berechnete Durchflussmenge_pval</th>\n      <th>Fllstand SWS_pval</th>\n      <th>Fllstand RWS_pval</th>\n      <th>Strom P1_pval</th>\n      <th>Strom P2_pval</th>\n      <th>...</th>\n      <th>Strom Pumpe 2_pval1</th>\n      <th>Strom Pumpe 3_pval</th>\n      <th>Niederschlag</th>\n      <th>Füllstand_RRB</th>\n      <th>Entleerung_RüB</th>\n      <th>Füllstand_RüB_1</th>\n      <th>Füllstand_RüB_2</th>\n      <th>Füllstand_RüB_3</th>\n      <th>series</th>\n      <th>time_idx</th>\n    </tr>\n  </thead>\n  <tbody>\n    <tr>\n      <th>0</th>\n      <td>2021-01-01 00:00:00</td>\n      <td>100.0</td>\n      <td>8.140845</td>\n      <td>5.753623</td>\n      <td>7.689189</td>\n      <td>7.732558</td>\n      <td>75.717949</td>\n      <td>36.0</td>\n      <td>1.076923</td>\n      <td>0.0</td>\n      <td>...</td>\n      <td>0.0</td>\n      <td>1.0</td>\n      <td>0.000000</td>\n      <td>1.47</td>\n      <td>0.098</td>\n      <td>3.16</td>\n      <td>3.08</td>\n      <td>2.72</td>\n      <td>0</td>\n      <td>0</td>\n    </tr>\n    <tr>\n      <th>1</th>\n      <td>2021-01-01 01:00:00</td>\n      <td>100.0</td>\n      <td>8.000000</td>\n      <td>5.173913</td>\n      <td>6.808219</td>\n      <td>8.271739</td>\n      <td>75.717949</td>\n      <td>36.0</td>\n      <td>1.076923</td>\n      <td>0.0</td>\n      <td>...</td>\n      <td>0.0</td>\n      <td>1.0</td>\n      <td>1.182353</td>\n      <td>1.47</td>\n      <td>0.099</td>\n      <td>3.16</td>\n      <td>3.08</td>\n      <td>2.72</td>\n      <td>0</td>\n      <td>1</td>\n    </tr>\n    <tr>\n      <th>2</th>\n      <td>2021-01-01 02:00:00</td>\n      <td>100.0</td>\n      <td>7.967742</td>\n      <td>5.000000</td>\n      <td>5.813333</td>\n      <td>7.197674</td>\n      <td>75.717949</td>\n      <td>36.0</td>\n      <td>1.076923</td>\n      <td>0.0</td>\n      <td>...</td>\n      <td>0.0</td>\n      <td>1.0</td>\n      <td>1.182353</td>\n      <td>1.47</td>\n      <td>0.096</td>\n      <td>3.16</td>\n      <td>3.08</td>\n      <td>2.72</td>\n      <td>0</td>\n      <td>2</td>\n    </tr>\n    <tr>\n      <th>3</th>\n      <td>2021-01-01 03:00:00</td>\n      <td>100.0</td>\n      <td>7.076923</td>\n      <td>4.843750</td>\n      <td>4.216216</td>\n      <td>4.743243</td>\n      <td>75.717949</td>\n      <td>36.0</td>\n      <td>1.076923</td>\n      <td>0.0</td>\n      <td>...</td>\n      <td>0.0</td>\n      <td>1.0</td>\n      <td>1.182353</td>\n      <td>1.47</td>\n      <td>0.098</td>\n      <td>3.16</td>\n      <td>3.08</td>\n      <td>2.72</td>\n      <td>0</td>\n      <td>3</td>\n    </tr>\n    <tr>\n      <th>4</th>\n      <td>2021-01-01 04:00:00</td>\n      <td>100.0</td>\n      <td>8.464789</td>\n      <td>5.466667</td>\n      <td>8.384615</td>\n      <td>8.325000</td>\n      <td>75.717949</td>\n      <td>36.0</td>\n      <td>1.076923</td>\n      <td>0.0</td>\n      <td>...</td>\n      <td>0.0</td>\n      <td>1.0</td>\n      <td>1.182353</td>\n      <td>1.47</td>\n      <td>0.098</td>\n      <td>3.16</td>\n      <td>3.08</td>\n      <td>2.72</td>\n      <td>0</td>\n      <td>4</td>\n    </tr>\n    <tr>\n      <th>...</th>\n      <td>...</td>\n      <td>...</td>\n      <td>...</td>\n      <td>...</td>\n      <td>...</td>\n      <td>...</td>\n      <td>...</td>\n      <td>...</td>\n      <td>...</td>\n      <td>...</td>\n      <td>...</td>\n      <td>...</td>\n      <td>...</td>\n      <td>...</td>\n      <td>...</td>\n      <td>...</td>\n      <td>...</td>\n      <td>...</td>\n      <td>...</td>\n      <td>...</td>\n      <td>...</td>\n    </tr>\n    <tr>\n      <th>8755</th>\n      <td>2021-12-31 19:00:00</td>\n      <td>99.0</td>\n      <td>9.859155</td>\n      <td>6.147541</td>\n      <td>9.347222</td>\n      <td>12.800000</td>\n      <td>75.033333</td>\n      <td>35.0</td>\n      <td>1.700000</td>\n      <td>0.0</td>\n      <td>...</td>\n      <td>0.0</td>\n      <td>1.0</td>\n      <td>0.000000</td>\n      <td>1.06</td>\n      <td>0.181</td>\n      <td>1.15</td>\n      <td>1.29</td>\n      <td>0.62</td>\n      <td>0</td>\n      <td>8755</td>\n    </tr>\n    <tr>\n      <th>8756</th>\n      <td>2021-12-31 20:00:00</td>\n      <td>99.0</td>\n      <td>9.111111</td>\n      <td>5.823529</td>\n      <td>7.970588</td>\n      <td>11.211268</td>\n      <td>76.000000</td>\n      <td>35.0</td>\n      <td>1.300000</td>\n      <td>0.0</td>\n      <td>...</td>\n      <td>0.0</td>\n      <td>1.0</td>\n      <td>0.000000</td>\n      <td>1.06</td>\n      <td>0.179</td>\n      <td>1.15</td>\n      <td>1.29</td>\n      <td>0.62</td>\n      <td>0</td>\n      <td>8756</td>\n    </tr>\n    <tr>\n      <th>8757</th>\n      <td>2021-12-31 21:00:00</td>\n      <td>99.0</td>\n      <td>11.652778</td>\n      <td>7.544118</td>\n      <td>16.804878</td>\n      <td>17.802326</td>\n      <td>74.250000</td>\n      <td>35.0</td>\n      <td>1.600000</td>\n      <td>0.0</td>\n      <td>...</td>\n      <td>0.0</td>\n      <td>1.0</td>\n      <td>0.000000</td>\n      <td>1.06</td>\n      <td>0.183</td>\n      <td>1.15</td>\n      <td>1.29</td>\n      <td>0.62</td>\n      <td>0</td>\n      <td>8757</td>\n    </tr>\n    <tr>\n      <th>8758</th>\n      <td>2021-12-31 22:00:00</td>\n      <td>99.0</td>\n      <td>8.338028</td>\n      <td>5.287671</td>\n      <td>7.107692</td>\n      <td>9.878788</td>\n      <td>76.200000</td>\n      <td>35.0</td>\n      <td>1.233333</td>\n      <td>0.0</td>\n      <td>...</td>\n      <td>0.0</td>\n      <td>1.0</td>\n      <td>0.000000</td>\n      <td>1.06</td>\n      <td>0.186</td>\n      <td>1.15</td>\n      <td>1.29</td>\n      <td>0.62</td>\n      <td>0</td>\n      <td>8758</td>\n    </tr>\n    <tr>\n      <th>8759</th>\n      <td>2021-12-31 23:00:00</td>\n      <td>99.0</td>\n      <td>8.096774</td>\n      <td>5.048387</td>\n      <td>6.842857</td>\n      <td>9.581081</td>\n      <td>74.614035</td>\n      <td>35.0</td>\n      <td>1.578947</td>\n      <td>0.0</td>\n      <td>...</td>\n      <td>0.0</td>\n      <td>1.0</td>\n      <td>0.000000</td>\n      <td>1.06</td>\n      <td>0.182</td>\n      <td>1.15</td>\n      <td>1.29</td>\n      <td>0.62</td>\n      <td>0</td>\n      <td>8759</td>\n    </tr>\n  </tbody>\n</table>\n<p>8760 rows × 29 columns</p>\n</div>"
     },
     "execution_count": 3,
     "metadata": {},
     "output_type": "execute_result"
    }
   ],
   "source": [
    "# One time series for the whole year?\n",
    "data['series'] = 0\n",
    "\n",
    "# As many timesteps per timeseries as hours in every month?\n",
    "time_idx = []\n",
    "for i in range(1):\n",
    "    timesteps = len( data[ data['series'] == i ] )\n",
    "    time_idx += list(range(timesteps))\n",
    "data['time_idx'] = time_idx\n",
    "data"
   ],
   "metadata": {
    "collapsed": false,
    "pycharm": {
     "name": "#%%\n"
    }
   }
  },
  {
   "cell_type": "code",
   "execution_count": 4,
   "outputs": [],
   "source": [
    "# Create dataloaders\n",
    "max_encoder_length = 24*2\n",
    "max_prediction_length = 5*2\n",
    "training_cutoff = data[\"time_idx\"].max() * 4 // 5 # 80% for training\n",
    "# Note: if you just subtract 1*max_prediction_length, some of the time series (for some of the months) will not be computed\n",
    "\n",
    "context_length = max_encoder_length\n",
    "prediction_length = max_prediction_length\n",
    "\n",
    "# Note: NBeats can only handle one target\n",
    "training = TimeSeriesDataSet(\n",
    "    data[lambda x: x.time_idx <= training_cutoff],\n",
    "    target_normalizer=\"auto\",\n",
    "    time_idx=\"time_idx\",\n",
    "    target=\"Entleerung_RüB\",\n",
    "    categorical_encoders={\"series\": NaNLabelEncoder().fit(data.series)},\n",
    "    group_ids=[\"series\"],\n",
    "    time_varying_unknown_reals=list(set(data.columns) - {'Datetime', 'series', 'time_idx'}),\n",
    "    time_varying_known_reals=['time_idx'],\n",
    "    max_encoder_length=context_length,\n",
    "    min_encoder_length=max_encoder_length,\n",
    "    max_prediction_length=prediction_length,\n",
    "    min_prediction_length=max_prediction_length,\n",
    "    allow_missing_timesteps=True\n",
    ")\n",
    "\n",
    "validation = TimeSeriesDataSet.from_dataset(training, data, min_prediction_idx=training_cutoff + 1)\n",
    "batch_size = 16\n",
    "train_dataloader = training.to_dataloader(train=True, batch_size=batch_size, num_workers=18)\n",
    "val_dataloader = validation.to_dataloader(train=False, batch_size=batch_size, num_workers=18)"
   ],
   "metadata": {
    "collapsed": false,
    "pycharm": {
     "name": "#%%\n"
    }
   }
  },
  {
   "cell_type": "code",
   "execution_count": 5,
   "outputs": [
    {
     "name": "stderr",
     "output_type": "stream",
     "text": [
      "[I 2023-07-26 08:05:11,664] A new study created in memory with name: no-name-1eb198b5-d55a-4f1d-aef7-0280baee7638\n",
      "/mnt/KInsektDaten/teo/./pytorch-forecasting/pytorch_forecasting/models/temporal_fusion_transformer/tuning.py:124: FutureWarning: suggest_loguniform has been deprecated in v3.0.0. This feature will be removed in v6.0.0. See https://github.com/optuna/optuna/releases/tag/v3.0.0. Use suggest_float(..., log=True) instead.\n",
      "  gradient_clip_val = trial.suggest_loguniform(\"gradient_clip_val\", *gradient_clip_val_range)\n",
      "GPU available: True (cuda), used: True\n",
      "TPU available: False, using: 0 TPU cores\n",
      "IPU available: False, using: 0 IPUs\n",
      "HPU available: False, using: 0 HPUs\n",
      "/mnt/KInsektDaten/teo/./pytorch-forecasting/pytorch_forecasting/models/temporal_fusion_transformer/tuning.py:148: FutureWarning: suggest_uniform has been deprecated in v3.0.0. This feature will be removed in v6.0.0. See https://github.com/optuna/optuna/releases/tag/v3.0.0. Use suggest_float instead.\n",
      "  dropout=trial.suggest_uniform(\"dropout\", *dropout_range),\n",
      "/home/tchiaburu/anaconda3/envs/torch_gpu_riwwer_new/lib/python3.11/site-packages/lightning/pytorch/utilities/parsing.py:196: UserWarning: Attribute 'loss' is an instance of `nn.Module` and is already saved during checkpointing. It is recommended to ignore them using `self.save_hyperparameters(ignore=['loss'])`.\n",
      "  rank_zero_warn(\n",
      "/home/tchiaburu/anaconda3/envs/torch_gpu_riwwer_new/lib/python3.11/site-packages/lightning/pytorch/utilities/parsing.py:196: UserWarning: Attribute 'logging_metrics' is an instance of `nn.Module` and is already saved during checkpointing. It is recommended to ignore them using `self.save_hyperparameters(ignore=['logging_metrics'])`.\n",
      "  rank_zero_warn(\n",
      "GPU available: True (cuda), used: True\n",
      "TPU available: False, using: 0 TPU cores\n",
      "IPU available: False, using: 0 IPUs\n",
      "HPU available: False, using: 0 HPUs\n",
      "/home/tchiaburu/anaconda3/envs/torch_gpu_riwwer_new/lib/python3.11/site-packages/lightning/pytorch/loops/utilities.py:70: PossibleUserWarning: `max_epochs` was not set. Setting it to 1000 epochs. To train without an epoch limit, set `max_epochs=-1`.\n",
      "  rank_zero_warn(\n",
      "LOCAL_RANK: 0 - CUDA_VISIBLE_DEVICES: [0]\n"
     ]
    },
    {
     "data": {
      "text/plain": "Finding best initial lr:   0%|          | 0/100 [00:00<?, ?it/s]",
      "application/vnd.jupyter.widget-view+json": {
       "version_major": 2,
       "version_minor": 0,
       "model_id": "12b98004850c444bbdd5949096d886dc"
      }
     },
     "metadata": {},
     "output_type": "display_data"
    },
    {
     "name": "stderr",
     "output_type": "stream",
     "text": [
      "`Trainer.fit` stopped: `max_steps=100` reached.\n",
      "Learning rate set to 0.019054607179632473\n",
      "Restoring states from the checkpoint path at /mnt/KInsektDaten/teo/.lr_find_ad3465a5-4837-4c63-8fdc-686a288430c7.ckpt\n",
      "Restored all states from the checkpoint at /mnt/KInsektDaten/teo/.lr_find_ad3465a5-4837-4c63-8fdc-686a288430c7.ckpt\n",
      "[I 2023-07-26 08:05:25,254] Using learning rate of 0.0174\n",
      "/mnt/KInsektDaten/teo/./pytorch-forecasting/pytorch_forecasting/models/temporal_fusion_transformer/tuning.py:194: FutureWarning: suggest_uniform has been deprecated in v3.0.0. This feature will be removed in v6.0.0. See https://github.com/optuna/optuna/releases/tag/v3.0.0. Use suggest_float instead.\n",
      "  model.hparams.learning_rate = trial.suggest_uniform(\"learning_rate\", optimal_lr, optimal_lr)\n",
      "LOCAL_RANK: 0 - CUDA_VISIBLE_DEVICES: [0]\n",
      "\n",
      "   | Name                               | Type                            | Params\n",
      "----------------------------------------------------------------------------------------\n",
      "0  | loss                               | MASE                            | 0     \n",
      "1  | logging_metrics                    | ModuleList                      | 0     \n",
      "2  | input_embeddings                   | MultiEmbedding                  | 0     \n",
      "3  | prescalers                         | ModuleDict                      | 270   \n",
      "4  | static_variable_selection          | VariableSelectionNetwork        | 0     \n",
      "5  | encoder_variable_selection         | VariableSelectionNetwork        | 6.1 K \n",
      "6  | decoder_variable_selection         | VariableSelectionNetwork        | 172   \n",
      "7  | static_context_variable_selection  | GatedResidualNetwork            | 180   \n",
      "8  | static_context_initial_hidden_lstm | GatedResidualNetwork            | 180   \n",
      "9  | static_context_initial_cell_lstm   | GatedResidualNetwork            | 180   \n",
      "10 | static_context_enrichment          | GatedResidualNetwork            | 180   \n",
      "11 | lstm_encoder                       | LSTM                            | 336   \n",
      "12 | lstm_decoder                       | LSTM                            | 336   \n",
      "13 | post_lstm_gate_encoder             | GatedLinearUnit                 | 84    \n",
      "14 | post_lstm_add_norm_encoder         | AddNorm                         | 12    \n",
      "15 | static_enrichment                  | GatedResidualNetwork            | 216   \n",
      "16 | multihead_attn                     | InterpretableMultiHeadAttention | 162   \n",
      "17 | post_attn_gate_norm                | GateAddNorm                     | 96    \n",
      "18 | pos_wise_ff                        | GatedResidualNetwork            | 180   \n",
      "19 | pre_output_gate_norm               | GateAddNorm                     | 96    \n",
      "20 | output_layer                       | Linear                          | 7     \n",
      "----------------------------------------------------------------------------------------\n",
      "8.5 K     Trainable params\n",
      "0         Non-trainable params\n",
      "8.5 K     Total params\n",
      "0.034     Total estimated model params size (MB)\n"
     ]
    },
    {
     "data": {
      "text/plain": "Sanity Checking: 0it [00:00, ?it/s]",
      "application/vnd.jupyter.widget-view+json": {
       "version_major": 2,
       "version_minor": 0,
       "model_id": "29c336f515e242a6bba4a100a3f40d4a"
      }
     },
     "metadata": {},
     "output_type": "display_data"
    },
    {
     "data": {
      "text/plain": "Training: 0it [00:00, ?it/s]",
      "application/vnd.jupyter.widget-view+json": {
       "version_major": 2,
       "version_minor": 0,
       "model_id": "fb89adee0a024967ab7b46d8edded8b2"
      }
     },
     "metadata": {},
     "output_type": "display_data"
    },
    {
     "data": {
      "text/plain": "Validation: 0it [00:00, ?it/s]",
      "application/vnd.jupyter.widget-view+json": {
       "version_major": 2,
       "version_minor": 0,
       "model_id": "5d1fc1aa76244f49abafa96f0d765cd7"
      }
     },
     "metadata": {},
     "output_type": "display_data"
    },
    {
     "data": {
      "text/plain": "Validation: 0it [00:00, ?it/s]",
      "application/vnd.jupyter.widget-view+json": {
       "version_major": 2,
       "version_minor": 0,
       "model_id": "2746a9af878b4fb290a27099edba4ce2"
      }
     },
     "metadata": {},
     "output_type": "display_data"
    },
    {
     "data": {
      "text/plain": "Validation: 0it [00:00, ?it/s]",
      "application/vnd.jupyter.widget-view+json": {
       "version_major": 2,
       "version_minor": 0,
       "model_id": "c3de6e28fee04c788bee974edb43e58c"
      }
     },
     "metadata": {},
     "output_type": "display_data"
    },
    {
     "data": {
      "text/plain": "Validation: 0it [00:00, ?it/s]",
      "application/vnd.jupyter.widget-view+json": {
       "version_major": 2,
       "version_minor": 0,
       "model_id": "fab5a85e5330483cafad37180879b224"
      }
     },
     "metadata": {},
     "output_type": "display_data"
    },
    {
     "data": {
      "text/plain": "Validation: 0it [00:00, ?it/s]",
      "application/vnd.jupyter.widget-view+json": {
       "version_major": 2,
       "version_minor": 0,
       "model_id": "b6a8d88b5bbc48bb949532e2e8286fa9"
      }
     },
     "metadata": {},
     "output_type": "display_data"
    },
    {
     "data": {
      "text/plain": "Validation: 0it [00:00, ?it/s]",
      "application/vnd.jupyter.widget-view+json": {
       "version_major": 2,
       "version_minor": 0,
       "model_id": "38148c4429b0488eb379b6187477bf50"
      }
     },
     "metadata": {},
     "output_type": "display_data"
    },
    {
     "data": {
      "text/plain": "Validation: 0it [00:00, ?it/s]",
      "application/vnd.jupyter.widget-view+json": {
       "version_major": 2,
       "version_minor": 0,
       "model_id": "7086e7f6f8414583a464983576dd5df2"
      }
     },
     "metadata": {},
     "output_type": "display_data"
    },
    {
     "data": {
      "text/plain": "Validation: 0it [00:00, ?it/s]",
      "application/vnd.jupyter.widget-view+json": {
       "version_major": 2,
       "version_minor": 0,
       "model_id": "2ccfd3c4f4684380a3b3c2ffe68f3ff6"
      }
     },
     "metadata": {},
     "output_type": "display_data"
    },
    {
     "data": {
      "text/plain": "Validation: 0it [00:00, ?it/s]",
      "application/vnd.jupyter.widget-view+json": {
       "version_major": 2,
       "version_minor": 0,
       "model_id": "a7e0fd929aa54a96acd08f03dba9b674"
      }
     },
     "metadata": {},
     "output_type": "display_data"
    },
    {
     "data": {
      "text/plain": "Validation: 0it [00:00, ?it/s]",
      "application/vnd.jupyter.widget-view+json": {
       "version_major": 2,
       "version_minor": 0,
       "model_id": "3811ba36cdd84520973e04621be7b869"
      }
     },
     "metadata": {},
     "output_type": "display_data"
    },
    {
     "name": "stderr",
     "output_type": "stream",
     "text": [
      "`Trainer.fit` stopped: `max_epochs=10` reached.\n",
      "[I 2023-07-26 08:12:08,380] Trial 0 finished with value: 3.4371542930603027 and parameters: {'gradient_clip_val': 0.010213653211408984, 'hidden_size': 6, 'dropout': 0.25987681702363286, 'hidden_continuous_size': 5, 'attention_head_size': 1, 'learning_rate': 0.01737800828749375}. Best is trial 0 with value: 3.4371542930603027.\n",
      "/mnt/KInsektDaten/teo/./pytorch-forecasting/pytorch_forecasting/models/temporal_fusion_transformer/tuning.py:124: FutureWarning: suggest_loguniform has been deprecated in v3.0.0. This feature will be removed in v6.0.0. See https://github.com/optuna/optuna/releases/tag/v3.0.0. Use suggest_float(..., log=True) instead.\n",
      "  gradient_clip_val = trial.suggest_loguniform(\"gradient_clip_val\", *gradient_clip_val_range)\n",
      "GPU available: True (cuda), used: True\n",
      "TPU available: False, using: 0 TPU cores\n",
      "IPU available: False, using: 0 IPUs\n",
      "HPU available: False, using: 0 HPUs\n",
      "/mnt/KInsektDaten/teo/./pytorch-forecasting/pytorch_forecasting/models/temporal_fusion_transformer/tuning.py:148: FutureWarning: suggest_uniform has been deprecated in v3.0.0. This feature will be removed in v6.0.0. See https://github.com/optuna/optuna/releases/tag/v3.0.0. Use suggest_float instead.\n",
      "  dropout=trial.suggest_uniform(\"dropout\", *dropout_range),\n",
      "/home/tchiaburu/anaconda3/envs/torch_gpu_riwwer_new/lib/python3.11/site-packages/lightning/pytorch/utilities/parsing.py:196: UserWarning: Attribute 'loss' is an instance of `nn.Module` and is already saved during checkpointing. It is recommended to ignore them using `self.save_hyperparameters(ignore=['loss'])`.\n",
      "  rank_zero_warn(\n",
      "/home/tchiaburu/anaconda3/envs/torch_gpu_riwwer_new/lib/python3.11/site-packages/lightning/pytorch/utilities/parsing.py:196: UserWarning: Attribute 'logging_metrics' is an instance of `nn.Module` and is already saved during checkpointing. It is recommended to ignore them using `self.save_hyperparameters(ignore=['logging_metrics'])`.\n",
      "  rank_zero_warn(\n",
      "GPU available: True (cuda), used: True\n",
      "TPU available: False, using: 0 TPU cores\n",
      "IPU available: False, using: 0 IPUs\n",
      "HPU available: False, using: 0 HPUs\n",
      "LOCAL_RANK: 0 - CUDA_VISIBLE_DEVICES: [0]\n"
     ]
    },
    {
     "data": {
      "text/plain": "Finding best initial lr:   0%|          | 0/100 [00:00<?, ?it/s]",
      "application/vnd.jupyter.widget-view+json": {
       "version_major": 2,
       "version_minor": 0,
       "model_id": "614d2b3eb5ad42278744d0d70cf18d81"
      }
     },
     "metadata": {},
     "output_type": "display_data"
    },
    {
     "name": "stderr",
     "output_type": "stream",
     "text": [
      "`Trainer.fit` stopped: `max_steps=100` reached.\n",
      "Learning rate set to 0.0016595869074375606\n",
      "Restoring states from the checkpoint path at /mnt/KInsektDaten/teo/.lr_find_6a6982f5-9362-4c0d-b1f4-b2e0c351a388.ckpt\n",
      "Restored all states from the checkpoint at /mnt/KInsektDaten/teo/.lr_find_6a6982f5-9362-4c0d-b1f4-b2e0c351a388.ckpt\n",
      "[I 2023-07-26 08:12:21,984] Using learning rate of 0.0437\n",
      "LOCAL_RANK: 0 - CUDA_VISIBLE_DEVICES: [0]\n",
      "\n",
      "   | Name                               | Type                            | Params\n",
      "----------------------------------------------------------------------------------------\n",
      "0  | loss                               | MASE                            | 0     \n",
      "1  | logging_metrics                    | ModuleList                      | 0     \n",
      "2  | input_embeddings                   | MultiEmbedding                  | 0     \n",
      "3  | prescalers                         | ModuleDict                      | 216   \n",
      "4  | static_variable_selection          | VariableSelectionNetwork        | 0     \n",
      "5  | encoder_variable_selection         | VariableSelectionNetwork        | 4.4 K \n",
      "6  | decoder_variable_selection         | VariableSelectionNetwork        | 123   \n",
      "7  | static_context_variable_selection  | GatedResidualNetwork            | 130   \n",
      "8  | static_context_initial_hidden_lstm | GatedResidualNetwork            | 130   \n",
      "9  | static_context_initial_cell_lstm   | GatedResidualNetwork            | 130   \n",
      "10 | static_context_enrichment          | GatedResidualNetwork            | 130   \n",
      "11 | lstm_encoder                       | LSTM                            | 240   \n",
      "12 | lstm_decoder                       | LSTM                            | 240   \n",
      "13 | post_lstm_gate_encoder             | GatedLinearUnit                 | 60    \n",
      "14 | post_lstm_add_norm_encoder         | AddNorm                         | 10    \n",
      "15 | static_enrichment                  | GatedResidualNetwork            | 155   \n",
      "16 | multihead_attn                     | InterpretableMultiHeadAttention | 59    \n",
      "17 | post_attn_gate_norm                | GateAddNorm                     | 70    \n",
      "18 | pos_wise_ff                        | GatedResidualNetwork            | 130   \n",
      "19 | pre_output_gate_norm               | GateAddNorm                     | 70    \n",
      "20 | output_layer                       | Linear                          | 6     \n",
      "----------------------------------------------------------------------------------------\n",
      "6.1 K     Trainable params\n",
      "0         Non-trainable params\n",
      "6.1 K     Total params\n",
      "0.024     Total estimated model params size (MB)\n"
     ]
    },
    {
     "data": {
      "text/plain": "Sanity Checking: 0it [00:00, ?it/s]",
      "application/vnd.jupyter.widget-view+json": {
       "version_major": 2,
       "version_minor": 0,
       "model_id": "fa09eff9efd74682a165d12edf0ce0e2"
      }
     },
     "metadata": {},
     "output_type": "display_data"
    },
    {
     "data": {
      "text/plain": "Training: 0it [00:00, ?it/s]",
      "application/vnd.jupyter.widget-view+json": {
       "version_major": 2,
       "version_minor": 0,
       "model_id": "e11fce3fe66e4137960346c7f0fc427a"
      }
     },
     "metadata": {},
     "output_type": "display_data"
    },
    {
     "data": {
      "text/plain": "Validation: 0it [00:00, ?it/s]",
      "application/vnd.jupyter.widget-view+json": {
       "version_major": 2,
       "version_minor": 0,
       "model_id": "0c875291d50a4f9f8b73d66514231f1a"
      }
     },
     "metadata": {},
     "output_type": "display_data"
    },
    {
     "data": {
      "text/plain": "Validation: 0it [00:00, ?it/s]",
      "application/vnd.jupyter.widget-view+json": {
       "version_major": 2,
       "version_minor": 0,
       "model_id": "99c639631d93431983d4b5863e477ad4"
      }
     },
     "metadata": {},
     "output_type": "display_data"
    },
    {
     "data": {
      "text/plain": "Validation: 0it [00:00, ?it/s]",
      "application/vnd.jupyter.widget-view+json": {
       "version_major": 2,
       "version_minor": 0,
       "model_id": "a7077c74c0594e7795bcddaeaee85275"
      }
     },
     "metadata": {},
     "output_type": "display_data"
    },
    {
     "data": {
      "text/plain": "Validation: 0it [00:00, ?it/s]",
      "application/vnd.jupyter.widget-view+json": {
       "version_major": 2,
       "version_minor": 0,
       "model_id": "e122be91559844c08beec7c5053ff26c"
      }
     },
     "metadata": {},
     "output_type": "display_data"
    },
    {
     "data": {
      "text/plain": "Validation: 0it [00:00, ?it/s]",
      "application/vnd.jupyter.widget-view+json": {
       "version_major": 2,
       "version_minor": 0,
       "model_id": "fcfcc9af14974fc38b221944269bbfb5"
      }
     },
     "metadata": {},
     "output_type": "display_data"
    },
    {
     "data": {
      "text/plain": "Validation: 0it [00:00, ?it/s]",
      "application/vnd.jupyter.widget-view+json": {
       "version_major": 2,
       "version_minor": 0,
       "model_id": "1e1391083ba94e7ab2f92622612fb90b"
      }
     },
     "metadata": {},
     "output_type": "display_data"
    },
    {
     "data": {
      "text/plain": "Validation: 0it [00:00, ?it/s]",
      "application/vnd.jupyter.widget-view+json": {
       "version_major": 2,
       "version_minor": 0,
       "model_id": "78f91f5532174902aabecca2f78f55ba"
      }
     },
     "metadata": {},
     "output_type": "display_data"
    },
    {
     "data": {
      "text/plain": "Validation: 0it [00:00, ?it/s]",
      "application/vnd.jupyter.widget-view+json": {
       "version_major": 2,
       "version_minor": 0,
       "model_id": "b6f9e0e10adf49f9ada094dc25997a19"
      }
     },
     "metadata": {},
     "output_type": "display_data"
    },
    {
     "data": {
      "text/plain": "Validation: 0it [00:00, ?it/s]",
      "application/vnd.jupyter.widget-view+json": {
       "version_major": 2,
       "version_minor": 0,
       "model_id": "07c2ae76c4d64e158be684a5107166f1"
      }
     },
     "metadata": {},
     "output_type": "display_data"
    },
    {
     "data": {
      "text/plain": "Validation: 0it [00:00, ?it/s]",
      "application/vnd.jupyter.widget-view+json": {
       "version_major": 2,
       "version_minor": 0,
       "model_id": "2106925f47824a62844c68bcc845d7a0"
      }
     },
     "metadata": {},
     "output_type": "display_data"
    },
    {
     "name": "stderr",
     "output_type": "stream",
     "text": [
      "`Trainer.fit` stopped: `max_epochs=10` reached.\n",
      "[I 2023-07-26 08:19:13,512] Trial 1 finished with value: 3.110764741897583 and parameters: {'gradient_clip_val': 0.11962219372025637, 'hidden_size': 5, 'dropout': 0.1321830661405725, 'hidden_continuous_size': 4, 'attention_head_size': 4, 'learning_rate': 0.043651583224016584}. Best is trial 1 with value: 3.110764741897583.\n",
      "GPU available: True (cuda), used: True\n",
      "TPU available: False, using: 0 TPU cores\n",
      "IPU available: False, using: 0 IPUs\n",
      "HPU available: False, using: 0 HPUs\n",
      "GPU available: True (cuda), used: True\n",
      "TPU available: False, using: 0 TPU cores\n",
      "IPU available: False, using: 0 IPUs\n",
      "HPU available: False, using: 0 HPUs\n",
      "LOCAL_RANK: 0 - CUDA_VISIBLE_DEVICES: [0]\n"
     ]
    },
    {
     "data": {
      "text/plain": "Finding best initial lr:   0%|          | 0/100 [00:00<?, ?it/s]",
      "application/vnd.jupyter.widget-view+json": {
       "version_major": 2,
       "version_minor": 0,
       "model_id": "108b633dd0c145378e6c4f227c597485"
      }
     },
     "metadata": {},
     "output_type": "display_data"
    },
    {
     "name": "stderr",
     "output_type": "stream",
     "text": [
      "`Trainer.fit` stopped: `max_steps=100` reached.\n",
      "Learning rate set to 0.0039810717055349725\n",
      "Restoring states from the checkpoint path at /mnt/KInsektDaten/teo/.lr_find_5b7c816f-7b4e-4901-b6ad-b6d20f93e17e.ckpt\n",
      "Restored all states from the checkpoint at /mnt/KInsektDaten/teo/.lr_find_5b7c816f-7b4e-4901-b6ad-b6d20f93e17e.ckpt\n",
      "[I 2023-07-26 08:19:25,906] Using learning rate of 0.0151\n",
      "LOCAL_RANK: 0 - CUDA_VISIBLE_DEVICES: [0]\n",
      "\n",
      "   | Name                               | Type                            | Params\n",
      "----------------------------------------------------------------------------------------\n",
      "0  | loss                               | MASE                            | 0     \n",
      "1  | logging_metrics                    | ModuleList                      | 0     \n",
      "2  | input_embeddings                   | MultiEmbedding                  | 0     \n",
      "3  | prescalers                         | ModuleDict                      | 216   \n",
      "4  | static_variable_selection          | VariableSelectionNetwork        | 0     \n",
      "5  | encoder_variable_selection         | VariableSelectionNetwork        | 3.5 K \n",
      "6  | decoder_variable_selection         | VariableSelectionNetwork        | 96    \n",
      "7  | static_context_variable_selection  | GatedResidualNetwork            | 88    \n",
      "8  | static_context_initial_hidden_lstm | GatedResidualNetwork            | 88    \n",
      "9  | static_context_initial_cell_lstm   | GatedResidualNetwork            | 88    \n",
      "10 | static_context_enrichment          | GatedResidualNetwork            | 88    \n",
      "11 | lstm_encoder                       | LSTM                            | 160   \n",
      "12 | lstm_decoder                       | LSTM                            | 160   \n",
      "13 | post_lstm_gate_encoder             | GatedLinearUnit                 | 40    \n",
      "14 | post_lstm_add_norm_encoder         | AddNorm                         | 8     \n",
      "15 | static_enrichment                  | GatedResidualNetwork            | 104   \n",
      "16 | multihead_attn                     | InterpretableMultiHeadAttention | 39    \n",
      "17 | post_attn_gate_norm                | GateAddNorm                     | 48    \n",
      "18 | pos_wise_ff                        | GatedResidualNetwork            | 88    \n",
      "19 | pre_output_gate_norm               | GateAddNorm                     | 48    \n",
      "20 | output_layer                       | Linear                          | 5     \n",
      "----------------------------------------------------------------------------------------\n",
      "4.6 K     Trainable params\n",
      "0         Non-trainable params\n",
      "4.6 K     Total params\n",
      "0.018     Total estimated model params size (MB)\n"
     ]
    },
    {
     "data": {
      "text/plain": "Sanity Checking: 0it [00:00, ?it/s]",
      "application/vnd.jupyter.widget-view+json": {
       "version_major": 2,
       "version_minor": 0,
       "model_id": "5752081061fb48f7ae3e387f4a8ce10c"
      }
     },
     "metadata": {},
     "output_type": "display_data"
    },
    {
     "data": {
      "text/plain": "Training: 0it [00:00, ?it/s]",
      "application/vnd.jupyter.widget-view+json": {
       "version_major": 2,
       "version_minor": 0,
       "model_id": "5cebfdde4937441088e04ed453f8b4a0"
      }
     },
     "metadata": {},
     "output_type": "display_data"
    },
    {
     "data": {
      "text/plain": "Validation: 0it [00:00, ?it/s]",
      "application/vnd.jupyter.widget-view+json": {
       "version_major": 2,
       "version_minor": 0,
       "model_id": "65420befd49540448dd00daa44455dc1"
      }
     },
     "metadata": {},
     "output_type": "display_data"
    },
    {
     "data": {
      "text/plain": "Validation: 0it [00:00, ?it/s]",
      "application/vnd.jupyter.widget-view+json": {
       "version_major": 2,
       "version_minor": 0,
       "model_id": "bba316e356f44ca193f884c8d171412c"
      }
     },
     "metadata": {},
     "output_type": "display_data"
    },
    {
     "data": {
      "text/plain": "Validation: 0it [00:00, ?it/s]",
      "application/vnd.jupyter.widget-view+json": {
       "version_major": 2,
       "version_minor": 0,
       "model_id": "f380b566d8b4464e891bb496766a9351"
      }
     },
     "metadata": {},
     "output_type": "display_data"
    },
    {
     "data": {
      "text/plain": "Validation: 0it [00:00, ?it/s]",
      "application/vnd.jupyter.widget-view+json": {
       "version_major": 2,
       "version_minor": 0,
       "model_id": "9c7b3bb404194a8e9304c390dc842444"
      }
     },
     "metadata": {},
     "output_type": "display_data"
    },
    {
     "data": {
      "text/plain": "Validation: 0it [00:00, ?it/s]",
      "application/vnd.jupyter.widget-view+json": {
       "version_major": 2,
       "version_minor": 0,
       "model_id": "bd687eef10a5487a8c15b933c9baba8e"
      }
     },
     "metadata": {},
     "output_type": "display_data"
    },
    {
     "data": {
      "text/plain": "Validation: 0it [00:00, ?it/s]",
      "application/vnd.jupyter.widget-view+json": {
       "version_major": 2,
       "version_minor": 0,
       "model_id": "50317cd699624a75a58a579bc65c295f"
      }
     },
     "metadata": {},
     "output_type": "display_data"
    },
    {
     "data": {
      "text/plain": "Validation: 0it [00:00, ?it/s]",
      "application/vnd.jupyter.widget-view+json": {
       "version_major": 2,
       "version_minor": 0,
       "model_id": "b414eff114334e36812caca67b19e29a"
      }
     },
     "metadata": {},
     "output_type": "display_data"
    },
    {
     "data": {
      "text/plain": "Validation: 0it [00:00, ?it/s]",
      "application/vnd.jupyter.widget-view+json": {
       "version_major": 2,
       "version_minor": 0,
       "model_id": "799e61936bce4ff296811e6e2a02ea32"
      }
     },
     "metadata": {},
     "output_type": "display_data"
    },
    {
     "data": {
      "text/plain": "Validation: 0it [00:00, ?it/s]",
      "application/vnd.jupyter.widget-view+json": {
       "version_major": 2,
       "version_minor": 0,
       "model_id": "2d1c1f3bec3f450d92b7a47391ea3d40"
      }
     },
     "metadata": {},
     "output_type": "display_data"
    },
    {
     "data": {
      "text/plain": "Validation: 0it [00:00, ?it/s]",
      "application/vnd.jupyter.widget-view+json": {
       "version_major": 2,
       "version_minor": 0,
       "model_id": "19fe0124e9b24ad5a802d5f61eec5f48"
      }
     },
     "metadata": {},
     "output_type": "display_data"
    },
    {
     "name": "stderr",
     "output_type": "stream",
     "text": [
      "`Trainer.fit` stopped: `max_epochs=10` reached.\n",
      "[I 2023-07-26 08:25:41,587] Trial 2 finished with value: 2.586437463760376 and parameters: {'gradient_clip_val': 0.203573148441866, 'hidden_size': 4, 'dropout': 0.19683012705932013, 'hidden_continuous_size': 4, 'attention_head_size': 3, 'learning_rate': 0.01513561248436208}. Best is trial 2 with value: 2.586437463760376.\n",
      "GPU available: True (cuda), used: True\n",
      "TPU available: False, using: 0 TPU cores\n",
      "IPU available: False, using: 0 IPUs\n",
      "HPU available: False, using: 0 HPUs\n",
      "GPU available: True (cuda), used: True\n",
      "TPU available: False, using: 0 TPU cores\n",
      "IPU available: False, using: 0 IPUs\n",
      "HPU available: False, using: 0 HPUs\n",
      "LOCAL_RANK: 0 - CUDA_VISIBLE_DEVICES: [0]\n"
     ]
    },
    {
     "data": {
      "text/plain": "Finding best initial lr:   0%|          | 0/100 [00:00<?, ?it/s]",
      "application/vnd.jupyter.widget-view+json": {
       "version_major": 2,
       "version_minor": 0,
       "model_id": "bd9193eb8d8d4519af51a6f740c0c724"
      }
     },
     "metadata": {},
     "output_type": "display_data"
    },
    {
     "name": "stderr",
     "output_type": "stream",
     "text": [
      "`Trainer.fit` stopped: `max_steps=100` reached.\n",
      "Learning rate set to 0.006025595860743578\n",
      "Restoring states from the checkpoint path at /mnt/KInsektDaten/teo/.lr_find_973fffea-ab98-4bd6-94b8-4499d1cf82d7.ckpt\n",
      "Restored all states from the checkpoint at /mnt/KInsektDaten/teo/.lr_find_973fffea-ab98-4bd6-94b8-4499d1cf82d7.ckpt\n",
      "[I 2023-07-26 08:25:55,100] Using learning rate of 0.024\n",
      "LOCAL_RANK: 0 - CUDA_VISIBLE_DEVICES: [0]\n",
      "\n",
      "   | Name                               | Type                            | Params\n",
      "----------------------------------------------------------------------------------------\n",
      "0  | loss                               | MASE                            | 0     \n",
      "1  | logging_metrics                    | ModuleList                      | 0     \n",
      "2  | input_embeddings                   | MultiEmbedding                  | 0     \n",
      "3  | prescalers                         | ModuleDict                      | 216   \n",
      "4  | static_variable_selection          | VariableSelectionNetwork        | 0     \n",
      "5  | encoder_variable_selection         | VariableSelectionNetwork        | 8.0 K \n",
      "6  | decoder_variable_selection         | VariableSelectionNetwork        | 213   \n",
      "7  | static_context_variable_selection  | GatedResidualNetwork            | 550   \n",
      "8  | static_context_initial_hidden_lstm | GatedResidualNetwork            | 550   \n",
      "9  | static_context_initial_cell_lstm   | GatedResidualNetwork            | 550   \n",
      "10 | static_context_enrichment          | GatedResidualNetwork            | 550   \n",
      "11 | lstm_encoder                       | LSTM                            | 1.1 K \n",
      "12 | lstm_decoder                       | LSTM                            | 1.1 K \n",
      "13 | post_lstm_gate_encoder             | GatedLinearUnit                 | 264   \n",
      "14 | post_lstm_add_norm_encoder         | AddNorm                         | 22    \n",
      "15 | static_enrichment                  | GatedResidualNetwork            | 671   \n",
      "16 | multihead_attn                     | InterpretableMultiHeadAttention | 517   \n",
      "17 | post_attn_gate_norm                | GateAddNorm                     | 286   \n",
      "18 | pos_wise_ff                        | GatedResidualNetwork            | 550   \n",
      "19 | pre_output_gate_norm               | GateAddNorm                     | 286   \n",
      "20 | output_layer                       | Linear                          | 12    \n",
      "----------------------------------------------------------------------------------------\n",
      "15.1 K    Trainable params\n",
      "0         Non-trainable params\n",
      "15.1 K    Total params\n",
      "0.060     Total estimated model params size (MB)\n"
     ]
    },
    {
     "data": {
      "text/plain": "Sanity Checking: 0it [00:00, ?it/s]",
      "application/vnd.jupyter.widget-view+json": {
       "version_major": 2,
       "version_minor": 0,
       "model_id": "d303f41c702d409d85b2d5cf61716533"
      }
     },
     "metadata": {},
     "output_type": "display_data"
    },
    {
     "data": {
      "text/plain": "Training: 0it [00:00, ?it/s]",
      "application/vnd.jupyter.widget-view+json": {
       "version_major": 2,
       "version_minor": 0,
       "model_id": "32684a1771d64ef88b5362f636badca3"
      }
     },
     "metadata": {},
     "output_type": "display_data"
    },
    {
     "data": {
      "text/plain": "Validation: 0it [00:00, ?it/s]",
      "application/vnd.jupyter.widget-view+json": {
       "version_major": 2,
       "version_minor": 0,
       "model_id": "dd5a1061477244a8accbb606357cf75e"
      }
     },
     "metadata": {},
     "output_type": "display_data"
    },
    {
     "data": {
      "text/plain": "Validation: 0it [00:00, ?it/s]",
      "application/vnd.jupyter.widget-view+json": {
       "version_major": 2,
       "version_minor": 0,
       "model_id": "f746e9018a6d403e939420432efcb4f3"
      }
     },
     "metadata": {},
     "output_type": "display_data"
    },
    {
     "data": {
      "text/plain": "Validation: 0it [00:00, ?it/s]",
      "application/vnd.jupyter.widget-view+json": {
       "version_major": 2,
       "version_minor": 0,
       "model_id": "df479c3b6a824256854969a3f5249c6e"
      }
     },
     "metadata": {},
     "output_type": "display_data"
    },
    {
     "data": {
      "text/plain": "Validation: 0it [00:00, ?it/s]",
      "application/vnd.jupyter.widget-view+json": {
       "version_major": 2,
       "version_minor": 0,
       "model_id": "0b4b5d3dacd64ce28cbe74ed465f3228"
      }
     },
     "metadata": {},
     "output_type": "display_data"
    },
    {
     "data": {
      "text/plain": "Validation: 0it [00:00, ?it/s]",
      "application/vnd.jupyter.widget-view+json": {
       "version_major": 2,
       "version_minor": 0,
       "model_id": "9b5bb057ef754648ae85756788f622c9"
      }
     },
     "metadata": {},
     "output_type": "display_data"
    },
    {
     "data": {
      "text/plain": "Validation: 0it [00:00, ?it/s]",
      "application/vnd.jupyter.widget-view+json": {
       "version_major": 2,
       "version_minor": 0,
       "model_id": "686a30808fee4f6492f714eaeaa81a4f"
      }
     },
     "metadata": {},
     "output_type": "display_data"
    },
    {
     "data": {
      "text/plain": "Validation: 0it [00:00, ?it/s]",
      "application/vnd.jupyter.widget-view+json": {
       "version_major": 2,
       "version_minor": 0,
       "model_id": "89628d049f054c528d2e3bcdd29b35cf"
      }
     },
     "metadata": {},
     "output_type": "display_data"
    },
    {
     "data": {
      "text/plain": "Validation: 0it [00:00, ?it/s]",
      "application/vnd.jupyter.widget-view+json": {
       "version_major": 2,
       "version_minor": 0,
       "model_id": "6f845cde8df6472fac794ca4ae4849cd"
      }
     },
     "metadata": {},
     "output_type": "display_data"
    },
    {
     "data": {
      "text/plain": "Validation: 0it [00:00, ?it/s]",
      "application/vnd.jupyter.widget-view+json": {
       "version_major": 2,
       "version_minor": 0,
       "model_id": "ecc2d599ae61494d9ab0c258749aa375"
      }
     },
     "metadata": {},
     "output_type": "display_data"
    },
    {
     "data": {
      "text/plain": "Validation: 0it [00:00, ?it/s]",
      "application/vnd.jupyter.widget-view+json": {
       "version_major": 2,
       "version_minor": 0,
       "model_id": "5f0847485bc9492fa8404f077b27499b"
      }
     },
     "metadata": {},
     "output_type": "display_data"
    },
    {
     "name": "stderr",
     "output_type": "stream",
     "text": [
      "`Trainer.fit` stopped: `max_epochs=10` reached.\n",
      "[I 2023-07-26 08:32:42,016] Trial 3 finished with value: 2.7941131591796875 and parameters: {'gradient_clip_val': 0.0614543029221826, 'hidden_size': 11, 'dropout': 0.25941699078509073, 'hidden_continuous_size': 4, 'attention_head_size': 1, 'learning_rate': 0.0239883291901949}. Best is trial 2 with value: 2.586437463760376.\n",
      "GPU available: True (cuda), used: True\n",
      "TPU available: False, using: 0 TPU cores\n",
      "IPU available: False, using: 0 IPUs\n",
      "HPU available: False, using: 0 HPUs\n",
      "GPU available: True (cuda), used: True\n",
      "TPU available: False, using: 0 TPU cores\n",
      "IPU available: False, using: 0 IPUs\n",
      "HPU available: False, using: 0 HPUs\n",
      "LOCAL_RANK: 0 - CUDA_VISIBLE_DEVICES: [0]\n"
     ]
    },
    {
     "data": {
      "text/plain": "Finding best initial lr:   0%|          | 0/100 [00:00<?, ?it/s]",
      "application/vnd.jupyter.widget-view+json": {
       "version_major": 2,
       "version_minor": 0,
       "model_id": "f6e98256d3e541ba894c738873e4d6db"
      }
     },
     "metadata": {},
     "output_type": "display_data"
    },
    {
     "name": "stderr",
     "output_type": "stream",
     "text": [
      "`Trainer.fit` stopped: `max_steps=100` reached.\n",
      "Learning rate set to 0.0016595869074375606\n",
      "Restoring states from the checkpoint path at /mnt/KInsektDaten/teo/.lr_find_f31b8eeb-d839-41b0-b21a-443686b13474.ckpt\n",
      "Restored all states from the checkpoint at /mnt/KInsektDaten/teo/.lr_find_f31b8eeb-d839-41b0-b21a-443686b13474.ckpt\n",
      "[I 2023-07-26 08:32:55,000] Using learning rate of 0.00182\n",
      "LOCAL_RANK: 0 - CUDA_VISIBLE_DEVICES: [0]\n",
      "\n",
      "   | Name                               | Type                            | Params\n",
      "----------------------------------------------------------------------------------------\n",
      "0  | loss                               | MASE                            | 0     \n",
      "1  | logging_metrics                    | ModuleList                      | 0     \n",
      "2  | input_embeddings                   | MultiEmbedding                  | 0     \n",
      "3  | prescalers                         | ModuleDict                      | 270   \n",
      "4  | static_variable_selection          | VariableSelectionNetwork        | 0     \n",
      "5  | encoder_variable_selection         | VariableSelectionNetwork        | 6.1 K \n",
      "6  | decoder_variable_selection         | VariableSelectionNetwork        | 172   \n",
      "7  | static_context_variable_selection  | GatedResidualNetwork            | 180   \n",
      "8  | static_context_initial_hidden_lstm | GatedResidualNetwork            | 180   \n",
      "9  | static_context_initial_cell_lstm   | GatedResidualNetwork            | 180   \n",
      "10 | static_context_enrichment          | GatedResidualNetwork            | 180   \n",
      "11 | lstm_encoder                       | LSTM                            | 336   \n",
      "12 | lstm_decoder                       | LSTM                            | 336   \n",
      "13 | post_lstm_gate_encoder             | GatedLinearUnit                 | 84    \n",
      "14 | post_lstm_add_norm_encoder         | AddNorm                         | 12    \n",
      "15 | static_enrichment                  | GatedResidualNetwork            | 216   \n",
      "16 | multihead_attn                     | InterpretableMultiHeadAttention | 162   \n",
      "17 | post_attn_gate_norm                | GateAddNorm                     | 96    \n",
      "18 | pos_wise_ff                        | GatedResidualNetwork            | 180   \n",
      "19 | pre_output_gate_norm               | GateAddNorm                     | 96    \n",
      "20 | output_layer                       | Linear                          | 7     \n",
      "----------------------------------------------------------------------------------------\n",
      "8.5 K     Trainable params\n",
      "0         Non-trainable params\n",
      "8.5 K     Total params\n",
      "0.034     Total estimated model params size (MB)\n"
     ]
    },
    {
     "data": {
      "text/plain": "Sanity Checking: 0it [00:00, ?it/s]",
      "application/vnd.jupyter.widget-view+json": {
       "version_major": 2,
       "version_minor": 0,
       "model_id": "526bc172f04b44b993033602d8e45b4e"
      }
     },
     "metadata": {},
     "output_type": "display_data"
    },
    {
     "data": {
      "text/plain": "Training: 0it [00:00, ?it/s]",
      "application/vnd.jupyter.widget-view+json": {
       "version_major": 2,
       "version_minor": 0,
       "model_id": "b369da0d172f4f1ea3440a538114b8b0"
      }
     },
     "metadata": {},
     "output_type": "display_data"
    },
    {
     "data": {
      "text/plain": "Validation: 0it [00:00, ?it/s]",
      "application/vnd.jupyter.widget-view+json": {
       "version_major": 2,
       "version_minor": 0,
       "model_id": "784c797179ee4fd8ab00b08730067117"
      }
     },
     "metadata": {},
     "output_type": "display_data"
    },
    {
     "data": {
      "text/plain": "Validation: 0it [00:00, ?it/s]",
      "application/vnd.jupyter.widget-view+json": {
       "version_major": 2,
       "version_minor": 0,
       "model_id": "54f49c0e89d3404ea390ec1c897684df"
      }
     },
     "metadata": {},
     "output_type": "display_data"
    },
    {
     "data": {
      "text/plain": "Validation: 0it [00:00, ?it/s]",
      "application/vnd.jupyter.widget-view+json": {
       "version_major": 2,
       "version_minor": 0,
       "model_id": "591464f5890c4659b624ad9967918947"
      }
     },
     "metadata": {},
     "output_type": "display_data"
    },
    {
     "data": {
      "text/plain": "Validation: 0it [00:00, ?it/s]",
      "application/vnd.jupyter.widget-view+json": {
       "version_major": 2,
       "version_minor": 0,
       "model_id": "b788151ca42944a098a6d086f9399a30"
      }
     },
     "metadata": {},
     "output_type": "display_data"
    },
    {
     "data": {
      "text/plain": "Validation: 0it [00:00, ?it/s]",
      "application/vnd.jupyter.widget-view+json": {
       "version_major": 2,
       "version_minor": 0,
       "model_id": "3afc26cf30bc4c31b0f633729cfbe843"
      }
     },
     "metadata": {},
     "output_type": "display_data"
    },
    {
     "data": {
      "text/plain": "Validation: 0it [00:00, ?it/s]",
      "application/vnd.jupyter.widget-view+json": {
       "version_major": 2,
       "version_minor": 0,
       "model_id": "87688d2aad8445b396e136b5c3384ada"
      }
     },
     "metadata": {},
     "output_type": "display_data"
    },
    {
     "data": {
      "text/plain": "Validation: 0it [00:00, ?it/s]",
      "application/vnd.jupyter.widget-view+json": {
       "version_major": 2,
       "version_minor": 0,
       "model_id": "fc93fe39a4f24d88bdddff8d62ad8682"
      }
     },
     "metadata": {},
     "output_type": "display_data"
    },
    {
     "data": {
      "text/plain": "Validation: 0it [00:00, ?it/s]",
      "application/vnd.jupyter.widget-view+json": {
       "version_major": 2,
       "version_minor": 0,
       "model_id": "ee24cb85cc8e4cf6beaa67baa5479df6"
      }
     },
     "metadata": {},
     "output_type": "display_data"
    },
    {
     "data": {
      "text/plain": "Validation: 0it [00:00, ?it/s]",
      "application/vnd.jupyter.widget-view+json": {
       "version_major": 2,
       "version_minor": 0,
       "model_id": "2fcc0d616d9741f3a576001db081fbef"
      }
     },
     "metadata": {},
     "output_type": "display_data"
    },
    {
     "data": {
      "text/plain": "Validation: 0it [00:00, ?it/s]",
      "application/vnd.jupyter.widget-view+json": {
       "version_major": 2,
       "version_minor": 0,
       "model_id": "446c6f91e29c4bb790b14d69551806e3"
      }
     },
     "metadata": {},
     "output_type": "display_data"
    },
    {
     "name": "stderr",
     "output_type": "stream",
     "text": [
      "`Trainer.fit` stopped: `max_epochs=10` reached.\n",
      "[I 2023-07-26 08:39:42,988] Trial 4 finished with value: 3.889448881149292 and parameters: {'gradient_clip_val': 0.1176446766047445, 'hidden_size': 6, 'dropout': 0.14392102301577264, 'hidden_continuous_size': 5, 'attention_head_size': 1, 'learning_rate': 0.0018197008586099835}. Best is trial 2 with value: 2.586437463760376.\n"
     ]
    },
    {
     "name": "stdout",
     "output_type": "stream",
     "text": [
      "{'gradient_clip_val': 0.203573148441866, 'hidden_size': 4, 'dropout': 0.19683012705932013, 'hidden_continuous_size': 4, 'attention_head_size': 3, 'learning_rate': 0.01513561248436208}\n"
     ]
    }
   ],
   "source": [
    "# Create study\n",
    "study_file = \"./RIWWER/torch_forecasting/optuna_checkpoints/TFT_Vierlinden_HPO/TFT_Vierlinden_HPO.pkl\"\n",
    "study = optimize_hyperparameters(\n",
    "    train_dataloader,\n",
    "    val_dataloader,\n",
    "    model_path=\"./RIWWER/torch_forecasting/optuna_checkpoints/TFT_Vierlinden_HPO\",\n",
    "    log_dir=\"./RIWWER/torch_forecasting/model_checkpoints/TFT_Vierlinden_HPO/lightning_logs\",\n",
    "    #study=study_file, # to resume HPO after crashing\n",
    "    loss=MASE(),\n",
    "    n_trials=5,\n",
    "    max_epochs=10,\n",
    "    gradient_clip_val_range=(0.01, 1.0),\n",
    "    hidden_size_range=(4, 16),\n",
    "    hidden_continuous_size_range=(4, 16),\n",
    "    attention_head_size_range=(1, 4),\n",
    "    learning_rate_range=(0.001, 0.1),\n",
    "    dropout_range=(0.1, 0.3),\n",
    "    reduce_on_plateau_patience=4,\n",
    "    use_learning_rate_finder=True,\n",
    "    verbose=2\n",
    ")\n",
    "\n",
    "# Save study results - also we can resume tuning at a later point in time\n",
    "with open(study_file, \"wb\") as fout:\n",
    "    pickle.dump(study, fout)\n",
    "\n",
    "# Show best hyperparameters\n",
    "print(study.best_trial.params)"
   ],
   "metadata": {
    "collapsed": false,
    "pycharm": {
     "name": "#%%\n"
    }
   }
  }
 ],
 "metadata": {
  "kernelspec": {
   "name": "riwwer_new",
   "language": "python",
   "display_name": "riwwer_new"
  },
  "language_info": {
   "codemirror_mode": {
    "name": "ipython",
    "version": 2
   },
   "file_extension": ".py",
   "mimetype": "text/x-python",
   "name": "python",
   "nbconvert_exporter": "python",
   "pygments_lexer": "ipython2",
   "version": "2.7.6"
  }
 },
 "nbformat": 4,
 "nbformat_minor": 0
}